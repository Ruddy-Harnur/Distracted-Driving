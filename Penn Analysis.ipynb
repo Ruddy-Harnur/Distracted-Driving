{
 "cells": [
  {
   "cell_type": "code",
   "execution_count": 1,
   "metadata": {},
   "outputs": [],
   "source": [
    "import pandas as pd\n",
    "import numpy as np\n",
    "import statsmodels.formula.api as smf\n",
    "import matplotlib.pylab as plt\n",
    "import math\n",
    "from scipy import stats\n",
    "import geopandas as gpd\n",
    "%matplotlib inline"
   ]
  },
  {
   "cell_type": "code",
   "execution_count": 2,
   "metadata": {},
   "outputs": [],
   "source": [
    "import pandas as pd\n",
    "import numpy as np\n",
    "import statsmodels.formula.api as smf\n",
    "import matplotlib.pylab as plt\n",
    "import math\n",
    "from scipy import stats\n",
    "import geopandas as gpd\n",
    "%matplotlib inline"
   ]
  },
  {
   "cell_type": "code",
   "execution_count": 3,
   "metadata": {},
   "outputs": [],
   "source": [
    "import uncertainties\n",
    "from uncertainties import ufloat\n",
    "from uncertainties import unumpy"
   ]
  },
  {
   "cell_type": "code",
   "execution_count": 4,
   "metadata": {},
   "outputs": [
    {
     "name": "stderr",
     "output_type": "stream",
     "text": [
      "C:\\Users\\aniha\\Anaconda3\\lib\\site-packages\\IPython\\core\\interactiveshell.py:3057: DtypeWarning: Columns (30,32) have mixed types. Specify dtype option on import or set low_memory=False.\n",
      "  interactivity=interactivity, compiler=compiler, result=result)\n",
      "C:\\Users\\aniha\\Anaconda3\\lib\\site-packages\\IPython\\core\\interactiveshell.py:3057: DtypeWarning: Columns (11) have mixed types. Specify dtype option on import or set low_memory=False.\n",
      "  interactivity=interactivity, compiler=compiler, result=result)\n",
      "C:\\Users\\aniha\\Anaconda3\\lib\\site-packages\\IPython\\core\\interactiveshell.py:3057: DtypeWarning: Columns (8,9,11,30,32,38) have mixed types. Specify dtype option on import or set low_memory=False.\n",
      "  interactivity=interactivity, compiler=compiler, result=result)\n"
     ]
    }
   ],
   "source": [
    "Penn_2015 = pd.read_csv('PENN_CRASH_2015_Statewide.csv')\n",
    "Penn_2016 = pd.read_csv('PENN_CRASH_2016_Statewide.csv')\n",
    "Penn_2017 = pd.read_csv('PENN_CRASH_2017_Statewide.csv')\n",
    "Penn_2018 = pd.read_csv('PENN_CRASH_2018_Statewide.csv')"
   ]
  },
  {
   "cell_type": "code",
   "execution_count": 5,
   "metadata": {},
   "outputs": [
    {
     "data": {
      "text/plain": [
       "89"
      ]
     },
     "execution_count": 5,
     "metadata": {},
     "output_type": "execute_result"
    }
   ],
   "source": [
    "len(Penn_2017.columns)"
   ]
  },
  {
   "cell_type": "code",
   "execution_count": 6,
   "metadata": {},
   "outputs": [],
   "source": [
    "Penn_2015 = Penn_2015.dropna(axis='columns')\n",
    "Penn_2016 = Penn_2016.dropna(axis='columns')\n",
    "Penn_2017 = Penn_2017.dropna(axis='columns')\n",
    "Penn_2018 = Penn_2018.dropna(axis='columns')"
   ]
  },
  {
   "cell_type": "code",
   "execution_count": 7,
   "metadata": {},
   "outputs": [
    {
     "data": {
      "text/plain": [
       "87"
      ]
     },
     "execution_count": 7,
     "metadata": {},
     "output_type": "execute_result"
    }
   ],
   "source": [
    "len(Penn_2015.columns)"
   ]
  },
  {
   "cell_type": "code",
   "execution_count": 8,
   "metadata": {},
   "outputs": [
    {
     "data": {
      "text/html": [
       "<div>\n",
       "<style scoped>\n",
       "    .dataframe tbody tr th:only-of-type {\n",
       "        vertical-align: middle;\n",
       "    }\n",
       "\n",
       "    .dataframe tbody tr th {\n",
       "        vertical-align: top;\n",
       "    }\n",
       "\n",
       "    .dataframe thead th {\n",
       "        text-align: right;\n",
       "    }\n",
       "</style>\n",
       "<table border=\"1\" class=\"dataframe\">\n",
       "  <thead>\n",
       "    <tr style=\"text-align: right;\">\n",
       "      <th></th>\n",
       "      <th>CRN</th>\n",
       "      <th>DISTRICT</th>\n",
       "      <th>COUNTY</th>\n",
       "      <th>MUNICIPALITY</th>\n",
       "      <th>POLICE_AGCY</th>\n",
       "      <th>CRASH_YEAR</th>\n",
       "      <th>CRASH_MONTH</th>\n",
       "      <th>DAY_OF_WEEK</th>\n",
       "      <th>TIME_OF_DAY</th>\n",
       "      <th>HOUR_OF_DAY</th>\n",
       "      <th>...</th>\n",
       "      <th>MCYCLE_MAJ_INJ_COUNT</th>\n",
       "      <th>BICYCLE_DEATH_COUNT</th>\n",
       "      <th>BICYCLE_MAJ_INJ_COUNT</th>\n",
       "      <th>PED_COUNT</th>\n",
       "      <th>PED_DEATH_COUNT</th>\n",
       "      <th>PED_MAJ_INJ_COUNT</th>\n",
       "      <th>MAX_SEVERITY_LEVEL</th>\n",
       "      <th>COMM_VEH_COUNT</th>\n",
       "      <th>RDWY_SURF_TYPE_CD</th>\n",
       "      <th>COUNTY_YEAR</th>\n",
       "    </tr>\n",
       "  </thead>\n",
       "  <tbody>\n",
       "    <tr>\n",
       "      <th>0</th>\n",
       "      <td>2016000742</td>\n",
       "      <td>6</td>\n",
       "      <td>46</td>\n",
       "      <td>46220</td>\n",
       "      <td>68K01</td>\n",
       "      <td>2016</td>\n",
       "      <td>1</td>\n",
       "      <td>1</td>\n",
       "      <td>1558</td>\n",
       "      <td>15</td>\n",
       "      <td>...</td>\n",
       "      <td>0</td>\n",
       "      <td>0</td>\n",
       "      <td>0</td>\n",
       "      <td>0</td>\n",
       "      <td>0</td>\n",
       "      <td>0</td>\n",
       "      <td>0</td>\n",
       "      <td>0</td>\n",
       "      <td></td>\n",
       "      <td>CRASH_2016_Montgomery</td>\n",
       "    </tr>\n",
       "    <tr>\n",
       "      <th>1</th>\n",
       "      <td>2016004102</td>\n",
       "      <td>6</td>\n",
       "      <td>46</td>\n",
       "      <td>46217</td>\n",
       "      <td>68K03</td>\n",
       "      <td>2016</td>\n",
       "      <td>1</td>\n",
       "      <td>7</td>\n",
       "      <td>2211</td>\n",
       "      <td>22</td>\n",
       "      <td>...</td>\n",
       "      <td>0</td>\n",
       "      <td>0</td>\n",
       "      <td>0</td>\n",
       "      <td>0</td>\n",
       "      <td>0</td>\n",
       "      <td>0</td>\n",
       "      <td>0</td>\n",
       "      <td>0</td>\n",
       "      <td></td>\n",
       "      <td>CRASH_2016_Montgomery</td>\n",
       "    </tr>\n",
       "    <tr>\n",
       "      <th>2</th>\n",
       "      <td>2016004143</td>\n",
       "      <td>6</td>\n",
       "      <td>9</td>\n",
       "      <td>9207</td>\n",
       "      <td>9502</td>\n",
       "      <td>2016</td>\n",
       "      <td>1</td>\n",
       "      <td>4</td>\n",
       "      <td>1205</td>\n",
       "      <td>12</td>\n",
       "      <td>...</td>\n",
       "      <td>0</td>\n",
       "      <td>0</td>\n",
       "      <td>0</td>\n",
       "      <td>0</td>\n",
       "      <td>0</td>\n",
       "      <td>0</td>\n",
       "      <td>8</td>\n",
       "      <td>1</td>\n",
       "      <td></td>\n",
       "      <td>CRASH_2016_Bucks</td>\n",
       "    </tr>\n",
       "    <tr>\n",
       "      <th>3</th>\n",
       "      <td>2016004176</td>\n",
       "      <td>6</td>\n",
       "      <td>46</td>\n",
       "      <td>46416</td>\n",
       "      <td>46416</td>\n",
       "      <td>2016</td>\n",
       "      <td>1</td>\n",
       "      <td>2</td>\n",
       "      <td>2309</td>\n",
       "      <td>23</td>\n",
       "      <td>...</td>\n",
       "      <td>0</td>\n",
       "      <td>0</td>\n",
       "      <td>0</td>\n",
       "      <td>0</td>\n",
       "      <td>0</td>\n",
       "      <td>0</td>\n",
       "      <td>8</td>\n",
       "      <td>0</td>\n",
       "      <td></td>\n",
       "      <td>CRASH_2016_Montgomery</td>\n",
       "    </tr>\n",
       "    <tr>\n",
       "      <th>4</th>\n",
       "      <td>2016005228</td>\n",
       "      <td>5</td>\n",
       "      <td>45</td>\n",
       "      <td>45213</td>\n",
       "      <td>68N06</td>\n",
       "      <td>2016</td>\n",
       "      <td>1</td>\n",
       "      <td>1</td>\n",
       "      <td>52</td>\n",
       "      <td>0</td>\n",
       "      <td>...</td>\n",
       "      <td>0</td>\n",
       "      <td>0</td>\n",
       "      <td>0</td>\n",
       "      <td>0</td>\n",
       "      <td>0</td>\n",
       "      <td>0</td>\n",
       "      <td>9</td>\n",
       "      <td>0</td>\n",
       "      <td></td>\n",
       "      <td>CRASH_2016_Monroe</td>\n",
       "    </tr>\n",
       "  </tbody>\n",
       "</table>\n",
       "<p>5 rows × 87 columns</p>\n",
       "</div>"
      ],
      "text/plain": [
       "          CRN  DISTRICT  COUNTY  MUNICIPALITY POLICE_AGCY  CRASH_YEAR  \\\n",
       "0  2016000742         6      46         46220       68K01        2016   \n",
       "1  2016004102         6      46         46217       68K03        2016   \n",
       "2  2016004143         6       9          9207        9502        2016   \n",
       "3  2016004176         6      46         46416       46416        2016   \n",
       "4  2016005228         5      45         45213       68N06        2016   \n",
       "\n",
       "   CRASH_MONTH  DAY_OF_WEEK  TIME_OF_DAY  HOUR_OF_DAY  ...  \\\n",
       "0            1            1         1558           15  ...   \n",
       "1            1            7         2211           22  ...   \n",
       "2            1            4         1205           12  ...   \n",
       "3            1            2         2309           23  ...   \n",
       "4            1            1           52            0  ...   \n",
       "\n",
       "   MCYCLE_MAJ_INJ_COUNT BICYCLE_DEATH_COUNT  BICYCLE_MAJ_INJ_COUNT  PED_COUNT  \\\n",
       "0                     0                   0                      0          0   \n",
       "1                     0                   0                      0          0   \n",
       "2                     0                   0                      0          0   \n",
       "3                     0                   0                      0          0   \n",
       "4                     0                   0                      0          0   \n",
       "\n",
       "   PED_DEATH_COUNT PED_MAJ_INJ_COUNT MAX_SEVERITY_LEVEL COMM_VEH_COUNT  \\\n",
       "0                0                 0                  0              0   \n",
       "1                0                 0                  0              0   \n",
       "2                0                 0                  8              1   \n",
       "3                0                 0                  8              0   \n",
       "4                0                 0                  9              0   \n",
       "\n",
       "   RDWY_SURF_TYPE_CD            COUNTY_YEAR  \n",
       "0                     CRASH_2016_Montgomery  \n",
       "1                     CRASH_2016_Montgomery  \n",
       "2                          CRASH_2016_Bucks  \n",
       "3                     CRASH_2016_Montgomery  \n",
       "4                         CRASH_2016_Monroe  \n",
       "\n",
       "[5 rows x 87 columns]"
      ]
     },
     "execution_count": 8,
     "metadata": {},
     "output_type": "execute_result"
    }
   ],
   "source": [
    "Penn_2016.head()"
   ]
  },
  {
   "cell_type": "code",
   "execution_count": 9,
   "metadata": {},
   "outputs": [
    {
     "name": "stderr",
     "output_type": "stream",
     "text": [
      "C:\\Users\\aniha\\Anaconda3\\lib\\site-packages\\ipykernel_launcher.py:3: FutureWarning: Sorting because non-concatenation axis is not aligned. A future version\n",
      "of pandas will change to not sort by default.\n",
      "\n",
      "To accept the future behavior, pass 'sort=False'.\n",
      "\n",
      "To retain the current behavior and silence the warning, pass 'sort=True'.\n",
      "\n",
      "  This is separate from the ipykernel package so we can avoid doing imports until\n"
     ]
    }
   ],
   "source": [
    "frames = [Penn_2015, Penn_2016, Penn_2017, Penn_2018]\n",
    "\n",
    "Penn_Aggregate = pd.concat(frames)"
   ]
  },
  {
   "cell_type": "code",
   "execution_count": 10,
   "metadata": {},
   "outputs": [
    {
     "data": {
      "text/plain": [
       "Index(['ARRIVAL_TM', 'AUTOMOBILE_COUNT', 'BELTED_DEATH_COUNT',\n",
       "       'BELTED_MAJ_INJ_COUNT', 'BICYCLE_COUNT', 'BICYCLE_DEATH_COUNT',\n",
       "       'BICYCLE_MAJ_INJ_COUNT', 'BUS_COUNT', 'COLLISION_TYPE',\n",
       "       'COMM_VEH_COUNT', 'CONS_ZONE_SPD_LIM', 'COUNTY', 'COUNTY_NAME',\n",
       "       'COUNTY_YEAR', 'CRASH_MONTH', 'CRASH_YEAR', 'CRN', 'DAY_OF_WEEK',\n",
       "       'DISPATCH_TM', 'DISTRICT', 'DRIVER_COUNT_16YR', 'DRIVER_COUNT_17YR',\n",
       "       'DRIVER_COUNT_18YR', 'DRIVER_COUNT_19YR', 'DRIVER_COUNT_20YR',\n",
       "       'DRIVER_COUNT_50_64YR', 'DRIVER_COUNT_65_74YR', 'DRIVER_COUNT_75PLUS',\n",
       "       'EST_HRS_CLOSED', 'FATAL_COUNT', 'HEAVY_TRUCK_COUNT', 'HOUR_OF_DAY',\n",
       "       'ILLUMINATION', 'INJURY_COUNT', 'INTERSECT_TYPE', 'LANE_CLOSED',\n",
       "       'LATITUDE', 'LN_CLOSE_DIR', 'LOCATION_TYPE', 'LONGITUDE',\n",
       "       'MAJ_INJ_COUNT', 'MAX_SEVERITY_LEVEL', 'MCYCLE_DEATH_COUNT',\n",
       "       'MCYCLE_MAJ_INJ_COUNT', 'MIN_INJ_COUNT', 'MOD_INJ_COUNT',\n",
       "       'MOTORCYCLE_COUNT', 'MUNICIPALITY', 'MUNICIPALITY_NAME',\n",
       "       'NTFY_HIWY_MAINT', 'PED_COUNT', 'PED_DEATH_COUNT', 'PED_MAJ_INJ_COUNT',\n",
       "       'PERSON_COUNT', 'POLICE_AGCY', 'RDWY_SURF_TYPE_CD', 'RELATION_TO_ROAD',\n",
       "       'ROAD_CONDITION', 'SCH_BUS_IND', 'SCH_ZONE_IND', 'SMALL_TRUCK_COUNT',\n",
       "       'SPEC_JURIS_CD', 'SUV_COUNT', 'TCD_FUNC_CD', 'TCD_TYPE',\n",
       "       'TFC_DETOUR_IND', 'TIME_OF_DAY', 'TOTAL_UNITS', 'TOT_INJ_COUNT',\n",
       "       'UNBELTED_OCC_COUNT', 'UNB_DEATH_COUNT', 'UNB_MAJ_INJ_COUNT',\n",
       "       'UNK_INJ_DEG_COUNT', 'UNK_INJ_PER_COUNT', 'URBAN_RURAL', 'VAN_COUNT',\n",
       "       'VEHICLE_COUNT', 'WEATHER', 'WORKERS_PRES', 'WORK_ZONE_IND',\n",
       "       'WORK_ZONE_LOC', 'WORK_ZONE_TYPE', 'WZ_CLOSE_DETOUR', 'WZ_FLAGGER',\n",
       "       'WZ_LAW_OFFCR_IND', 'WZ_LN_CLOSURE', 'WZ_MOVING', 'WZ_OTHER',\n",
       "       'WZ_SHLDER_MDN'],\n",
       "      dtype='object')"
      ]
     },
     "execution_count": 10,
     "metadata": {},
     "output_type": "execute_result"
    }
   ],
   "source": [
    "# Penn_Aggregate = Penn_Aggregate.dropna(axis='columns')\n",
    "Penn_Aggregate.columns"
   ]
  },
  {
   "cell_type": "code",
   "execution_count": 11,
   "metadata": {},
   "outputs": [
    {
     "data": {
      "text/plain": [
       "array([ 1,  2,  3,  4,  5,  6,  7,  8,  9, 10, 11, 12], dtype=int64)"
      ]
     },
     "execution_count": 11,
     "metadata": {},
     "output_type": "execute_result"
    }
   ],
   "source": [
    "Penn_Aggregate['CRASH_MONTH'].unique()"
   ]
  },
  {
   "cell_type": "code",
   "execution_count": 12,
   "metadata": {},
   "outputs": [
    {
     "data": {
      "text/html": [
       "<div>\n",
       "<style scoped>\n",
       "    .dataframe tbody tr th:only-of-type {\n",
       "        vertical-align: middle;\n",
       "    }\n",
       "\n",
       "    .dataframe tbody tr th {\n",
       "        vertical-align: top;\n",
       "    }\n",
       "\n",
       "    .dataframe thead th {\n",
       "        text-align: right;\n",
       "    }\n",
       "</style>\n",
       "<table border=\"1\" class=\"dataframe\">\n",
       "  <thead>\n",
       "    <tr style=\"text-align: right;\">\n",
       "      <th></th>\n",
       "      <th>ARRIVAL_TM</th>\n",
       "      <th>AUTOMOBILE_COUNT</th>\n",
       "      <th>BELTED_DEATH_COUNT</th>\n",
       "      <th>BELTED_MAJ_INJ_COUNT</th>\n",
       "      <th>BICYCLE_COUNT</th>\n",
       "      <th>BICYCLE_DEATH_COUNT</th>\n",
       "      <th>BICYCLE_MAJ_INJ_COUNT</th>\n",
       "      <th>BUS_COUNT</th>\n",
       "      <th>COLLISION_TYPE</th>\n",
       "      <th>COMM_VEH_COUNT</th>\n",
       "      <th>...</th>\n",
       "      <th>WORK_ZONE_IND</th>\n",
       "      <th>WORK_ZONE_LOC</th>\n",
       "      <th>WORK_ZONE_TYPE</th>\n",
       "      <th>WZ_CLOSE_DETOUR</th>\n",
       "      <th>WZ_FLAGGER</th>\n",
       "      <th>WZ_LAW_OFFCR_IND</th>\n",
       "      <th>WZ_LN_CLOSURE</th>\n",
       "      <th>WZ_MOVING</th>\n",
       "      <th>WZ_OTHER</th>\n",
       "      <th>WZ_SHLDER_MDN</th>\n",
       "    </tr>\n",
       "  </thead>\n",
       "  <tbody>\n",
       "    <tr>\n",
       "      <th>0</th>\n",
       "      <td>1451</td>\n",
       "      <td>0</td>\n",
       "      <td>0</td>\n",
       "      <td>0</td>\n",
       "      <td>0</td>\n",
       "      <td>0</td>\n",
       "      <td>0</td>\n",
       "      <td>0</td>\n",
       "      <td>6</td>\n",
       "      <td>0</td>\n",
       "      <td>...</td>\n",
       "      <td>N</td>\n",
       "      <td></td>\n",
       "      <td></td>\n",
       "      <td></td>\n",
       "      <td></td>\n",
       "      <td></td>\n",
       "      <td></td>\n",
       "      <td></td>\n",
       "      <td></td>\n",
       "      <td></td>\n",
       "    </tr>\n",
       "    <tr>\n",
       "      <th>1</th>\n",
       "      <td>1430</td>\n",
       "      <td>0</td>\n",
       "      <td>0</td>\n",
       "      <td>0</td>\n",
       "      <td>0</td>\n",
       "      <td>0</td>\n",
       "      <td>0</td>\n",
       "      <td>0</td>\n",
       "      <td>7</td>\n",
       "      <td>0</td>\n",
       "      <td>...</td>\n",
       "      <td>N</td>\n",
       "      <td></td>\n",
       "      <td></td>\n",
       "      <td></td>\n",
       "      <td></td>\n",
       "      <td></td>\n",
       "      <td></td>\n",
       "      <td></td>\n",
       "      <td></td>\n",
       "      <td></td>\n",
       "    </tr>\n",
       "    <tr>\n",
       "      <th>2</th>\n",
       "      <td>832</td>\n",
       "      <td>0</td>\n",
       "      <td>0</td>\n",
       "      <td>0</td>\n",
       "      <td>0</td>\n",
       "      <td>0</td>\n",
       "      <td>0</td>\n",
       "      <td>0</td>\n",
       "      <td>7</td>\n",
       "      <td>0</td>\n",
       "      <td>...</td>\n",
       "      <td>N</td>\n",
       "      <td></td>\n",
       "      <td></td>\n",
       "      <td></td>\n",
       "      <td></td>\n",
       "      <td></td>\n",
       "      <td></td>\n",
       "      <td></td>\n",
       "      <td></td>\n",
       "      <td></td>\n",
       "    </tr>\n",
       "    <tr>\n",
       "      <th>3</th>\n",
       "      <td>1215</td>\n",
       "      <td>1</td>\n",
       "      <td>0</td>\n",
       "      <td>0</td>\n",
       "      <td>0</td>\n",
       "      <td>0</td>\n",
       "      <td>0</td>\n",
       "      <td>0</td>\n",
       "      <td>7</td>\n",
       "      <td>0</td>\n",
       "      <td>...</td>\n",
       "      <td>N</td>\n",
       "      <td></td>\n",
       "      <td></td>\n",
       "      <td></td>\n",
       "      <td></td>\n",
       "      <td></td>\n",
       "      <td></td>\n",
       "      <td></td>\n",
       "      <td></td>\n",
       "      <td></td>\n",
       "    </tr>\n",
       "    <tr>\n",
       "      <th>4</th>\n",
       "      <td>1855</td>\n",
       "      <td>1</td>\n",
       "      <td>0</td>\n",
       "      <td>0</td>\n",
       "      <td>0</td>\n",
       "      <td>0</td>\n",
       "      <td>0</td>\n",
       "      <td>0</td>\n",
       "      <td>1</td>\n",
       "      <td>0</td>\n",
       "      <td>...</td>\n",
       "      <td>N</td>\n",
       "      <td></td>\n",
       "      <td></td>\n",
       "      <td></td>\n",
       "      <td></td>\n",
       "      <td></td>\n",
       "      <td></td>\n",
       "      <td></td>\n",
       "      <td></td>\n",
       "      <td></td>\n",
       "    </tr>\n",
       "  </tbody>\n",
       "</table>\n",
       "<p>5 rows × 89 columns</p>\n",
       "</div>"
      ],
      "text/plain": [
       "  ARRIVAL_TM  AUTOMOBILE_COUNT  BELTED_DEATH_COUNT  BELTED_MAJ_INJ_COUNT  \\\n",
       "0       1451                 0                   0                     0   \n",
       "1       1430                 0                   0                     0   \n",
       "2        832                 0                   0                     0   \n",
       "3       1215                 1                   0                     0   \n",
       "4       1855                 1                   0                     0   \n",
       "\n",
       "   BICYCLE_COUNT  BICYCLE_DEATH_COUNT  BICYCLE_MAJ_INJ_COUNT  BUS_COUNT  \\\n",
       "0              0                    0                      0          0   \n",
       "1              0                    0                      0          0   \n",
       "2              0                    0                      0          0   \n",
       "3              0                    0                      0          0   \n",
       "4              0                    0                      0          0   \n",
       "\n",
       "   COLLISION_TYPE  COMM_VEH_COUNT  ... WORK_ZONE_IND  WORK_ZONE_LOC  \\\n",
       "0               6               0  ...             N                  \n",
       "1               7               0  ...             N                  \n",
       "2               7               0  ...             N                  \n",
       "3               7               0  ...             N                  \n",
       "4               1               0  ...             N                  \n",
       "\n",
       "  WORK_ZONE_TYPE WZ_CLOSE_DETOUR  WZ_FLAGGER  WZ_LAW_OFFCR_IND  WZ_LN_CLOSURE  \\\n",
       "0                                                                               \n",
       "1                                                                               \n",
       "2                                                                               \n",
       "3                                                                               \n",
       "4                                                                               \n",
       "\n",
       "   WZ_MOVING WZ_OTHER  WZ_SHLDER_MDN  \n",
       "0                                     \n",
       "1                                     \n",
       "2                                     \n",
       "3                                     \n",
       "4                                     \n",
       "\n",
       "[5 rows x 89 columns]"
      ]
     },
     "execution_count": 12,
     "metadata": {},
     "output_type": "execute_result"
    }
   ],
   "source": [
    "Penn_Aggregate.head()"
   ]
  },
  {
   "cell_type": "code",
   "execution_count": 13,
   "metadata": {},
   "outputs": [
    {
     "data": {
      "text/html": [
       "<div>\n",
       "<style scoped>\n",
       "    .dataframe tbody tr th:only-of-type {\n",
       "        vertical-align: middle;\n",
       "    }\n",
       "\n",
       "    .dataframe tbody tr th {\n",
       "        vertical-align: top;\n",
       "    }\n",
       "\n",
       "    .dataframe thead th {\n",
       "        text-align: right;\n",
       "    }\n",
       "</style>\n",
       "<table border=\"1\" class=\"dataframe\">\n",
       "  <thead>\n",
       "    <tr style=\"text-align: right;\">\n",
       "      <th>col_0</th>\n",
       "      <th>count</th>\n",
       "    </tr>\n",
       "    <tr>\n",
       "      <th>CRASH_YEAR</th>\n",
       "      <th></th>\n",
       "    </tr>\n",
       "  </thead>\n",
       "  <tbody>\n",
       "    <tr>\n",
       "      <th>2015</th>\n",
       "      <td>127401</td>\n",
       "    </tr>\n",
       "    <tr>\n",
       "      <th>2016</th>\n",
       "      <td>129395</td>\n",
       "    </tr>\n",
       "    <tr>\n",
       "      <th>2017</th>\n",
       "      <td>128177</td>\n",
       "    </tr>\n",
       "    <tr>\n",
       "      <th>2018</th>\n",
       "      <td>128411</td>\n",
       "    </tr>\n",
       "  </tbody>\n",
       "</table>\n",
       "</div>"
      ],
      "text/plain": [
       "col_0        count\n",
       "CRASH_YEAR        \n",
       "2015        127401\n",
       "2016        129395\n",
       "2017        128177\n",
       "2018        128411"
      ]
     },
     "execution_count": 13,
     "metadata": {},
     "output_type": "execute_result"
    }
   ],
   "source": [
    "df1 = pd.crosstab(Penn_Aggregate['CRASH_YEAR'], 'count')\n",
    "df1.head()"
   ]
  },
  {
   "cell_type": "code",
   "execution_count": 14,
   "metadata": {},
   "outputs": [
    {
     "data": {
      "text/plain": [
       "<matplotlib.axes._subplots.AxesSubplot at 0x1d5d8875400>"
      ]
     },
     "execution_count": 14,
     "metadata": {},
     "output_type": "execute_result"
    },
    {
     "data": {
      "image/png": "[encoded data removed]",
      "text/plain": [
       "<Figure size 432x288 with 1 Axes>"
      ]
     },
     "metadata": {
      "needs_background": "light"
     },
     "output_type": "display_data"
    }
   ],
   "source": [
    "df1.plot()"
   ]
  },
  {
   "cell_type": "code",
   "execution_count": 15,
   "metadata": {},
   "outputs": [],
   "source": [
    "Population = [12784826, 12782275, 12787641, 12800922]"
   ]
  },
  {
   "cell_type": "code",
   "execution_count": 16,
   "metadata": {},
   "outputs": [],
   "source": [
    "df1['Population'] = (Population)"
   ]
  },
  {
   "cell_type": "code",
   "execution_count": 17,
   "metadata": {},
   "outputs": [
    {
     "data": {
      "text/html": [
       "<div>\n",
       "<style scoped>\n",
       "    .dataframe tbody tr th:only-of-type {\n",
       "        vertical-align: middle;\n",
       "    }\n",
       "\n",
       "    .dataframe tbody tr th {\n",
       "        vertical-align: top;\n",
       "    }\n",
       "\n",
       "    .dataframe thead th {\n",
       "        text-align: right;\n",
       "    }\n",
       "</style>\n",
       "<table border=\"1\" class=\"dataframe\">\n",
       "  <thead>\n",
       "    <tr style=\"text-align: right;\">\n",
       "      <th>col_0</th>\n",
       "      <th>count</th>\n",
       "      <th>Population</th>\n",
       "    </tr>\n",
       "    <tr>\n",
       "      <th>CRASH_YEAR</th>\n",
       "      <th></th>\n",
       "      <th></th>\n",
       "    </tr>\n",
       "  </thead>\n",
       "  <tbody>\n",
       "    <tr>\n",
       "      <th>2015</th>\n",
       "      <td>127401</td>\n",
       "      <td>12784826</td>\n",
       "    </tr>\n",
       "    <tr>\n",
       "      <th>2016</th>\n",
       "      <td>129395</td>\n",
       "      <td>12782275</td>\n",
       "    </tr>\n",
       "    <tr>\n",
       "      <th>2017</th>\n",
       "      <td>128177</td>\n",
       "      <td>12787641</td>\n",
       "    </tr>\n",
       "    <tr>\n",
       "      <th>2018</th>\n",
       "      <td>128411</td>\n",
       "      <td>12800922</td>\n",
       "    </tr>\n",
       "  </tbody>\n",
       "</table>\n",
       "</div>"
      ],
      "text/plain": [
       "col_0        count  Population\n",
       "CRASH_YEAR                    \n",
       "2015        127401    12784826\n",
       "2016        129395    12782275\n",
       "2017        128177    12787641\n",
       "2018        128411    12800922"
      ]
     },
     "execution_count": 17,
     "metadata": {},
     "output_type": "execute_result"
    }
   ],
   "source": [
    "df1.head()"
   ]
  },
  {
   "cell_type": "code",
   "execution_count": 18,
   "metadata": {},
   "outputs": [],
   "source": [
    "df1=df1.reset_index()"
   ]
  },
  {
   "cell_type": "code",
   "execution_count": 19,
   "metadata": {},
   "outputs": [
    {
     "data": {
      "text/html": [
       "<div>\n",
       "<style scoped>\n",
       "    .dataframe tbody tr th:only-of-type {\n",
       "        vertical-align: middle;\n",
       "    }\n",
       "\n",
       "    .dataframe tbody tr th {\n",
       "        vertical-align: top;\n",
       "    }\n",
       "\n",
       "    .dataframe thead th {\n",
       "        text-align: right;\n",
       "    }\n",
       "</style>\n",
       "<table border=\"1\" class=\"dataframe\">\n",
       "  <thead>\n",
       "    <tr style=\"text-align: right;\">\n",
       "      <th>col_0</th>\n",
       "      <th>CRASH_YEAR</th>\n",
       "      <th>count</th>\n",
       "      <th>Population</th>\n",
       "    </tr>\n",
       "  </thead>\n",
       "  <tbody>\n",
       "    <tr>\n",
       "      <th>0</th>\n",
       "      <td>2015</td>\n",
       "      <td>127401</td>\n",
       "      <td>12784826</td>\n",
       "    </tr>\n",
       "    <tr>\n",
       "      <th>1</th>\n",
       "      <td>2016</td>\n",
       "      <td>129395</td>\n",
       "      <td>12782275</td>\n",
       "    </tr>\n",
       "    <tr>\n",
       "      <th>2</th>\n",
       "      <td>2017</td>\n",
       "      <td>128177</td>\n",
       "      <td>12787641</td>\n",
       "    </tr>\n",
       "    <tr>\n",
       "      <th>3</th>\n",
       "      <td>2018</td>\n",
       "      <td>128411</td>\n",
       "      <td>12800922</td>\n",
       "    </tr>\n",
       "  </tbody>\n",
       "</table>\n",
       "</div>"
      ],
      "text/plain": [
       "col_0  CRASH_YEAR   count  Population\n",
       "0            2015  127401    12784826\n",
       "1            2016  129395    12782275\n",
       "2            2017  128177    12787641\n",
       "3            2018  128411    12800922"
      ]
     },
     "execution_count": 19,
     "metadata": {},
     "output_type": "execute_result"
    }
   ],
   "source": [
    "df1.head()"
   ]
  },
  {
   "cell_type": "code",
   "execution_count": 20,
   "metadata": {},
   "outputs": [],
   "source": [
    "df1['Crashes_Normalized'] = df1['count']/df1['Population']"
   ]
  },
  {
   "cell_type": "code",
   "execution_count": 21,
   "metadata": {},
   "outputs": [
    {
     "data": {
      "text/html": [
       "<div>\n",
       "<style scoped>\n",
       "    .dataframe tbody tr th:only-of-type {\n",
       "        vertical-align: middle;\n",
       "    }\n",
       "\n",
       "    .dataframe tbody tr th {\n",
       "        vertical-align: top;\n",
       "    }\n",
       "\n",
       "    .dataframe thead th {\n",
       "        text-align: right;\n",
       "    }\n",
       "</style>\n",
       "<table border=\"1\" class=\"dataframe\">\n",
       "  <thead>\n",
       "    <tr style=\"text-align: right;\">\n",
       "      <th>col_0</th>\n",
       "      <th>CRASH_YEAR</th>\n",
       "      <th>count</th>\n",
       "      <th>Population</th>\n",
       "      <th>Crashes_Normalized</th>\n",
       "      <th>log_count</th>\n",
       "      <th>log_pop</th>\n",
       "      <th>log_Normal</th>\n",
       "    </tr>\n",
       "  </thead>\n",
       "  <tbody>\n",
       "    <tr>\n",
       "      <th>0</th>\n",
       "      <td>2015</td>\n",
       "      <td>127401</td>\n",
       "      <td>12784826</td>\n",
       "      <td>0.009965</td>\n",
       "      <td>11.755095</td>\n",
       "      <td>16.363770</td>\n",
       "      <td>-4.608675</td>\n",
       "    </tr>\n",
       "    <tr>\n",
       "      <th>1</th>\n",
       "      <td>2016</td>\n",
       "      <td>129395</td>\n",
       "      <td>12782275</td>\n",
       "      <td>0.010123</td>\n",
       "      <td>11.770625</td>\n",
       "      <td>16.363570</td>\n",
       "      <td>-4.592945</td>\n",
       "    </tr>\n",
       "    <tr>\n",
       "      <th>2</th>\n",
       "      <td>2017</td>\n",
       "      <td>128177</td>\n",
       "      <td>12787641</td>\n",
       "      <td>0.010024</td>\n",
       "      <td>11.761167</td>\n",
       "      <td>16.363990</td>\n",
       "      <td>-4.602822</td>\n",
       "    </tr>\n",
       "    <tr>\n",
       "      <th>3</th>\n",
       "      <td>2018</td>\n",
       "      <td>128411</td>\n",
       "      <td>12800922</td>\n",
       "      <td>0.010031</td>\n",
       "      <td>11.762991</td>\n",
       "      <td>16.365028</td>\n",
       "      <td>-4.602036</td>\n",
       "    </tr>\n",
       "  </tbody>\n",
       "</table>\n",
       "</div>"
      ],
      "text/plain": [
       "col_0  CRASH_YEAR   count  Population  Crashes_Normalized  log_count  \\\n",
       "0            2015  127401    12784826            0.009965  11.755095   \n",
       "1            2016  129395    12782275            0.010123  11.770625   \n",
       "2            2017  128177    12787641            0.010024  11.761167   \n",
       "3            2018  128411    12800922            0.010031  11.762991   \n",
       "\n",
       "col_0    log_pop  log_Normal  \n",
       "0      16.363770   -4.608675  \n",
       "1      16.363570   -4.592945  \n",
       "2      16.363990   -4.602822  \n",
       "3      16.365028   -4.602036  "
      ]
     },
     "execution_count": 21,
     "metadata": {},
     "output_type": "execute_result"
    }
   ],
   "source": [
    "df1['log_count'] = np.log(df1['count'])\n",
    "df1['log_pop'] = np.log(df1['Population'])\n",
    "df1['log_Normal'] = np.log(df1['Crashes_Normalized'])\n",
    "df1.head()"
   ]
  },
  {
   "cell_type": "code",
   "execution_count": 22,
   "metadata": {},
   "outputs": [
    {
     "data": {
      "image/png": "[encoded data removed]",
      "text/plain": [
       "<Figure size 432x288 with 1 Axes>"
      ]
     },
     "metadata": {
      "needs_background": "light"
     },
     "output_type": "display_data"
    }
   ],
   "source": [
    "import matplotlib.pylab as plt\n",
    "%matplotlib inline\n",
    "\n",
    "# your code here\n",
    "#Plotting the depth vs accuracy\n",
    "fig, ax = plt.subplots() #get axis to plot on\n",
    "df1.plot(ax=ax,x='CRASH_YEAR',y='log_Normal')#, yticks=np.arange(0, 175000, step=25000)) #show the data\n",
    "plt.ylabel('Total Crashes Per Year')\n",
    "plt.show()"
   ]
  },
  {
   "cell_type": "code",
   "execution_count": 23,
   "metadata": {},
   "outputs": [],
   "source": [
    "arr = unumpy.uarray([1, 2], [0.01, 0.002])"
   ]
  },
  {
   "cell_type": "code",
   "execution_count": null,
   "metadata": {},
   "outputs": [],
   "source": []
  },
  {
   "cell_type": "code",
   "execution_count": 24,
   "metadata": {},
   "outputs": [
    {
     "data": {
      "image/png": "[encoded data removed]",
      "text/plain": [
       "<Figure size 432x288 with 1 Axes>"
      ]
     },
     "metadata": {
      "needs_background": "light"
     },
     "output_type": "display_data"
    }
   ],
   "source": [
    "import matplotlib.pylab as plt\n",
    "%matplotlib inline\n",
    "\n",
    "# your code here\n",
    "#Plotting the depth vs accuracy\n",
    "fig, ax = plt.subplots() #get axis to plot on\n",
    "df1.plot(ax=ax,x='CRASH_YEAR',y='count')#, yticks=np.arange(0, 175000, step=25000)) #show the data\n",
    "plt.ylabel('Total Crashes Per Year')\n",
    "plt.show()"
   ]
  },
  {
   "cell_type": "code",
   "execution_count": 25,
   "metadata": {},
   "outputs": [
    {
     "data": {
      "image/png": "[encoded data removed]",
      "text/plain": [
       "<Figure size 432x288 with 1 Axes>"
      ]
     },
     "metadata": {
      "needs_background": "light"
     },
     "output_type": "display_data"
    }
   ],
   "source": [
    "import matplotlib.pylab as plt\n",
    "%matplotlib inline\n",
    "\n",
    "# your code here\n",
    "#Plotting the depth vs accuracy\n",
    "fig, ax = plt.subplots() #get axis to plot on\n",
    "df1.plot(ax=ax,x='CRASH_YEAR',y='Crashes_Normalized') #show the data\n",
    "plt.ylabel('Crashes Per Population')\n",
    "plt.show()"
   ]
  },
  {
   "cell_type": "code",
   "execution_count": 26,
   "metadata": {},
   "outputs": [],
   "source": [
    "df3 = pd.crosstab(Penn_Aggregate['CRASH_YEAR'],Penn_Aggregate['CRASH_MONTH'])#, 'count')\n",
    "\n",
    "#df1 = pd.crosstab(Penn_Aggregate['CRASH_YEAR'], 'count')"
   ]
  },
  {
   "cell_type": "code",
   "execution_count": 27,
   "metadata": {},
   "outputs": [
    {
     "data": {
      "text/html": [
       "<div>\n",
       "<style scoped>\n",
       "    .dataframe tbody tr th:only-of-type {\n",
       "        vertical-align: middle;\n",
       "    }\n",
       "\n",
       "    .dataframe tbody tr th {\n",
       "        vertical-align: top;\n",
       "    }\n",
       "\n",
       "    .dataframe thead th {\n",
       "        text-align: right;\n",
       "    }\n",
       "</style>\n",
       "<table border=\"1\" class=\"dataframe\">\n",
       "  <thead>\n",
       "    <tr style=\"text-align: right;\">\n",
       "      <th>CRASH_MONTH</th>\n",
       "      <th>1</th>\n",
       "      <th>2</th>\n",
       "      <th>3</th>\n",
       "      <th>4</th>\n",
       "      <th>5</th>\n",
       "      <th>6</th>\n",
       "      <th>7</th>\n",
       "      <th>8</th>\n",
       "      <th>9</th>\n",
       "      <th>10</th>\n",
       "      <th>11</th>\n",
       "      <th>12</th>\n",
       "    </tr>\n",
       "    <tr>\n",
       "      <th>CRASH_YEAR</th>\n",
       "      <th></th>\n",
       "      <th></th>\n",
       "      <th></th>\n",
       "      <th></th>\n",
       "      <th></th>\n",
       "      <th></th>\n",
       "      <th></th>\n",
       "      <th></th>\n",
       "      <th></th>\n",
       "      <th></th>\n",
       "      <th></th>\n",
       "      <th></th>\n",
       "    </tr>\n",
       "  </thead>\n",
       "  <tbody>\n",
       "    <tr>\n",
       "      <th>2015</th>\n",
       "      <td>13338</td>\n",
       "      <td>10656</td>\n",
       "      <td>10737</td>\n",
       "      <td>8581</td>\n",
       "      <td>10052</td>\n",
       "      <td>9851</td>\n",
       "      <td>9708</td>\n",
       "      <td>10068</td>\n",
       "      <td>9958</td>\n",
       "      <td>11728</td>\n",
       "      <td>11264</td>\n",
       "      <td>11460</td>\n",
       "    </tr>\n",
       "    <tr>\n",
       "      <th>2016</th>\n",
       "      <td>11137</td>\n",
       "      <td>10533</td>\n",
       "      <td>9107</td>\n",
       "      <td>10006</td>\n",
       "      <td>10552</td>\n",
       "      <td>10430</td>\n",
       "      <td>10288</td>\n",
       "      <td>10588</td>\n",
       "      <td>10490</td>\n",
       "      <td>11854</td>\n",
       "      <td>12001</td>\n",
       "      <td>12409</td>\n",
       "    </tr>\n",
       "    <tr>\n",
       "      <th>2017</th>\n",
       "      <td>11171</td>\n",
       "      <td>9062</td>\n",
       "      <td>10345</td>\n",
       "      <td>9534</td>\n",
       "      <td>10904</td>\n",
       "      <td>10596</td>\n",
       "      <td>9618</td>\n",
       "      <td>10351</td>\n",
       "      <td>10334</td>\n",
       "      <td>12250</td>\n",
       "      <td>11356</td>\n",
       "      <td>12656</td>\n",
       "    </tr>\n",
       "    <tr>\n",
       "      <th>2018</th>\n",
       "      <td>12500</td>\n",
       "      <td>10740</td>\n",
       "      <td>10457</td>\n",
       "      <td>8727</td>\n",
       "      <td>10478</td>\n",
       "      <td>9921</td>\n",
       "      <td>10026</td>\n",
       "      <td>10302</td>\n",
       "      <td>10225</td>\n",
       "      <td>11776</td>\n",
       "      <td>12369</td>\n",
       "      <td>10890</td>\n",
       "    </tr>\n",
       "  </tbody>\n",
       "</table>\n",
       "</div>"
      ],
      "text/plain": [
       "CRASH_MONTH     1      2      3      4      5      6      7      8      9   \\\n",
       "CRASH_YEAR                                                                   \n",
       "2015         13338  10656  10737   8581  10052   9851   9708  10068   9958   \n",
       "2016         11137  10533   9107  10006  10552  10430  10288  10588  10490   \n",
       "2017         11171   9062  10345   9534  10904  10596   9618  10351  10334   \n",
       "2018         12500  10740  10457   8727  10478   9921  10026  10302  10225   \n",
       "\n",
       "CRASH_MONTH     10     11     12  \n",
       "CRASH_YEAR                        \n",
       "2015         11728  11264  11460  \n",
       "2016         11854  12001  12409  \n",
       "2017         12250  11356  12656  \n",
       "2018         11776  12369  10890  "
      ]
     },
     "execution_count": 27,
     "metadata": {},
     "output_type": "execute_result"
    }
   ],
   "source": [
    "df3.head()"
   ]
  },
  {
   "cell_type": "code",
   "execution_count": 28,
   "metadata": {},
   "outputs": [
    {
     "data": {
      "text/plain": [
       "<matplotlib.axes._subplots.AxesSubplot at 0x1d5ef82ecc0>"
      ]
     },
     "execution_count": 28,
     "metadata": {},
     "output_type": "execute_result"
    },
    {
     "data": {
      "image/png": "[encoded data removed]",
      "text/plain": [
       "<Figure size 432x288 with 1 Axes>"
      ]
     },
     "metadata": {
      "needs_background": "light"
     },
     "output_type": "display_data"
    }
   ],
   "source": [
    "df3 = df3.T\n",
    "df3.plot()"
   ]
  },
  {
   "cell_type": "code",
   "execution_count": 29,
   "metadata": {},
   "outputs": [
    {
     "data": {
      "text/html": [
       "<div>\n",
       "<style scoped>\n",
       "    .dataframe tbody tr th:only-of-type {\n",
       "        vertical-align: middle;\n",
       "    }\n",
       "\n",
       "    .dataframe tbody tr th {\n",
       "        vertical-align: top;\n",
       "    }\n",
       "\n",
       "    .dataframe thead th {\n",
       "        text-align: right;\n",
       "    }\n",
       "</style>\n",
       "<table border=\"1\" class=\"dataframe\">\n",
       "  <thead>\n",
       "    <tr style=\"text-align: right;\">\n",
       "      <th>CRASH_YEAR</th>\n",
       "      <th>2015</th>\n",
       "      <th>2016</th>\n",
       "      <th>2017</th>\n",
       "      <th>2018</th>\n",
       "    </tr>\n",
       "    <tr>\n",
       "      <th>CRASH_MONTH</th>\n",
       "      <th></th>\n",
       "      <th></th>\n",
       "      <th></th>\n",
       "      <th></th>\n",
       "    </tr>\n",
       "  </thead>\n",
       "  <tbody>\n",
       "    <tr>\n",
       "      <th>1</th>\n",
       "      <td>13338</td>\n",
       "      <td>11137</td>\n",
       "      <td>11171</td>\n",
       "      <td>12500</td>\n",
       "    </tr>\n",
       "    <tr>\n",
       "      <th>2</th>\n",
       "      <td>10656</td>\n",
       "      <td>10533</td>\n",
       "      <td>9062</td>\n",
       "      <td>10740</td>\n",
       "    </tr>\n",
       "    <tr>\n",
       "      <th>3</th>\n",
       "      <td>10737</td>\n",
       "      <td>9107</td>\n",
       "      <td>10345</td>\n",
       "      <td>10457</td>\n",
       "    </tr>\n",
       "    <tr>\n",
       "      <th>4</th>\n",
       "      <td>8581</td>\n",
       "      <td>10006</td>\n",
       "      <td>9534</td>\n",
       "      <td>8727</td>\n",
       "    </tr>\n",
       "    <tr>\n",
       "      <th>5</th>\n",
       "      <td>10052</td>\n",
       "      <td>10552</td>\n",
       "      <td>10904</td>\n",
       "      <td>10478</td>\n",
       "    </tr>\n",
       "    <tr>\n",
       "      <th>6</th>\n",
       "      <td>9851</td>\n",
       "      <td>10430</td>\n",
       "      <td>10596</td>\n",
       "      <td>9921</td>\n",
       "    </tr>\n",
       "    <tr>\n",
       "      <th>7</th>\n",
       "      <td>9708</td>\n",
       "      <td>10288</td>\n",
       "      <td>9618</td>\n",
       "      <td>10026</td>\n",
       "    </tr>\n",
       "    <tr>\n",
       "      <th>8</th>\n",
       "      <td>10068</td>\n",
       "      <td>10588</td>\n",
       "      <td>10351</td>\n",
       "      <td>10302</td>\n",
       "    </tr>\n",
       "    <tr>\n",
       "      <th>9</th>\n",
       "      <td>9958</td>\n",
       "      <td>10490</td>\n",
       "      <td>10334</td>\n",
       "      <td>10225</td>\n",
       "    </tr>\n",
       "    <tr>\n",
       "      <th>10</th>\n",
       "      <td>11728</td>\n",
       "      <td>11854</td>\n",
       "      <td>12250</td>\n",
       "      <td>11776</td>\n",
       "    </tr>\n",
       "    <tr>\n",
       "      <th>11</th>\n",
       "      <td>11264</td>\n",
       "      <td>12001</td>\n",
       "      <td>11356</td>\n",
       "      <td>12369</td>\n",
       "    </tr>\n",
       "    <tr>\n",
       "      <th>12</th>\n",
       "      <td>11460</td>\n",
       "      <td>12409</td>\n",
       "      <td>12656</td>\n",
       "      <td>10890</td>\n",
       "    </tr>\n",
       "  </tbody>\n",
       "</table>\n",
       "</div>"
      ],
      "text/plain": [
       "CRASH_YEAR    2015   2016   2017   2018\n",
       "CRASH_MONTH                            \n",
       "1            13338  11137  11171  12500\n",
       "2            10656  10533   9062  10740\n",
       "3            10737   9107  10345  10457\n",
       "4             8581  10006   9534   8727\n",
       "5            10052  10552  10904  10478\n",
       "6             9851  10430  10596   9921\n",
       "7             9708  10288   9618  10026\n",
       "8            10068  10588  10351  10302\n",
       "9             9958  10490  10334  10225\n",
       "10           11728  11854  12250  11776\n",
       "11           11264  12001  11356  12369\n",
       "12           11460  12409  12656  10890"
      ]
     },
     "execution_count": 29,
     "metadata": {},
     "output_type": "execute_result"
    }
   ],
   "source": [
    "df3"
   ]
  },
  {
   "cell_type": "code",
   "execution_count": 39,
   "metadata": {},
   "outputs": [],
   "source": [
    "years = [2015, 2016, 2017, 2018]"
   ]
  },
  {
   "cell_type": "code",
   "execution_count": 40,
   "metadata": {},
   "outputs": [
    {
     "data": {
      "text/html": [
       "<div>\n",
       "<style scoped>\n",
       "    .dataframe tbody tr th:only-of-type {\n",
       "        vertical-align: middle;\n",
       "    }\n",
       "\n",
       "    .dataframe tbody tr th {\n",
       "        vertical-align: top;\n",
       "    }\n",
       "\n",
       "    .dataframe thead th {\n",
       "        text-align: right;\n",
       "    }\n",
       "</style>\n",
       "<table border=\"1\" class=\"dataframe\">\n",
       "  <thead>\n",
       "    <tr style=\"text-align: right;\">\n",
       "      <th>CRASH_YEAR</th>\n",
       "      <th>2015</th>\n",
       "      <th>2016</th>\n",
       "      <th>2017</th>\n",
       "      <th>2018</th>\n",
       "    </tr>\n",
       "    <tr>\n",
       "      <th>CRASH_MONTH</th>\n",
       "      <th></th>\n",
       "      <th></th>\n",
       "      <th></th>\n",
       "      <th></th>\n",
       "    </tr>\n",
       "  </thead>\n",
       "  <tbody>\n",
       "    <tr>\n",
       "      <th>1</th>\n",
       "      <td>0.001043</td>\n",
       "      <td>0.000871</td>\n",
       "      <td>0.000874</td>\n",
       "      <td>0.000976</td>\n",
       "    </tr>\n",
       "    <tr>\n",
       "      <th>2</th>\n",
       "      <td>0.000833</td>\n",
       "      <td>0.000824</td>\n",
       "      <td>0.000709</td>\n",
       "      <td>0.000839</td>\n",
       "    </tr>\n",
       "    <tr>\n",
       "      <th>3</th>\n",
       "      <td>0.000840</td>\n",
       "      <td>0.000712</td>\n",
       "      <td>0.000809</td>\n",
       "      <td>0.000817</td>\n",
       "    </tr>\n",
       "    <tr>\n",
       "      <th>4</th>\n",
       "      <td>0.000671</td>\n",
       "      <td>0.000783</td>\n",
       "      <td>0.000746</td>\n",
       "      <td>0.000682</td>\n",
       "    </tr>\n",
       "    <tr>\n",
       "      <th>5</th>\n",
       "      <td>0.000786</td>\n",
       "      <td>0.000826</td>\n",
       "      <td>0.000853</td>\n",
       "      <td>0.000819</td>\n",
       "    </tr>\n",
       "  </tbody>\n",
       "</table>\n",
       "</div>"
      ],
      "text/plain": [
       "CRASH_YEAR       2015      2016      2017      2018\n",
       "CRASH_MONTH                                        \n",
       "1            0.001043  0.000871  0.000874  0.000976\n",
       "2            0.000833  0.000824  0.000709  0.000839\n",
       "3            0.000840  0.000712  0.000809  0.000817\n",
       "4            0.000671  0.000783  0.000746  0.000682\n",
       "5            0.000786  0.000826  0.000853  0.000819"
      ]
     },
     "execution_count": 40,
     "metadata": {},
     "output_type": "execute_result"
    }
   ],
   "source": [
    "df_monthly_normal = df3\n",
    "df_monthly_normal[2015] = df_monthly_normal[2015]/12784826\n",
    "df_monthly_normal[2016] = df_monthly_normal[2016]/12782275\n",
    "df_monthly_normal[2017] = df_monthly_normal[2017]/12787641\n",
    "df_monthly_normal[2018] = df_monthly_normal[2018]/12800922\n",
    "#Population = [12784826, 12782275, 12787641, 12800922]\n",
    "\n",
    "#df4[2010] = df4[2010] / 37319502\n",
    "df_monthly_normal.head()"
   ]
  },
  {
   "cell_type": "code",
   "execution_count": 41,
   "metadata": {},
   "outputs": [
    {
     "data": {
      "text/plain": [
       "<matplotlib.axes._subplots.AxesSubplot at 0x1d5f6e4e828>"
      ]
     },
     "execution_count": 41,
     "metadata": {},
     "output_type": "execute_result"
    },
    {
     "data": {
      "image/png": "[encoded data removed]",
      "text/plain": [
       "<Figure size 432x288 with 1 Axes>"
      ]
     },
     "metadata": {
      "needs_background": "light"
     },
     "output_type": "display_data"
    }
   ],
   "source": [
    "df_monthly_normal.plot()"
   ]
  },
  {
   "cell_type": "code",
   "execution_count": 30,
   "metadata": {},
   "outputs": [],
   "source": [
    "#ILLUMINATIONa\n",
    "\n",
    "\n",
    "df4 = pd.crosstab(Penn_Aggregate['CRASH_YEAR'],Penn_Aggregate['ILLUMINATION'])"
   ]
  },
  {
   "cell_type": "code",
   "execution_count": 31,
   "metadata": {},
   "outputs": [
    {
     "data": {
      "text/plain": [
       "<matplotlib.axes._subplots.AxesSubplot at 0x1d5ef8bb2e8>"
      ]
     },
     "execution_count": 31,
     "metadata": {},
     "output_type": "execute_result"
    },
    {
     "data": {
      "image/png": "[encoded data removed]",
      "text/plain": [
       "<Figure size 432x288 with 1 Axes>"
      ]
     },
     "metadata": {
      "needs_background": "light"
     },
     "output_type": "display_data"
    }
   ],
   "source": [
    "df4.T.plot()"
   ]
  },
  {
   "cell_type": "code",
   "execution_count": 32,
   "metadata": {},
   "outputs": [
    {
     "data": {
      "text/plain": [
       "1.6558307232013463"
      ]
     },
     "execution_count": 32,
     "metadata": {},
     "output_type": "execute_result"
    }
   ],
   "source": [
    "(unumpy.nominal_values(Penn_Aggregate['ILLUMINATION'])).mean()"
   ]
  },
  {
   "cell_type": "code",
   "execution_count": 33,
   "metadata": {},
   "outputs": [
    {
     "data": {
      "text/html": [
       "<div>\n",
       "<style scoped>\n",
       "    .dataframe tbody tr th:only-of-type {\n",
       "        vertical-align: middle;\n",
       "    }\n",
       "\n",
       "    .dataframe tbody tr th {\n",
       "        vertical-align: top;\n",
       "    }\n",
       "\n",
       "    .dataframe thead th {\n",
       "        text-align: right;\n",
       "    }\n",
       "</style>\n",
       "<table border=\"1\" class=\"dataframe\">\n",
       "  <thead>\n",
       "    <tr style=\"text-align: right;\">\n",
       "      <th>FATAL_COUNT</th>\n",
       "      <th>0</th>\n",
       "      <th>1</th>\n",
       "      <th>2</th>\n",
       "      <th>3</th>\n",
       "      <th>4</th>\n",
       "      <th>5</th>\n",
       "    </tr>\n",
       "    <tr>\n",
       "      <th>CRASH_YEAR</th>\n",
       "      <th></th>\n",
       "      <th></th>\n",
       "      <th></th>\n",
       "      <th></th>\n",
       "      <th></th>\n",
       "      <th></th>\n",
       "    </tr>\n",
       "  </thead>\n",
       "  <tbody>\n",
       "    <tr>\n",
       "      <th>2015</th>\n",
       "      <td>126299</td>\n",
       "      <td>1021</td>\n",
       "      <td>65</td>\n",
       "      <td>15</td>\n",
       "      <td>1</td>\n",
       "      <td>0</td>\n",
       "    </tr>\n",
       "    <tr>\n",
       "      <th>2016</th>\n",
       "      <td>128307</td>\n",
       "      <td>1009</td>\n",
       "      <td>63</td>\n",
       "      <td>13</td>\n",
       "      <td>1</td>\n",
       "      <td>2</td>\n",
       "    </tr>\n",
       "    <tr>\n",
       "      <th>2017</th>\n",
       "      <td>127096</td>\n",
       "      <td>1031</td>\n",
       "      <td>47</td>\n",
       "      <td>2</td>\n",
       "      <td>1</td>\n",
       "      <td>0</td>\n",
       "    </tr>\n",
       "    <tr>\n",
       "      <th>2018</th>\n",
       "      <td>127308</td>\n",
       "      <td>1027</td>\n",
       "      <td>66</td>\n",
       "      <td>9</td>\n",
       "      <td>1</td>\n",
       "      <td>0</td>\n",
       "    </tr>\n",
       "  </tbody>\n",
       "</table>\n",
       "</div>"
      ],
      "text/plain": [
       "FATAL_COUNT       0     1   2   3  4  5\n",
       "CRASH_YEAR                             \n",
       "2015         126299  1021  65  15  1  0\n",
       "2016         128307  1009  63  13  1  2\n",
       "2017         127096  1031  47   2  1  0\n",
       "2018         127308  1027  66   9  1  0"
      ]
     },
     "execution_count": 33,
     "metadata": {},
     "output_type": "execute_result"
    }
   ],
   "source": [
    "df5 = pd.crosstab(Penn_Aggregate['CRASH_YEAR'],Penn_Aggregate['FATAL_COUNT'])\n",
    "df5\n"
   ]
  },
  {
   "cell_type": "code",
   "execution_count": 34,
   "metadata": {},
   "outputs": [],
   "source": [
    "from sklearn.linear_model import LinearRegression"
   ]
  },
  {
   "cell_type": "code",
   "execution_count": 35,
   "metadata": {},
   "outputs": [
    {
     "data": {
      "text/plain": [
       "Int64Index([2015, 2016, 2017, 2018], dtype='int64', name='CRASH_YEAR')"
      ]
     },
     "execution_count": 35,
     "metadata": {},
     "output_type": "execute_result"
    }
   ],
   "source": [
    "df3.columns"
   ]
  },
  {
   "cell_type": "code",
   "execution_count": 37,
   "metadata": {},
   "outputs": [],
   "source": [
    "#lm = LinearRegression(fit_intercept=False).fit(REStaten_[['GROSS_SQUARE_FEET']], REStaten_['SALE_PRICE'])"
   ]
  },
  {
   "cell_type": "code",
   "execution_count": null,
   "metadata": {},
   "outputs": [],
   "source": []
  }
 ],
 "metadata": {
  "kernelspec": {
   "display_name": "Python 3",
   "language": "python",
   "name": "python3"
  },
  "language_info": {
   "codemirror_mode": {
    "name": "ipython",
    "version": 3
   },
   "file_extension": ".py",
   "mimetype": "text/x-python",
   "name": "python",
   "nbconvert_exporter": "python",
   "pygments_lexer": "ipython3",
   "version": "3.7.3"
  }
 },
 "nbformat": 4,
 "nbformat_minor": 2
}
