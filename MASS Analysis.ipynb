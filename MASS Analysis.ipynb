{
 "cells": [
  {
   "cell_type": "code",
   "execution_count": 1,
   "metadata": {},
   "outputs": [],
   "source": [
    "import pandas as pd\n",
    "import numpy as np\n",
    "import statsmodels.formula.api as smf\n",
    "import matplotlib.pylab as plt\n",
    "import math\n",
    "from scipy import stats\n",
    "import geopandas as gpd\n",
    "%matplotlib inline"
   ]
  },
  {
   "cell_type": "code",
   "execution_count": 2,
   "metadata": {},
   "outputs": [],
   "source": [
    "import datetime\n",
    "from datetime import datetime"
   ]
  },
  {
   "cell_type": "code",
   "execution_count": null,
   "metadata": {},
   "outputs": [],
   "source": [
    "# Mass_2015 = pd.read_csv('Mass_2015_Crashes.csv', low_memory=False)#, low_memmory=False)\n",
    "# Mass_2016 = pd.read_csv('Mass_2016_Crashes.csv', low_memory=False)\n",
    "# Mass_2017 = pd.read_csv('Mass_2017_Crashes.csv', low_memory=False)\n",
    "# Mass_2018 = pd.read_csv('Mass_2018_Crashes.csv', low_memory=False)\n",
    "# Mass_2019 = pd.read_csv('Mass_2019_Crashes.csv', low_memory=False)"
   ]
  },
  {
   "cell_type": "code",
   "execution_count": null,
   "metadata": {},
   "outputs": [],
   "source": [
    "#len(Mass_2019.columns)"
   ]
  },
  {
   "cell_type": "code",
   "execution_count": null,
   "metadata": {},
   "outputs": [],
   "source": [
    "# Mass_2015 = Mass_2015.dropna(axis='columns')\n",
    "# Mass_2016 = Mass_2016.dropna(axis='columns')\n",
    "# Mass_2017 = Mass_2017.dropna(axis='columns')\n",
    "# Mass_2018 = Mass_2018.dropna(axis='columns')\n",
    "# Mass_2019 = Mass_2019.dropna(axis='columns')"
   ]
  },
  {
   "cell_type": "code",
   "execution_count": null,
   "metadata": {},
   "outputs": [],
   "source": [
    "# print('2015: {}, 2016: {}, 2017: {}, 2018: {}, 2019: {}'.format(len(Mass_2015.columns),len(Mass_2016.columns),\n",
    "#                                                             len(Mass_2017.columns), len(Mass_2018.columns),\n",
    "#                                                             len(Mass_2019.columns)))"
   ]
  },
  {
   "cell_type": "code",
   "execution_count": null,
   "metadata": {},
   "outputs": [],
   "source": [
    "# Mass_2015.columns"
   ]
  },
  {
   "cell_type": "code",
   "execution_count": null,
   "metadata": {},
   "outputs": [],
   "source": [
    "# Mass_2019.columns"
   ]
  },
  {
   "cell_type": "code",
   "execution_count": null,
   "metadata": {},
   "outputs": [],
   "source": [
    "# frames = [Mass_2015, Mass_2016, Mass_2017, Mass_2018, Mass_2019]\n",
    "\n",
    "# Mass_Aggregate = pd.concat(frames, sort=False)"
   ]
  },
  {
   "cell_type": "code",
   "execution_count": null,
   "metadata": {},
   "outputs": [],
   "source": [
    "# Mass_Aggregate.to_csv('Mass_Aggregate.csv', index = False, header=True)"
   ]
  },
  {
   "cell_type": "code",
   "execution_count": 3,
   "metadata": {},
   "outputs": [],
   "source": [
    "Mass_Aggregate = pd.read_csv('Mass_Aggregate.csv', low_memory=False)"
   ]
  },
  {
   "cell_type": "code",
   "execution_count": 4,
   "metadata": {},
   "outputs": [
    {
     "data": {
      "text/plain": [
       "707893"
      ]
     },
     "execution_count": 4,
     "metadata": {},
     "output_type": "execute_result"
    }
   ],
   "source": [
    "len(Mass_Aggregate)"
   ]
  },
  {
   "cell_type": "code",
   "execution_count": 5,
   "metadata": {},
   "outputs": [
    {
     "data": {
      "text/html": [
       "<div>\n",
       "<style scoped>\n",
       "    .dataframe tbody tr th:only-of-type {\n",
       "        vertical-align: middle;\n",
       "    }\n",
       "\n",
       "    .dataframe tbody tr th {\n",
       "        vertical-align: top;\n",
       "    }\n",
       "\n",
       "    .dataframe thead th {\n",
       "        text-align: right;\n",
       "    }\n",
       "</style>\n",
       "<table border=\"1\" class=\"dataframe\">\n",
       "  <thead>\n",
       "    <tr style=\"text-align: right;\">\n",
       "      <th></th>\n",
       "      <th>OBJECTID</th>\n",
       "      <th>CRASH_NUMB</th>\n",
       "      <th>CITY_TOWN_NAME</th>\n",
       "      <th>CRASH_DATE_TEXT</th>\n",
       "      <th>CRASH_STATUS</th>\n",
       "      <th>CRASH_SEVERITY_DESCR</th>\n",
       "      <th>NUMB_VEHC</th>\n",
       "      <th>NUMB_NONFATAL_INJR</th>\n",
       "      <th>NUMB_FATAL_INJR</th>\n",
       "      <th>AMBNT_LIGHT_DESCR</th>\n",
       "      <th>WEATH_COND_DESCR</th>\n",
       "      <th>IS_GEOCODED</th>\n",
       "      <th>YEAR</th>\n",
       "      <th>DISTRICT_NUM</th>\n",
       "      <th>RPA_ABBR</th>\n",
       "      <th>CNTY_NAME</th>\n",
       "    </tr>\n",
       "  </thead>\n",
       "  <tbody>\n",
       "    <tr>\n",
       "      <th>0</th>\n",
       "      <td>2001</td>\n",
       "      <td>3995056</td>\n",
       "      <td>DUXBURY</td>\n",
       "      <td>01/14/2015</td>\n",
       "      <td>Closed</td>\n",
       "      <td>Property damage only (none injured)</td>\n",
       "      <td>2</td>\n",
       "      <td>0</td>\n",
       "      <td>0</td>\n",
       "      <td>Daylight</td>\n",
       "      <td>Snow/Other</td>\n",
       "      <td>Yes</td>\n",
       "      <td>2015</td>\n",
       "      <td>5</td>\n",
       "      <td>OCPC</td>\n",
       "      <td>PLYMOUTH</td>\n",
       "    </tr>\n",
       "    <tr>\n",
       "      <th>1</th>\n",
       "      <td>2002</td>\n",
       "      <td>3995057</td>\n",
       "      <td>DUXBURY</td>\n",
       "      <td>01/15/2015</td>\n",
       "      <td>Closed</td>\n",
       "      <td>Property damage only (none injured)</td>\n",
       "      <td>1</td>\n",
       "      <td>0</td>\n",
       "      <td>0</td>\n",
       "      <td>Dark - roadway not lighted</td>\n",
       "      <td>Rain</td>\n",
       "      <td>Yes</td>\n",
       "      <td>2015</td>\n",
       "      <td>5</td>\n",
       "      <td>OCPC</td>\n",
       "      <td>PLYMOUTH</td>\n",
       "    </tr>\n",
       "    <tr>\n",
       "      <th>2</th>\n",
       "      <td>2003</td>\n",
       "      <td>3995058</td>\n",
       "      <td>DUXBURY</td>\n",
       "      <td>01/09/2015</td>\n",
       "      <td>Closed</td>\n",
       "      <td>Property damage only (none injured)</td>\n",
       "      <td>1</td>\n",
       "      <td>0</td>\n",
       "      <td>0</td>\n",
       "      <td>Daylight</td>\n",
       "      <td>Snow/Cloudy</td>\n",
       "      <td>Yes</td>\n",
       "      <td>2015</td>\n",
       "      <td>5</td>\n",
       "      <td>OCPC</td>\n",
       "      <td>PLYMOUTH</td>\n",
       "    </tr>\n",
       "    <tr>\n",
       "      <th>3</th>\n",
       "      <td>2004</td>\n",
       "      <td>3995059</td>\n",
       "      <td>DUXBURY</td>\n",
       "      <td>01/09/2015</td>\n",
       "      <td>Closed</td>\n",
       "      <td>Property damage only (none injured)</td>\n",
       "      <td>1</td>\n",
       "      <td>0</td>\n",
       "      <td>0</td>\n",
       "      <td>Daylight</td>\n",
       "      <td>Cloudy/Snow</td>\n",
       "      <td>Yes</td>\n",
       "      <td>2015</td>\n",
       "      <td>5</td>\n",
       "      <td>OCPC</td>\n",
       "      <td>PLYMOUTH</td>\n",
       "    </tr>\n",
       "    <tr>\n",
       "      <th>4</th>\n",
       "      <td>2005</td>\n",
       "      <td>3995060</td>\n",
       "      <td>WRENTHAM</td>\n",
       "      <td>01/10/2015</td>\n",
       "      <td>Closed</td>\n",
       "      <td>Property damage only (none injured)</td>\n",
       "      <td>1</td>\n",
       "      <td>0</td>\n",
       "      <td>0</td>\n",
       "      <td>Daylight</td>\n",
       "      <td>Cloudy</td>\n",
       "      <td>No</td>\n",
       "      <td>2015</td>\n",
       "      <td>5</td>\n",
       "      <td>MAPC</td>\n",
       "      <td>NORFOLK</td>\n",
       "    </tr>\n",
       "  </tbody>\n",
       "</table>\n",
       "</div>"
      ],
      "text/plain": [
       "   OBJECTID  CRASH_NUMB CITY_TOWN_NAME CRASH_DATE_TEXT CRASH_STATUS  \\\n",
       "0      2001     3995056        DUXBURY      01/14/2015       Closed   \n",
       "1      2002     3995057        DUXBURY      01/15/2015       Closed   \n",
       "2      2003     3995058        DUXBURY      01/09/2015       Closed   \n",
       "3      2004     3995059        DUXBURY      01/09/2015       Closed   \n",
       "4      2005     3995060       WRENTHAM      01/10/2015       Closed   \n",
       "\n",
       "                  CRASH_SEVERITY_DESCR  NUMB_VEHC  NUMB_NONFATAL_INJR  \\\n",
       "0  Property damage only (none injured)          2                   0   \n",
       "1  Property damage only (none injured)          1                   0   \n",
       "2  Property damage only (none injured)          1                   0   \n",
       "3  Property damage only (none injured)          1                   0   \n",
       "4  Property damage only (none injured)          1                   0   \n",
       "\n",
       "   NUMB_FATAL_INJR           AMBNT_LIGHT_DESCR WEATH_COND_DESCR IS_GEOCODED  \\\n",
       "0                0                    Daylight       Snow/Other         Yes   \n",
       "1                0  Dark - roadway not lighted             Rain         Yes   \n",
       "2                0                    Daylight      Snow/Cloudy         Yes   \n",
       "3                0                    Daylight      Cloudy/Snow         Yes   \n",
       "4                0                    Daylight           Cloudy          No   \n",
       "\n",
       "   YEAR  DISTRICT_NUM RPA_ABBR CNTY_NAME  \n",
       "0  2015             5     OCPC  PLYMOUTH  \n",
       "1  2015             5     OCPC  PLYMOUTH  \n",
       "2  2015             5     OCPC  PLYMOUTH  \n",
       "3  2015             5     OCPC  PLYMOUTH  \n",
       "4  2015             5     MAPC   NORFOLK  "
      ]
     },
     "execution_count": 5,
     "metadata": {},
     "output_type": "execute_result"
    }
   ],
   "source": [
    "Mass_Aggregate = Mass_Aggregate.dropna(axis='columns')\n",
    "Mass_Aggregate.head()"
   ]
  },
  {
   "cell_type": "code",
   "execution_count": 6,
   "metadata": {},
   "outputs": [
    {
     "data": {
      "text/plain": [
       "array([2015, 2016, 2017, 2018, 2019], dtype=int64)"
      ]
     },
     "execution_count": 6,
     "metadata": {},
     "output_type": "execute_result"
    }
   ],
   "source": [
    "Mass_Aggregate['YEAR'].unique()"
   ]
  },
  {
   "cell_type": "code",
   "execution_count": 7,
   "metadata": {},
   "outputs": [],
   "source": [
    "Mass_Aggregate['CRASH_DATE_TEXT'] = pd.to_datetime(Mass_Aggregate['CRASH_DATE_TEXT'])"
   ]
  },
  {
   "cell_type": "code",
   "execution_count": null,
   "metadata": {},
   "outputs": [],
   "source": [
    "Mass_Aggregate['CRASH_DATE_TEXT'] .head()"
   ]
  },
  {
   "cell_type": "code",
   "execution_count": null,
   "metadata": {},
   "outputs": [],
   "source": [
    "df = Mass_Aggregate"
   ]
  },
  {
   "cell_type": "code",
   "execution_count": null,
   "metadata": {},
   "outputs": [],
   "source": [
    "# Create a column containing the month\n",
    "df['month'] = df['CRASH_DATE_TEXT'].dt.month\n",
    "\n",
    "# # Get the start and end months\n",
    "# months = df['month'].sort_values()\n",
    "# start_month = months.iloc[0]\n",
    "# end_month = months.iloc[-1]\n",
    "\n",
    "# index = pd.PeriodIndex(start=start_month, end=end_month)\n",
    "\n",
    "# df.groupby('month')['YEAR'].count().reindex(index).plot.bar();"
   ]
  },
  {
   "cell_type": "code",
   "execution_count": null,
   "metadata": {},
   "outputs": [],
   "source": [
    "df['month'].unique()"
   ]
  },
  {
   "cell_type": "code",
   "execution_count": null,
   "metadata": {},
   "outputs": [],
   "source": [
    "df.head()"
   ]
  },
  {
   "cell_type": "code",
   "execution_count": null,
   "metadata": {},
   "outputs": [],
   "source": [
    "# pv = pd.pivot_table(df, index=df.month, columns=df.YEAR,\n",
    "#                     values='value', aggfunc='sum')\n",
    "\n",
    "# len(pv)"
   ]
  },
  {
   "cell_type": "code",
   "execution_count": null,
   "metadata": {},
   "outputs": [],
   "source": [
    "df1 = pd.crosstab(Mass_Aggregate['YEAR'], 'count')\n",
    "df1.head()"
   ]
  },
  {
   "cell_type": "code",
   "execution_count": null,
   "metadata": {},
   "outputs": [],
   "source": [
    "Monthly_Plots = pd.crosstab(df['YEAR'], df['month'])\n",
    "\n",
    "# df1 = pd.crosstab(Mass_Aggregate['YEAR'],df.month  'count')\n",
    "# df1.head()"
   ]
  },
  {
   "cell_type": "code",
   "execution_count": null,
   "metadata": {},
   "outputs": [],
   "source": [
    "Monthly_Plots = Monthly_Plots.T\n"
   ]
  },
  {
   "cell_type": "code",
   "execution_count": null,
   "metadata": {},
   "outputs": [],
   "source": [
    "#Monthly_Plots = Monthly_Plots.reset_index()"
   ]
  },
  {
   "cell_type": "code",
   "execution_count": null,
   "metadata": {},
   "outputs": [],
   "source": [
    "Monthly_Plots.plot(title='Mass Yearly Crashes by Month')"
   ]
  },
  {
   "cell_type": "code",
   "execution_count": null,
   "metadata": {},
   "outputs": [],
   "source": [
    "Monthly_Plots.head()"
   ]
  },
  {
   "cell_type": "code",
   "execution_count": null,
   "metadata": {},
   "outputs": [],
   "source": [
    "df1.plot()"
   ]
  },
  {
   "cell_type": "code",
   "execution_count": null,
   "metadata": {},
   "outputs": [],
   "source": [
    "df2 = df1\n",
    "df2.head()\n",
    "df2 = df2.reset_index()"
   ]
  },
  {
   "cell_type": "code",
   "execution_count": null,
   "metadata": {},
   "outputs": [],
   "source": [
    "df2.head()"
   ]
  },
  {
   "cell_type": "code",
   "execution_count": null,
   "metadata": {},
   "outputs": [],
   "source": [
    "Population = [6794228, 6823608, 6859789, 6882635, 6892503]"
   ]
  },
  {
   "cell_type": "code",
   "execution_count": null,
   "metadata": {},
   "outputs": [],
   "source": [
    "df1['Population'] = (Population)\n",
    "\n",
    "#df['Price'] = pd.Series(Price)"
   ]
  },
  {
   "cell_type": "code",
   "execution_count": null,
   "metadata": {},
   "outputs": [],
   "source": [
    "df1.head()"
   ]
  },
  {
   "cell_type": "code",
   "execution_count": null,
   "metadata": {},
   "outputs": [],
   "source": [
    "df1['Crashes_Normalized'] = df1['count']/df1['Population']"
   ]
  },
  {
   "cell_type": "code",
   "execution_count": null,
   "metadata": {},
   "outputs": [],
   "source": [
    "df1 = df1.reset_index()"
   ]
  },
  {
   "cell_type": "code",
   "execution_count": null,
   "metadata": {},
   "outputs": [],
   "source": [
    "df1.head()"
   ]
  },
  {
   "cell_type": "code",
   "execution_count": null,
   "metadata": {},
   "outputs": [],
   "source": [
    "import matplotlib.pylab as plt\n",
    "%matplotlib inline\n",
    "\n",
    "# your code here\n",
    "#Plotting the depth vs accuracy\n",
    "fig, ax = plt.subplots() #get axis to plot on\n",
    "df1.plot(ax=ax,x='YEAR',y='count') #show the data\n",
    "plt.ylabel('Total Crashes Per Year')\n",
    "plt.show()"
   ]
  },
  {
   "cell_type": "code",
   "execution_count": null,
   "metadata": {},
   "outputs": [],
   "source": [
    "import matplotlib.pylab as plt\n",
    "%matplotlib inline\n",
    "\n",
    "# your code here\n",
    "#Plotting the depth vs accuracy\n",
    "fig, ax = plt.subplots() #get axis to plot on\n",
    "df1.plot(ax=ax,x='YEAR',y='Crashes_Normalized', title=\"Mass Yearly Crashes Normalized\")#, yticks=np.arange(0, 0.032, step=.01)) #show the data\n",
    "plt.ylabel('Crashes Per Population')\n",
    "plt.show()\n",
    "#plt.tile()"
   ]
  },
  {
   "cell_type": "code",
   "execution_count": null,
   "metadata": {},
   "outputs": [],
   "source": []
  }
 ],
 "metadata": {
  "kernelspec": {
   "display_name": "Python 3",
   "language": "python",
   "name": "python3"
  },
  "language_info": {
   "codemirror_mode": {
    "name": "ipython",
    "version": 3
   },
   "file_extension": ".py",
   "mimetype": "text/x-python",
   "name": "python",
   "nbconvert_exporter": "python",
   "pygments_lexer": "ipython3",
   "version": "3.7.3"
  }
 },
 "nbformat": 4,
 "nbformat_minor": 2
}
