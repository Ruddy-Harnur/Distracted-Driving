{
 "cells": [
  {
   "cell_type": "code",
   "execution_count": 1,
   "metadata": {},
   "outputs": [],
   "source": [
    "import pandas as pd\n",
    "import numpy as np\n",
    "import statsmodels.formula.api as smf\n",
    "import matplotlib.pylab as plt\n",
    "import math\n",
    "from scipy import stats\n",
    "import geopandas as gpd\n",
    "%matplotlib inline"
   ]
  },
  {
   "cell_type": "code",
   "execution_count": 2,
   "metadata": {},
   "outputs": [],
   "source": [
    "import dask.dataframe as dd"
   ]
  },
  {
   "cell_type": "code",
   "execution_count": 3,
   "metadata": {},
   "outputs": [],
   "source": [
    "CA_statewide = dd.read_csv('ca_statewide.csv')"
   ]
  },
  {
   "cell_type": "code",
   "execution_count": 4,
   "metadata": {},
   "outputs": [
    {
     "data": {
      "text/html": [
       "<div>\n",
       "<style scoped>\n",
       "    .dataframe tbody tr th:only-of-type {\n",
       "        vertical-align: middle;\n",
       "    }\n",
       "\n",
       "    .dataframe tbody tr th {\n",
       "        vertical-align: top;\n",
       "    }\n",
       "\n",
       "    .dataframe thead th {\n",
       "        text-align: right;\n",
       "    }\n",
       "</style>\n",
       "<table border=\"1\" class=\"dataframe\">\n",
       "  <thead>\n",
       "    <tr style=\"text-align: right;\">\n",
       "      <th></th>\n",
       "      <th>raw_row_number</th>\n",
       "      <th>date</th>\n",
       "      <th>county_name</th>\n",
       "      <th>district</th>\n",
       "      <th>subject_race</th>\n",
       "      <th>subject_sex</th>\n",
       "      <th>department_name</th>\n",
       "      <th>type</th>\n",
       "      <th>violation</th>\n",
       "      <th>arrest_made</th>\n",
       "      <th>...</th>\n",
       "      <th>warning_issued</th>\n",
       "      <th>outcome</th>\n",
       "      <th>contraband_found</th>\n",
       "      <th>frisk_performed</th>\n",
       "      <th>search_conducted</th>\n",
       "      <th>search_person</th>\n",
       "      <th>search_basis</th>\n",
       "      <th>reason_for_stop</th>\n",
       "      <th>raw_race</th>\n",
       "      <th>raw_search_basis</th>\n",
       "    </tr>\n",
       "  </thead>\n",
       "  <tbody>\n",
       "    <tr>\n",
       "      <th>0</th>\n",
       "      <td>1</td>\n",
       "      <td>2009-07-01</td>\n",
       "      <td>Stanislaus County</td>\n",
       "      <td>Modesto</td>\n",
       "      <td>other</td>\n",
       "      <td>male</td>\n",
       "      <td>California Highway Patrol</td>\n",
       "      <td>vehicular</td>\n",
       "      <td>Motorist / Public Service</td>\n",
       "      <td>NaN</td>\n",
       "      <td>...</td>\n",
       "      <td>NaN</td>\n",
       "      <td>NaN</td>\n",
       "      <td>NaN</td>\n",
       "      <td>NaN</td>\n",
       "      <td>False</td>\n",
       "      <td>False</td>\n",
       "      <td>NaN</td>\n",
       "      <td>Motorist / Public Service</td>\n",
       "      <td>Other</td>\n",
       "      <td>Vehicle Inventory</td>\n",
       "    </tr>\n",
       "    <tr>\n",
       "      <th>1</th>\n",
       "      <td>2</td>\n",
       "      <td>2009-07-01</td>\n",
       "      <td>Stanislaus County</td>\n",
       "      <td>Modesto</td>\n",
       "      <td>hispanic</td>\n",
       "      <td>female</td>\n",
       "      <td>California Highway Patrol</td>\n",
       "      <td>vehicular</td>\n",
       "      <td>Moving Violation (VC)</td>\n",
       "      <td>False</td>\n",
       "      <td>...</td>\n",
       "      <td>False</td>\n",
       "      <td>summons</td>\n",
       "      <td>NaN</td>\n",
       "      <td>NaN</td>\n",
       "      <td>False</td>\n",
       "      <td>False</td>\n",
       "      <td>NaN</td>\n",
       "      <td>Moving Violation (VC)</td>\n",
       "      <td>Hispanic</td>\n",
       "      <td>Probable Cause (positive)</td>\n",
       "    </tr>\n",
       "    <tr>\n",
       "      <th>2</th>\n",
       "      <td>3</td>\n",
       "      <td>2009-07-01</td>\n",
       "      <td>Stanislaus County</td>\n",
       "      <td>Modesto</td>\n",
       "      <td>hispanic</td>\n",
       "      <td>female</td>\n",
       "      <td>California Highway Patrol</td>\n",
       "      <td>vehicular</td>\n",
       "      <td>Moving Violation (VC)</td>\n",
       "      <td>False</td>\n",
       "      <td>...</td>\n",
       "      <td>False</td>\n",
       "      <td>summons</td>\n",
       "      <td>NaN</td>\n",
       "      <td>NaN</td>\n",
       "      <td>True</td>\n",
       "      <td>NaN</td>\n",
       "      <td>other</td>\n",
       "      <td>Moving Violation (VC)</td>\n",
       "      <td>Hispanic</td>\n",
       "      <td>Probable Cause (positive)</td>\n",
       "    </tr>\n",
       "    <tr>\n",
       "      <th>3</th>\n",
       "      <td>4</td>\n",
       "      <td>2009-07-01</td>\n",
       "      <td>Stanislaus County</td>\n",
       "      <td>Modesto</td>\n",
       "      <td>white</td>\n",
       "      <td>female</td>\n",
       "      <td>California Highway Patrol</td>\n",
       "      <td>vehicular</td>\n",
       "      <td>Moving Violation (VC)</td>\n",
       "      <td>False</td>\n",
       "      <td>...</td>\n",
       "      <td>False</td>\n",
       "      <td>summons</td>\n",
       "      <td>NaN</td>\n",
       "      <td>NaN</td>\n",
       "      <td>False</td>\n",
       "      <td>False</td>\n",
       "      <td>NaN</td>\n",
       "      <td>Moving Violation (VC)</td>\n",
       "      <td>White</td>\n",
       "      <td>Probable Cause (positive)</td>\n",
       "    </tr>\n",
       "    <tr>\n",
       "      <th>4</th>\n",
       "      <td>5</td>\n",
       "      <td>2009-07-01</td>\n",
       "      <td>Stanislaus County</td>\n",
       "      <td>Modesto</td>\n",
       "      <td>hispanic</td>\n",
       "      <td>male</td>\n",
       "      <td>California Highway Patrol</td>\n",
       "      <td>vehicular</td>\n",
       "      <td>Moving Violation (VC)</td>\n",
       "      <td>False</td>\n",
       "      <td>...</td>\n",
       "      <td>False</td>\n",
       "      <td>summons</td>\n",
       "      <td>NaN</td>\n",
       "      <td>NaN</td>\n",
       "      <td>True</td>\n",
       "      <td>NaN</td>\n",
       "      <td>other</td>\n",
       "      <td>Moving Violation (VC)</td>\n",
       "      <td>Hispanic</td>\n",
       "      <td>Probable Cause (positive)</td>\n",
       "    </tr>\n",
       "  </tbody>\n",
       "</table>\n",
       "<p>5 rows × 21 columns</p>\n",
       "</div>"
      ],
      "text/plain": [
       "   raw_row_number        date        county_name district subject_race  \\\n",
       "0               1  2009-07-01  Stanislaus County  Modesto        other   \n",
       "1               2  2009-07-01  Stanislaus County  Modesto     hispanic   \n",
       "2               3  2009-07-01  Stanislaus County  Modesto     hispanic   \n",
       "3               4  2009-07-01  Stanislaus County  Modesto        white   \n",
       "4               5  2009-07-01  Stanislaus County  Modesto     hispanic   \n",
       "\n",
       "  subject_sex            department_name       type  \\\n",
       "0        male  California Highway Patrol  vehicular   \n",
       "1      female  California Highway Patrol  vehicular   \n",
       "2      female  California Highway Patrol  vehicular   \n",
       "3      female  California Highway Patrol  vehicular   \n",
       "4        male  California Highway Patrol  vehicular   \n",
       "\n",
       "                   violation arrest_made  ... warning_issued  outcome  \\\n",
       "0  Motorist / Public Service         NaN  ...            NaN      NaN   \n",
       "1      Moving Violation (VC)       False  ...          False  summons   \n",
       "2      Moving Violation (VC)       False  ...          False  summons   \n",
       "3      Moving Violation (VC)       False  ...          False  summons   \n",
       "4      Moving Violation (VC)       False  ...          False  summons   \n",
       "\n",
       "  contraband_found  frisk_performed  search_conducted  search_person  \\\n",
       "0              NaN              NaN             False          False   \n",
       "1              NaN              NaN             False          False   \n",
       "2              NaN              NaN              True            NaN   \n",
       "3              NaN              NaN             False          False   \n",
       "4              NaN              NaN              True            NaN   \n",
       "\n",
       "  search_basis            reason_for_stop  raw_race           raw_search_basis  \n",
       "0          NaN  Motorist / Public Service     Other          Vehicle Inventory  \n",
       "1          NaN      Moving Violation (VC)  Hispanic  Probable Cause (positive)  \n",
       "2        other      Moving Violation (VC)  Hispanic  Probable Cause (positive)  \n",
       "3          NaN      Moving Violation (VC)     White  Probable Cause (positive)  \n",
       "4        other      Moving Violation (VC)  Hispanic  Probable Cause (positive)  \n",
       "\n",
       "[5 rows x 21 columns]"
      ]
     },
     "execution_count": 4,
     "metadata": {},
     "output_type": "execute_result"
    }
   ],
   "source": [
    "CA_statewide.head()"
   ]
  },
  {
   "cell_type": "code",
   "execution_count": 5,
   "metadata": {},
   "outputs": [
    {
     "data": {
      "text/plain": [
       "31778515"
      ]
     },
     "execution_count": 5,
     "metadata": {},
     "output_type": "execute_result"
    }
   ],
   "source": [
    "len(CA_statewide)"
   ]
  },
  {
   "cell_type": "code",
   "execution_count": 8,
   "metadata": {},
   "outputs": [
    {
     "data": {
      "text/plain": [
       "Dask Series Structure:\n",
       "npartitions=1\n",
       "    object\n",
       "       ...\n",
       "Name: date, dtype: object\n",
       "Dask Name: unique-agg, 577 tasks"
      ]
     },
     "execution_count": 8,
     "metadata": {},
     "output_type": "execute_result"
    }
   ],
   "source": []
  },
  {
   "cell_type": "code",
   "execution_count": 5,
   "metadata": {},
   "outputs": [],
   "source": [
    "from datetime import datetime"
   ]
  },
  {
   "cell_type": "code",
   "execution_count": 6,
   "metadata": {},
   "outputs": [],
   "source": [
    "CA_statewide = CA_statewide.compute()"
   ]
  },
  {
   "cell_type": "code",
   "execution_count": 7,
   "metadata": {},
   "outputs": [
    {
     "data": {
      "text/plain": [
       "pandas.core.frame.DataFrame"
      ]
     },
     "execution_count": 7,
     "metadata": {},
     "output_type": "execute_result"
    }
   ],
   "source": [
    "type(CA_statewide)"
   ]
  },
  {
   "cell_type": "code",
   "execution_count": 8,
   "metadata": {},
   "outputs": [],
   "source": [
    "CA_statewide = CA_statewide.dropna(axis=1)"
   ]
  },
  {
   "cell_type": "code",
   "execution_count": 9,
   "metadata": {},
   "outputs": [
    {
     "data": {
      "text/html": [
       "<div>\n",
       "<style scoped>\n",
       "    .dataframe tbody tr th:only-of-type {\n",
       "        vertical-align: middle;\n",
       "    }\n",
       "\n",
       "    .dataframe tbody tr th {\n",
       "        vertical-align: top;\n",
       "    }\n",
       "\n",
       "    .dataframe thead th {\n",
       "        text-align: right;\n",
       "    }\n",
       "</style>\n",
       "<table border=\"1\" class=\"dataframe\">\n",
       "  <thead>\n",
       "    <tr style=\"text-align: right;\">\n",
       "      <th></th>\n",
       "      <th>raw_row_number</th>\n",
       "      <th>date</th>\n",
       "      <th>department_name</th>\n",
       "      <th>type</th>\n",
       "      <th>violation</th>\n",
       "      <th>search_conducted</th>\n",
       "      <th>reason_for_stop</th>\n",
       "      <th>raw_search_basis</th>\n",
       "    </tr>\n",
       "  </thead>\n",
       "  <tbody>\n",
       "    <tr>\n",
       "      <th>0</th>\n",
       "      <td>1</td>\n",
       "      <td>2009-07-01</td>\n",
       "      <td>California Highway Patrol</td>\n",
       "      <td>vehicular</td>\n",
       "      <td>Motorist / Public Service</td>\n",
       "      <td>False</td>\n",
       "      <td>Motorist / Public Service</td>\n",
       "      <td>Vehicle Inventory</td>\n",
       "    </tr>\n",
       "    <tr>\n",
       "      <th>1</th>\n",
       "      <td>2</td>\n",
       "      <td>2009-07-01</td>\n",
       "      <td>California Highway Patrol</td>\n",
       "      <td>vehicular</td>\n",
       "      <td>Moving Violation (VC)</td>\n",
       "      <td>False</td>\n",
       "      <td>Moving Violation (VC)</td>\n",
       "      <td>Probable Cause (positive)</td>\n",
       "    </tr>\n",
       "    <tr>\n",
       "      <th>2</th>\n",
       "      <td>3</td>\n",
       "      <td>2009-07-01</td>\n",
       "      <td>California Highway Patrol</td>\n",
       "      <td>vehicular</td>\n",
       "      <td>Moving Violation (VC)</td>\n",
       "      <td>True</td>\n",
       "      <td>Moving Violation (VC)</td>\n",
       "      <td>Probable Cause (positive)</td>\n",
       "    </tr>\n",
       "    <tr>\n",
       "      <th>3</th>\n",
       "      <td>4</td>\n",
       "      <td>2009-07-01</td>\n",
       "      <td>California Highway Patrol</td>\n",
       "      <td>vehicular</td>\n",
       "      <td>Moving Violation (VC)</td>\n",
       "      <td>False</td>\n",
       "      <td>Moving Violation (VC)</td>\n",
       "      <td>Probable Cause (positive)</td>\n",
       "    </tr>\n",
       "    <tr>\n",
       "      <th>4</th>\n",
       "      <td>5</td>\n",
       "      <td>2009-07-01</td>\n",
       "      <td>California Highway Patrol</td>\n",
       "      <td>vehicular</td>\n",
       "      <td>Moving Violation (VC)</td>\n",
       "      <td>True</td>\n",
       "      <td>Moving Violation (VC)</td>\n",
       "      <td>Probable Cause (positive)</td>\n",
       "    </tr>\n",
       "  </tbody>\n",
       "</table>\n",
       "</div>"
      ],
      "text/plain": [
       "   raw_row_number        date            department_name       type  \\\n",
       "0               1  2009-07-01  California Highway Patrol  vehicular   \n",
       "1               2  2009-07-01  California Highway Patrol  vehicular   \n",
       "2               3  2009-07-01  California Highway Patrol  vehicular   \n",
       "3               4  2009-07-01  California Highway Patrol  vehicular   \n",
       "4               5  2009-07-01  California Highway Patrol  vehicular   \n",
       "\n",
       "                   violation  search_conducted            reason_for_stop  \\\n",
       "0  Motorist / Public Service             False  Motorist / Public Service   \n",
       "1      Moving Violation (VC)             False      Moving Violation (VC)   \n",
       "2      Moving Violation (VC)              True      Moving Violation (VC)   \n",
       "3      Moving Violation (VC)             False      Moving Violation (VC)   \n",
       "4      Moving Violation (VC)              True      Moving Violation (VC)   \n",
       "\n",
       "            raw_search_basis  \n",
       "0          Vehicle Inventory  \n",
       "1  Probable Cause (positive)  \n",
       "2  Probable Cause (positive)  \n",
       "3  Probable Cause (positive)  \n",
       "4  Probable Cause (positive)  "
      ]
     },
     "execution_count": 9,
     "metadata": {},
     "output_type": "execute_result"
    }
   ],
   "source": [
    "CA_statewide.head()"
   ]
  },
  {
   "cell_type": "code",
   "execution_count": 10,
   "metadata": {},
   "outputs": [
    {
     "data": {
      "text/plain": [
       "array(['2009-07-01', '2009-07-02', '2009-07-03', ..., '2016-06-28',\n",
       "       '2016-06-29', '2016-06-30'], dtype=object)"
      ]
     },
     "execution_count": 10,
     "metadata": {},
     "output_type": "execute_result"
    }
   ],
   "source": [
    "CA_statewide['date'].unique()"
   ]
  },
  {
   "cell_type": "code",
   "execution_count": 11,
   "metadata": {},
   "outputs": [
    {
     "data": {
      "text/plain": [
       "dtype('O')"
      ]
     },
     "execution_count": 11,
     "metadata": {},
     "output_type": "execute_result"
    }
   ],
   "source": [
    "CA_statewide['date'].dtypes"
   ]
  },
  {
   "cell_type": "code",
   "execution_count": 12,
   "metadata": {},
   "outputs": [],
   "source": [
    "CA_statewide['date'] = pd.to_datetime(CA_statewide['date'])"
   ]
  },
  {
   "cell_type": "code",
   "execution_count": 12,
   "metadata": {},
   "outputs": [
    {
     "data": {
      "text/html": [
       "<div>\n",
       "<style scoped>\n",
       "    .dataframe tbody tr th:only-of-type {\n",
       "        vertical-align: middle;\n",
       "    }\n",
       "\n",
       "    .dataframe tbody tr th {\n",
       "        vertical-align: top;\n",
       "    }\n",
       "\n",
       "    .dataframe thead th {\n",
       "        text-align: right;\n",
       "    }\n",
       "</style>\n",
       "<table border=\"1\" class=\"dataframe\">\n",
       "  <thead>\n",
       "    <tr style=\"text-align: right;\">\n",
       "      <th></th>\n",
       "      <th>raw_row_number</th>\n",
       "      <th>date</th>\n",
       "      <th>department_name</th>\n",
       "      <th>type</th>\n",
       "      <th>violation</th>\n",
       "      <th>search_conducted</th>\n",
       "      <th>reason_for_stop</th>\n",
       "      <th>raw_search_basis</th>\n",
       "    </tr>\n",
       "  </thead>\n",
       "  <tbody>\n",
       "    <tr>\n",
       "      <th>0</th>\n",
       "      <td>1</td>\n",
       "      <td>2009-07-01</td>\n",
       "      <td>California Highway Patrol</td>\n",
       "      <td>vehicular</td>\n",
       "      <td>Motorist / Public Service</td>\n",
       "      <td>False</td>\n",
       "      <td>Motorist / Public Service</td>\n",
       "      <td>Vehicle Inventory</td>\n",
       "    </tr>\n",
       "    <tr>\n",
       "      <th>1</th>\n",
       "      <td>2</td>\n",
       "      <td>2009-07-01</td>\n",
       "      <td>California Highway Patrol</td>\n",
       "      <td>vehicular</td>\n",
       "      <td>Moving Violation (VC)</td>\n",
       "      <td>False</td>\n",
       "      <td>Moving Violation (VC)</td>\n",
       "      <td>Probable Cause (positive)</td>\n",
       "    </tr>\n",
       "    <tr>\n",
       "      <th>2</th>\n",
       "      <td>3</td>\n",
       "      <td>2009-07-01</td>\n",
       "      <td>California Highway Patrol</td>\n",
       "      <td>vehicular</td>\n",
       "      <td>Moving Violation (VC)</td>\n",
       "      <td>True</td>\n",
       "      <td>Moving Violation (VC)</td>\n",
       "      <td>Probable Cause (positive)</td>\n",
       "    </tr>\n",
       "    <tr>\n",
       "      <th>3</th>\n",
       "      <td>4</td>\n",
       "      <td>2009-07-01</td>\n",
       "      <td>California Highway Patrol</td>\n",
       "      <td>vehicular</td>\n",
       "      <td>Moving Violation (VC)</td>\n",
       "      <td>False</td>\n",
       "      <td>Moving Violation (VC)</td>\n",
       "      <td>Probable Cause (positive)</td>\n",
       "    </tr>\n",
       "    <tr>\n",
       "      <th>4</th>\n",
       "      <td>5</td>\n",
       "      <td>2009-07-01</td>\n",
       "      <td>California Highway Patrol</td>\n",
       "      <td>vehicular</td>\n",
       "      <td>Moving Violation (VC)</td>\n",
       "      <td>True</td>\n",
       "      <td>Moving Violation (VC)</td>\n",
       "      <td>Probable Cause (positive)</td>\n",
       "    </tr>\n",
       "  </tbody>\n",
       "</table>\n",
       "</div>"
      ],
      "text/plain": [
       "   raw_row_number       date            department_name       type  \\\n",
       "0               1 2009-07-01  California Highway Patrol  vehicular   \n",
       "1               2 2009-07-01  California Highway Patrol  vehicular   \n",
       "2               3 2009-07-01  California Highway Patrol  vehicular   \n",
       "3               4 2009-07-01  California Highway Patrol  vehicular   \n",
       "4               5 2009-07-01  California Highway Patrol  vehicular   \n",
       "\n",
       "                   violation  search_conducted            reason_for_stop  \\\n",
       "0  Motorist / Public Service             False  Motorist / Public Service   \n",
       "1      Moving Violation (VC)             False      Moving Violation (VC)   \n",
       "2      Moving Violation (VC)              True      Moving Violation (VC)   \n",
       "3      Moving Violation (VC)             False      Moving Violation (VC)   \n",
       "4      Moving Violation (VC)              True      Moving Violation (VC)   \n",
       "\n",
       "            raw_search_basis  \n",
       "0          Vehicle Inventory  \n",
       "1  Probable Cause (positive)  \n",
       "2  Probable Cause (positive)  \n",
       "3  Probable Cause (positive)  \n",
       "4  Probable Cause (positive)  "
      ]
     },
     "execution_count": 12,
     "metadata": {},
     "output_type": "execute_result"
    }
   ],
   "source": [
    "CA_statewide.head()"
   ]
  },
  {
   "cell_type": "code",
   "execution_count": 13,
   "metadata": {},
   "outputs": [],
   "source": [
    "CA_statewide['year']  = CA_statewide['date'] .apply(lambda x: x.year)"
   ]
  },
  {
   "cell_type": "code",
   "execution_count": 14,
   "metadata": {},
   "outputs": [
    {
     "data": {
      "text/plain": [
       "array([2009, 2010, 2011, 2012, 2013, 2014, 2015, 2016], dtype=int64)"
      ]
     },
     "execution_count": 14,
     "metadata": {},
     "output_type": "execute_result"
    }
   ],
   "source": [
    "CA_statewide['year'].unique()"
   ]
  },
  {
   "cell_type": "code",
   "execution_count": 15,
   "metadata": {},
   "outputs": [],
   "source": [
    "CA_statewide['month']  = CA_statewide['date'] .apply(lambda x: x.month)"
   ]
  },
  {
   "cell_type": "code",
   "execution_count": 35,
   "metadata": {},
   "outputs": [
    {
     "data": {
      "text/plain": [
       "Index(['raw_row_number', 'date', 'department_name', 'type', 'violation',\n",
       "       'search_conducted', 'reason_for_stop', 'raw_search_basis', 'year',\n",
       "       'month'],\n",
       "      dtype='object')"
      ]
     },
     "execution_count": 35,
     "metadata": {},
     "output_type": "execute_result"
    }
   ],
   "source": [
    "CA_statewide.columns"
   ]
  },
  {
   "cell_type": "code",
   "execution_count": 16,
   "metadata": {},
   "outputs": [],
   "source": [
    "CA = CA_statewide[CA_statewide['violation']=='Traffic Collision']"
   ]
  },
  {
   "cell_type": "code",
   "execution_count": 17,
   "metadata": {},
   "outputs": [
    {
     "data": {
      "text/plain": [
       "array(['Traffic Collision'], dtype=object)"
      ]
     },
     "execution_count": 17,
     "metadata": {},
     "output_type": "execute_result"
    }
   ],
   "source": [
    "CA.violation.unique()"
   ]
  },
  {
   "cell_type": "code",
   "execution_count": 18,
   "metadata": {},
   "outputs": [],
   "source": [
    "# y = CA_statewide[['month', 'violation']]\n",
    "# y.head()\n",
    "\n",
    "df4 = pd.crosstab(CA['year'],CA['month'])"
   ]
  },
  {
   "cell_type": "code",
   "execution_count": 19,
   "metadata": {},
   "outputs": [
    {
     "data": {
      "text/html": [
       "<div>\n",
       "<style scoped>\n",
       "    .dataframe tbody tr th:only-of-type {\n",
       "        vertical-align: middle;\n",
       "    }\n",
       "\n",
       "    .dataframe tbody tr th {\n",
       "        vertical-align: top;\n",
       "    }\n",
       "\n",
       "    .dataframe thead th {\n",
       "        text-align: right;\n",
       "    }\n",
       "</style>\n",
       "<table border=\"1\" class=\"dataframe\">\n",
       "  <thead>\n",
       "    <tr style=\"text-align: right;\">\n",
       "      <th>year</th>\n",
       "      <th>2009</th>\n",
       "      <th>2010</th>\n",
       "      <th>2011</th>\n",
       "      <th>2012</th>\n",
       "      <th>2013</th>\n",
       "      <th>2014</th>\n",
       "      <th>2015</th>\n",
       "      <th>2016</th>\n",
       "    </tr>\n",
       "    <tr>\n",
       "      <th>month</th>\n",
       "      <th></th>\n",
       "      <th></th>\n",
       "      <th></th>\n",
       "      <th></th>\n",
       "      <th></th>\n",
       "      <th></th>\n",
       "      <th></th>\n",
       "      <th></th>\n",
       "    </tr>\n",
       "  </thead>\n",
       "  <tbody>\n",
       "    <tr>\n",
       "      <th>1</th>\n",
       "      <td>0</td>\n",
       "      <td>27476</td>\n",
       "      <td>27676</td>\n",
       "      <td>28597</td>\n",
       "      <td>28481</td>\n",
       "      <td>27770</td>\n",
       "      <td>31205</td>\n",
       "      <td>34993</td>\n",
       "    </tr>\n",
       "    <tr>\n",
       "      <th>2</th>\n",
       "      <td>0</td>\n",
       "      <td>26659</td>\n",
       "      <td>27868</td>\n",
       "      <td>27370</td>\n",
       "      <td>26903</td>\n",
       "      <td>28651</td>\n",
       "      <td>31568</td>\n",
       "      <td>35442</td>\n",
       "    </tr>\n",
       "    <tr>\n",
       "      <th>3</th>\n",
       "      <td>0</td>\n",
       "      <td>29187</td>\n",
       "      <td>30086</td>\n",
       "      <td>31310</td>\n",
       "      <td>30083</td>\n",
       "      <td>29807</td>\n",
       "      <td>34407</td>\n",
       "      <td>39729</td>\n",
       "    </tr>\n",
       "    <tr>\n",
       "      <th>4</th>\n",
       "      <td>0</td>\n",
       "      <td>28011</td>\n",
       "      <td>26392</td>\n",
       "      <td>28093</td>\n",
       "      <td>29006</td>\n",
       "      <td>29198</td>\n",
       "      <td>33416</td>\n",
       "      <td>37125</td>\n",
       "    </tr>\n",
       "    <tr>\n",
       "      <th>5</th>\n",
       "      <td>0</td>\n",
       "      <td>28502</td>\n",
       "      <td>28268</td>\n",
       "      <td>29281</td>\n",
       "      <td>31426</td>\n",
       "      <td>30857</td>\n",
       "      <td>33410</td>\n",
       "      <td>37888</td>\n",
       "    </tr>\n",
       "    <tr>\n",
       "      <th>6</th>\n",
       "      <td>0</td>\n",
       "      <td>27253</td>\n",
       "      <td>28816</td>\n",
       "      <td>28939</td>\n",
       "      <td>30098</td>\n",
       "      <td>28375</td>\n",
       "      <td>33651</td>\n",
       "      <td>37784</td>\n",
       "    </tr>\n",
       "    <tr>\n",
       "      <th>7</th>\n",
       "      <td>27655</td>\n",
       "      <td>28485</td>\n",
       "      <td>28513</td>\n",
       "      <td>28413</td>\n",
       "      <td>29877</td>\n",
       "      <td>30898</td>\n",
       "      <td>34791</td>\n",
       "      <td>0</td>\n",
       "    </tr>\n",
       "    <tr>\n",
       "      <th>8</th>\n",
       "      <td>27895</td>\n",
       "      <td>29753</td>\n",
       "      <td>29875</td>\n",
       "      <td>31032</td>\n",
       "      <td>31739</td>\n",
       "      <td>32958</td>\n",
       "      <td>36234</td>\n",
       "      <td>0</td>\n",
       "    </tr>\n",
       "    <tr>\n",
       "      <th>9</th>\n",
       "      <td>28091</td>\n",
       "      <td>30137</td>\n",
       "      <td>29726</td>\n",
       "      <td>28522</td>\n",
       "      <td>31267</td>\n",
       "      <td>32862</td>\n",
       "      <td>36111</td>\n",
       "      <td>0</td>\n",
       "    </tr>\n",
       "    <tr>\n",
       "      <th>10</th>\n",
       "      <td>30733</td>\n",
       "      <td>32726</td>\n",
       "      <td>32389</td>\n",
       "      <td>32217</td>\n",
       "      <td>34607</td>\n",
       "      <td>36688</td>\n",
       "      <td>38775</td>\n",
       "      <td>0</td>\n",
       "    </tr>\n",
       "    <tr>\n",
       "      <th>11</th>\n",
       "      <td>28050</td>\n",
       "      <td>31824</td>\n",
       "      <td>31601</td>\n",
       "      <td>31759</td>\n",
       "      <td>32206</td>\n",
       "      <td>33141</td>\n",
       "      <td>37622</td>\n",
       "      <td>0</td>\n",
       "    </tr>\n",
       "    <tr>\n",
       "      <th>12</th>\n",
       "      <td>30255</td>\n",
       "      <td>33440</td>\n",
       "      <td>30571</td>\n",
       "      <td>30871</td>\n",
       "      <td>30475</td>\n",
       "      <td>33382</td>\n",
       "      <td>39286</td>\n",
       "      <td>0</td>\n",
       "    </tr>\n",
       "  </tbody>\n",
       "</table>\n",
       "</div>"
      ],
      "text/plain": [
       "year    2009   2010   2011   2012   2013   2014   2015   2016\n",
       "month                                                        \n",
       "1          0  27476  27676  28597  28481  27770  31205  34993\n",
       "2          0  26659  27868  27370  26903  28651  31568  35442\n",
       "3          0  29187  30086  31310  30083  29807  34407  39729\n",
       "4          0  28011  26392  28093  29006  29198  33416  37125\n",
       "5          0  28502  28268  29281  31426  30857  33410  37888\n",
       "6          0  27253  28816  28939  30098  28375  33651  37784\n",
       "7      27655  28485  28513  28413  29877  30898  34791      0\n",
       "8      27895  29753  29875  31032  31739  32958  36234      0\n",
       "9      28091  30137  29726  28522  31267  32862  36111      0\n",
       "10     30733  32726  32389  32217  34607  36688  38775      0\n",
       "11     28050  31824  31601  31759  32206  33141  37622      0\n",
       "12     30255  33440  30571  30871  30475  33382  39286      0"
      ]
     },
     "execution_count": 19,
     "metadata": {},
     "output_type": "execute_result"
    }
   ],
   "source": [
    "df4 = df4.T\n",
    "df4"
   ]
  },
  {
   "cell_type": "code",
   "execution_count": 20,
   "metadata": {},
   "outputs": [],
   "source": [
    "df4 = df4[[2010, 2011, 2012, 2013, 2014, 2015]]"
   ]
  },
  {
   "cell_type": "code",
   "execution_count": 21,
   "metadata": {},
   "outputs": [
    {
     "data": {
      "text/html": [
       "<div>\n",
       "<style scoped>\n",
       "    .dataframe tbody tr th:only-of-type {\n",
       "        vertical-align: middle;\n",
       "    }\n",
       "\n",
       "    .dataframe tbody tr th {\n",
       "        vertical-align: top;\n",
       "    }\n",
       "\n",
       "    .dataframe thead th {\n",
       "        text-align: right;\n",
       "    }\n",
       "</style>\n",
       "<table border=\"1\" class=\"dataframe\">\n",
       "  <thead>\n",
       "    <tr style=\"text-align: right;\">\n",
       "      <th>year</th>\n",
       "      <th>2010</th>\n",
       "      <th>2011</th>\n",
       "      <th>2012</th>\n",
       "      <th>2013</th>\n",
       "      <th>2014</th>\n",
       "      <th>2015</th>\n",
       "    </tr>\n",
       "    <tr>\n",
       "      <th>month</th>\n",
       "      <th></th>\n",
       "      <th></th>\n",
       "      <th></th>\n",
       "      <th></th>\n",
       "      <th></th>\n",
       "      <th></th>\n",
       "    </tr>\n",
       "  </thead>\n",
       "  <tbody>\n",
       "    <tr>\n",
       "      <th>1</th>\n",
       "      <td>27476</td>\n",
       "      <td>27676</td>\n",
       "      <td>28597</td>\n",
       "      <td>28481</td>\n",
       "      <td>27770</td>\n",
       "      <td>31205</td>\n",
       "    </tr>\n",
       "    <tr>\n",
       "      <th>2</th>\n",
       "      <td>26659</td>\n",
       "      <td>27868</td>\n",
       "      <td>27370</td>\n",
       "      <td>26903</td>\n",
       "      <td>28651</td>\n",
       "      <td>31568</td>\n",
       "    </tr>\n",
       "    <tr>\n",
       "      <th>3</th>\n",
       "      <td>29187</td>\n",
       "      <td>30086</td>\n",
       "      <td>31310</td>\n",
       "      <td>30083</td>\n",
       "      <td>29807</td>\n",
       "      <td>34407</td>\n",
       "    </tr>\n",
       "    <tr>\n",
       "      <th>4</th>\n",
       "      <td>28011</td>\n",
       "      <td>26392</td>\n",
       "      <td>28093</td>\n",
       "      <td>29006</td>\n",
       "      <td>29198</td>\n",
       "      <td>33416</td>\n",
       "    </tr>\n",
       "    <tr>\n",
       "      <th>5</th>\n",
       "      <td>28502</td>\n",
       "      <td>28268</td>\n",
       "      <td>29281</td>\n",
       "      <td>31426</td>\n",
       "      <td>30857</td>\n",
       "      <td>33410</td>\n",
       "    </tr>\n",
       "  </tbody>\n",
       "</table>\n",
       "</div>"
      ],
      "text/plain": [
       "year    2010   2011   2012   2013   2014   2015\n",
       "month                                          \n",
       "1      27476  27676  28597  28481  27770  31205\n",
       "2      26659  27868  27370  26903  28651  31568\n",
       "3      29187  30086  31310  30083  29807  34407\n",
       "4      28011  26392  28093  29006  29198  33416\n",
       "5      28502  28268  29281  31426  30857  33410"
      ]
     },
     "execution_count": 21,
     "metadata": {},
     "output_type": "execute_result"
    }
   ],
   "source": [
    "df4.head()"
   ]
  },
  {
   "cell_type": "code",
   "execution_count": 22,
   "metadata": {},
   "outputs": [
    {
     "data": {
      "text/plain": [
       "<matplotlib.axes._subplots.AxesSubplot at 0x12c046e6358>"
      ]
     },
     "execution_count": 22,
     "metadata": {},
     "output_type": "execute_result"
    },
    {
     "data": {
      "image/png": "[encoded data removed]",
      "text/plain": [
       "<Figure size 432x288 with 1 Axes>"
      ]
     },
     "metadata": {
      "needs_background": "light"
     },
     "output_type": "display_data"
    }
   ],
   "source": [
    "df4.plot()"
   ]
  },
  {
   "cell_type": "code",
   "execution_count": 23,
   "metadata": {},
   "outputs": [
    {
     "name": "stderr",
     "output_type": "stream",
     "text": [
      "C:\\Users\\aniha\\Anaconda3\\lib\\site-packages\\ipykernel_launcher.py:3: SettingWithCopyWarning: \n",
      "A value is trying to be set on a copy of a slice from a DataFrame.\n",
      "Try using .loc[row_indexer,col_indexer] = value instead\n",
      "\n",
      "See the caveats in the documentation: http://pandas.pydata.org/pandas-docs/stable/indexing.html#indexing-view-versus-copy\n",
      "  This is separate from the ipykernel package so we can avoid doing imports until\n"
     ]
    },
    {
     "data": {
      "text/html": [
       "<div>\n",
       "<style scoped>\n",
       "    .dataframe tbody tr th:only-of-type {\n",
       "        vertical-align: middle;\n",
       "    }\n",
       "\n",
       "    .dataframe tbody tr th {\n",
       "        vertical-align: top;\n",
       "    }\n",
       "\n",
       "    .dataframe thead th {\n",
       "        text-align: right;\n",
       "    }\n",
       "</style>\n",
       "<table border=\"1\" class=\"dataframe\">\n",
       "  <thead>\n",
       "    <tr style=\"text-align: right;\">\n",
       "      <th>year</th>\n",
       "      <th>2010</th>\n",
       "      <th>2011</th>\n",
       "      <th>2012</th>\n",
       "      <th>2013</th>\n",
       "      <th>2014</th>\n",
       "      <th>2015</th>\n",
       "    </tr>\n",
       "    <tr>\n",
       "      <th>month</th>\n",
       "      <th></th>\n",
       "      <th></th>\n",
       "      <th></th>\n",
       "      <th></th>\n",
       "      <th></th>\n",
       "      <th></th>\n",
       "    </tr>\n",
       "  </thead>\n",
       "  <tbody>\n",
       "    <tr>\n",
       "      <th>1</th>\n",
       "      <td>0.000736</td>\n",
       "      <td>27676</td>\n",
       "      <td>28597</td>\n",
       "      <td>28481</td>\n",
       "      <td>27770</td>\n",
       "      <td>31205</td>\n",
       "    </tr>\n",
       "    <tr>\n",
       "      <th>2</th>\n",
       "      <td>0.000714</td>\n",
       "      <td>27868</td>\n",
       "      <td>27370</td>\n",
       "      <td>26903</td>\n",
       "      <td>28651</td>\n",
       "      <td>31568</td>\n",
       "    </tr>\n",
       "    <tr>\n",
       "      <th>3</th>\n",
       "      <td>0.000782</td>\n",
       "      <td>30086</td>\n",
       "      <td>31310</td>\n",
       "      <td>30083</td>\n",
       "      <td>29807</td>\n",
       "      <td>34407</td>\n",
       "    </tr>\n",
       "    <tr>\n",
       "      <th>4</th>\n",
       "      <td>0.000751</td>\n",
       "      <td>26392</td>\n",
       "      <td>28093</td>\n",
       "      <td>29006</td>\n",
       "      <td>29198</td>\n",
       "      <td>33416</td>\n",
       "    </tr>\n",
       "    <tr>\n",
       "      <th>5</th>\n",
       "      <td>0.000764</td>\n",
       "      <td>28268</td>\n",
       "      <td>29281</td>\n",
       "      <td>31426</td>\n",
       "      <td>30857</td>\n",
       "      <td>33410</td>\n",
       "    </tr>\n",
       "    <tr>\n",
       "      <th>6</th>\n",
       "      <td>0.000730</td>\n",
       "      <td>28816</td>\n",
       "      <td>28939</td>\n",
       "      <td>30098</td>\n",
       "      <td>28375</td>\n",
       "      <td>33651</td>\n",
       "    </tr>\n",
       "    <tr>\n",
       "      <th>7</th>\n",
       "      <td>0.000763</td>\n",
       "      <td>28513</td>\n",
       "      <td>28413</td>\n",
       "      <td>29877</td>\n",
       "      <td>30898</td>\n",
       "      <td>34791</td>\n",
       "    </tr>\n",
       "    <tr>\n",
       "      <th>8</th>\n",
       "      <td>0.000797</td>\n",
       "      <td>29875</td>\n",
       "      <td>31032</td>\n",
       "      <td>31739</td>\n",
       "      <td>32958</td>\n",
       "      <td>36234</td>\n",
       "    </tr>\n",
       "    <tr>\n",
       "      <th>9</th>\n",
       "      <td>0.000808</td>\n",
       "      <td>29726</td>\n",
       "      <td>28522</td>\n",
       "      <td>31267</td>\n",
       "      <td>32862</td>\n",
       "      <td>36111</td>\n",
       "    </tr>\n",
       "    <tr>\n",
       "      <th>10</th>\n",
       "      <td>0.000877</td>\n",
       "      <td>32389</td>\n",
       "      <td>32217</td>\n",
       "      <td>34607</td>\n",
       "      <td>36688</td>\n",
       "      <td>38775</td>\n",
       "    </tr>\n",
       "    <tr>\n",
       "      <th>11</th>\n",
       "      <td>0.000853</td>\n",
       "      <td>31601</td>\n",
       "      <td>31759</td>\n",
       "      <td>32206</td>\n",
       "      <td>33141</td>\n",
       "      <td>37622</td>\n",
       "    </tr>\n",
       "    <tr>\n",
       "      <th>12</th>\n",
       "      <td>0.000896</td>\n",
       "      <td>30571</td>\n",
       "      <td>30871</td>\n",
       "      <td>30475</td>\n",
       "      <td>33382</td>\n",
       "      <td>39286</td>\n",
       "    </tr>\n",
       "  </tbody>\n",
       "</table>\n",
       "</div>"
      ],
      "text/plain": [
       "year       2010   2011   2012   2013   2014   2015\n",
       "month                                             \n",
       "1      0.000736  27676  28597  28481  27770  31205\n",
       "2      0.000714  27868  27370  26903  28651  31568\n",
       "3      0.000782  30086  31310  30083  29807  34407\n",
       "4      0.000751  26392  28093  29006  29198  33416\n",
       "5      0.000764  28268  29281  31426  30857  33410\n",
       "6      0.000730  28816  28939  30098  28375  33651\n",
       "7      0.000763  28513  28413  29877  30898  34791\n",
       "8      0.000797  29875  31032  31739  32958  36234\n",
       "9      0.000808  29726  28522  31267  32862  36111\n",
       "10     0.000877  32389  32217  34607  36688  38775\n",
       "11     0.000853  31601  31759  32206  33141  37622\n",
       "12     0.000896  30571  30871  30475  33382  39286"
      ]
     },
     "execution_count": 23,
     "metadata": {},
     "output_type": "execute_result"
    }
   ],
   "source": [
    "pop =  [37319502, 37638369, 37948800, 38260787, 38596972, 38918045]\n",
    "years = [2010, 2011, 2012, 2013, 2014, 2015]\n",
    "df4[2010] = df4[2010] / 37319502\n",
    "df4"
   ]
  },
  {
   "cell_type": "code",
   "execution_count": 24,
   "metadata": {},
   "outputs": [
    {
     "name": "stderr",
     "output_type": "stream",
     "text": [
      "C:\\Users\\aniha\\Anaconda3\\lib\\site-packages\\ipykernel_launcher.py:1: SettingWithCopyWarning: \n",
      "A value is trying to be set on a copy of a slice from a DataFrame.\n",
      "Try using .loc[row_indexer,col_indexer] = value instead\n",
      "\n",
      "See the caveats in the documentation: http://pandas.pydata.org/pandas-docs/stable/indexing.html#indexing-view-versus-copy\n",
      "  \"\"\"Entry point for launching an IPython kernel.\n",
      "C:\\Users\\aniha\\Anaconda3\\lib\\site-packages\\ipykernel_launcher.py:2: SettingWithCopyWarning: \n",
      "A value is trying to be set on a copy of a slice from a DataFrame.\n",
      "Try using .loc[row_indexer,col_indexer] = value instead\n",
      "\n",
      "See the caveats in the documentation: http://pandas.pydata.org/pandas-docs/stable/indexing.html#indexing-view-versus-copy\n",
      "  \n",
      "C:\\Users\\aniha\\Anaconda3\\lib\\site-packages\\ipykernel_launcher.py:3: SettingWithCopyWarning: \n",
      "A value is trying to be set on a copy of a slice from a DataFrame.\n",
      "Try using .loc[row_indexer,col_indexer] = value instead\n",
      "\n",
      "See the caveats in the documentation: http://pandas.pydata.org/pandas-docs/stable/indexing.html#indexing-view-versus-copy\n",
      "  This is separate from the ipykernel package so we can avoid doing imports until\n",
      "C:\\Users\\aniha\\Anaconda3\\lib\\site-packages\\ipykernel_launcher.py:4: SettingWithCopyWarning: \n",
      "A value is trying to be set on a copy of a slice from a DataFrame.\n",
      "Try using .loc[row_indexer,col_indexer] = value instead\n",
      "\n",
      "See the caveats in the documentation: http://pandas.pydata.org/pandas-docs/stable/indexing.html#indexing-view-versus-copy\n",
      "  after removing the cwd from sys.path.\n",
      "C:\\Users\\aniha\\Anaconda3\\lib\\site-packages\\ipykernel_launcher.py:5: SettingWithCopyWarning: \n",
      "A value is trying to be set on a copy of a slice from a DataFrame.\n",
      "Try using .loc[row_indexer,col_indexer] = value instead\n",
      "\n",
      "See the caveats in the documentation: http://pandas.pydata.org/pandas-docs/stable/indexing.html#indexing-view-versus-copy\n",
      "  \"\"\"\n"
     ]
    }
   ],
   "source": [
    "df4[2011] = df4[2011] / 37638369\n",
    "df4[2012] = df4[2012] / 37948800\n",
    "df4[2013] = df4[2013] / 38260787\n",
    "df4[2014] = df4[2014] / 38596972\n",
    "df4[2015] = df4[2015] / 38918045"
   ]
  },
  {
   "cell_type": "code",
   "execution_count": 25,
   "metadata": {},
   "outputs": [
    {
     "data": {
      "text/html": [
       "<div>\n",
       "<style scoped>\n",
       "    .dataframe tbody tr th:only-of-type {\n",
       "        vertical-align: middle;\n",
       "    }\n",
       "\n",
       "    .dataframe tbody tr th {\n",
       "        vertical-align: top;\n",
       "    }\n",
       "\n",
       "    .dataframe thead th {\n",
       "        text-align: right;\n",
       "    }\n",
       "</style>\n",
       "<table border=\"1\" class=\"dataframe\">\n",
       "  <thead>\n",
       "    <tr style=\"text-align: right;\">\n",
       "      <th>year</th>\n",
       "      <th>2010</th>\n",
       "      <th>2011</th>\n",
       "      <th>2012</th>\n",
       "      <th>2013</th>\n",
       "      <th>2014</th>\n",
       "      <th>2015</th>\n",
       "    </tr>\n",
       "    <tr>\n",
       "      <th>month</th>\n",
       "      <th></th>\n",
       "      <th></th>\n",
       "      <th></th>\n",
       "      <th></th>\n",
       "      <th></th>\n",
       "      <th></th>\n",
       "    </tr>\n",
       "  </thead>\n",
       "  <tbody>\n",
       "    <tr>\n",
       "      <th>1</th>\n",
       "      <td>0.000736</td>\n",
       "      <td>0.000735</td>\n",
       "      <td>0.000754</td>\n",
       "      <td>0.000744</td>\n",
       "      <td>0.000719</td>\n",
       "      <td>0.000802</td>\n",
       "    </tr>\n",
       "    <tr>\n",
       "      <th>2</th>\n",
       "      <td>0.000714</td>\n",
       "      <td>0.000740</td>\n",
       "      <td>0.000721</td>\n",
       "      <td>0.000703</td>\n",
       "      <td>0.000742</td>\n",
       "      <td>0.000811</td>\n",
       "    </tr>\n",
       "    <tr>\n",
       "      <th>3</th>\n",
       "      <td>0.000782</td>\n",
       "      <td>0.000799</td>\n",
       "      <td>0.000825</td>\n",
       "      <td>0.000786</td>\n",
       "      <td>0.000772</td>\n",
       "      <td>0.000884</td>\n",
       "    </tr>\n",
       "    <tr>\n",
       "      <th>4</th>\n",
       "      <td>0.000751</td>\n",
       "      <td>0.000701</td>\n",
       "      <td>0.000740</td>\n",
       "      <td>0.000758</td>\n",
       "      <td>0.000756</td>\n",
       "      <td>0.000859</td>\n",
       "    </tr>\n",
       "    <tr>\n",
       "      <th>5</th>\n",
       "      <td>0.000764</td>\n",
       "      <td>0.000751</td>\n",
       "      <td>0.000772</td>\n",
       "      <td>0.000821</td>\n",
       "      <td>0.000799</td>\n",
       "      <td>0.000858</td>\n",
       "    </tr>\n",
       "    <tr>\n",
       "      <th>6</th>\n",
       "      <td>0.000730</td>\n",
       "      <td>0.000766</td>\n",
       "      <td>0.000763</td>\n",
       "      <td>0.000787</td>\n",
       "      <td>0.000735</td>\n",
       "      <td>0.000865</td>\n",
       "    </tr>\n",
       "    <tr>\n",
       "      <th>7</th>\n",
       "      <td>0.000763</td>\n",
       "      <td>0.000758</td>\n",
       "      <td>0.000749</td>\n",
       "      <td>0.000781</td>\n",
       "      <td>0.000801</td>\n",
       "      <td>0.000894</td>\n",
       "    </tr>\n",
       "    <tr>\n",
       "      <th>8</th>\n",
       "      <td>0.000797</td>\n",
       "      <td>0.000794</td>\n",
       "      <td>0.000818</td>\n",
       "      <td>0.000830</td>\n",
       "      <td>0.000854</td>\n",
       "      <td>0.000931</td>\n",
       "    </tr>\n",
       "    <tr>\n",
       "      <th>9</th>\n",
       "      <td>0.000808</td>\n",
       "      <td>0.000790</td>\n",
       "      <td>0.000752</td>\n",
       "      <td>0.000817</td>\n",
       "      <td>0.000851</td>\n",
       "      <td>0.000928</td>\n",
       "    </tr>\n",
       "    <tr>\n",
       "      <th>10</th>\n",
       "      <td>0.000877</td>\n",
       "      <td>0.000861</td>\n",
       "      <td>0.000849</td>\n",
       "      <td>0.000905</td>\n",
       "      <td>0.000951</td>\n",
       "      <td>0.000996</td>\n",
       "    </tr>\n",
       "    <tr>\n",
       "      <th>11</th>\n",
       "      <td>0.000853</td>\n",
       "      <td>0.000840</td>\n",
       "      <td>0.000837</td>\n",
       "      <td>0.000842</td>\n",
       "      <td>0.000859</td>\n",
       "      <td>0.000967</td>\n",
       "    </tr>\n",
       "    <tr>\n",
       "      <th>12</th>\n",
       "      <td>0.000896</td>\n",
       "      <td>0.000812</td>\n",
       "      <td>0.000813</td>\n",
       "      <td>0.000797</td>\n",
       "      <td>0.000865</td>\n",
       "      <td>0.001009</td>\n",
       "    </tr>\n",
       "  </tbody>\n",
       "</table>\n",
       "</div>"
      ],
      "text/plain": [
       "year       2010      2011      2012      2013      2014      2015\n",
       "month                                                            \n",
       "1      0.000736  0.000735  0.000754  0.000744  0.000719  0.000802\n",
       "2      0.000714  0.000740  0.000721  0.000703  0.000742  0.000811\n",
       "3      0.000782  0.000799  0.000825  0.000786  0.000772  0.000884\n",
       "4      0.000751  0.000701  0.000740  0.000758  0.000756  0.000859\n",
       "5      0.000764  0.000751  0.000772  0.000821  0.000799  0.000858\n",
       "6      0.000730  0.000766  0.000763  0.000787  0.000735  0.000865\n",
       "7      0.000763  0.000758  0.000749  0.000781  0.000801  0.000894\n",
       "8      0.000797  0.000794  0.000818  0.000830  0.000854  0.000931\n",
       "9      0.000808  0.000790  0.000752  0.000817  0.000851  0.000928\n",
       "10     0.000877  0.000861  0.000849  0.000905  0.000951  0.000996\n",
       "11     0.000853  0.000840  0.000837  0.000842  0.000859  0.000967\n",
       "12     0.000896  0.000812  0.000813  0.000797  0.000865  0.001009"
      ]
     },
     "execution_count": 25,
     "metadata": {},
     "output_type": "execute_result"
    }
   ],
   "source": [
    "df4"
   ]
  },
  {
   "cell_type": "code",
   "execution_count": 26,
   "metadata": {},
   "outputs": [
    {
     "data": {
      "text/plain": [
       "<matplotlib.axes._subplots.AxesSubplot at 0x12c07d89fd0>"
      ]
     },
     "execution_count": 26,
     "metadata": {},
     "output_type": "execute_result"
    },
    {
     "data": {
      "image/png": "[encoded data removed]",
      "text/plain": [
       "<Figure size 432x288 with 1 Axes>"
      ]
     },
     "metadata": {
      "needs_background": "light"
     },
     "output_type": "display_data"
    }
   ],
   "source": [
    "df4.plot()"
   ]
  },
  {
   "cell_type": "code",
   "execution_count": 50,
   "metadata": {},
   "outputs": [
    {
     "data": {
      "text/plain": [
       "Int64Index([1, 2, 3, 4, 5, 6, 7, 8, 9, 10, 11, 12], dtype='int64', name='month')"
      ]
     },
     "execution_count": 50,
     "metadata": {},
     "output_type": "execute_result"
    }
   ],
   "source": []
  },
  {
   "cell_type": "code",
   "execution_count": 51,
   "metadata": {},
   "outputs": [],
   "source": [
    "df7 = pd.crosstab(CA['year'],CA['month'])\n",
    "df7 = df7.T\n",
    "pop =  [36961229, 37319502, 37638369, 37948800, 38260787, 38596972, 38918045, 39167117]\n",
    "#years = [2010, 2011, 2012, 2013, 2014, 2015]\n",
    "df7[2009] = df7[2009] / 36961229\n",
    "df7[2010] = df7[2010] / 37319502\n",
    "df7[2011] = df7[2011] / 37638369\n",
    "df7[2012] = df7[2012] / 37948800\n",
    "df7[2013] = df7[2013] / 38260787\n",
    "df7[2014] = df7[2014] / 38596972\n",
    "df7[2015] = df7[2015] / 38918045\n",
    "df7[2016] = df7[2016] / 39167117"
   ]
  },
  {
   "cell_type": "code",
   "execution_count": 53,
   "metadata": {},
   "outputs": [
    {
     "data": {
      "text/plain": [
       "<matplotlib.axes._subplots.AxesSubplot at 0x12c064c1278>"
      ]
     },
     "execution_count": 53,
     "metadata": {},
     "output_type": "execute_result"
    },
    {
     "data": {
      "image/png": "[encoded data removed]",
      "text/plain": [
       "<Figure size 432x288 with 1 Axes>"
      ]
     },
     "metadata": {
      "needs_background": "light"
     },
     "output_type": "display_data"
    }
   ],
   "source": [
    "df7.plot()"
   ]
  },
  {
   "cell_type": "code",
   "execution_count": 35,
   "metadata": {},
   "outputs": [],
   "source": [
    "x = CA[['year', 'violation']]"
   ]
  },
  {
   "cell_type": "code",
   "execution_count": 36,
   "metadata": {},
   "outputs": [
    {
     "data": {
      "text/html": [
       "<div>\n",
       "<style scoped>\n",
       "    .dataframe tbody tr th:only-of-type {\n",
       "        vertical-align: middle;\n",
       "    }\n",
       "\n",
       "    .dataframe tbody tr th {\n",
       "        vertical-align: top;\n",
       "    }\n",
       "\n",
       "    .dataframe thead th {\n",
       "        text-align: right;\n",
       "    }\n",
       "</style>\n",
       "<table border=\"1\" class=\"dataframe\">\n",
       "  <thead>\n",
       "    <tr style=\"text-align: right;\">\n",
       "      <th></th>\n",
       "      <th>year</th>\n",
       "      <th>violation</th>\n",
       "    </tr>\n",
       "  </thead>\n",
       "  <tbody>\n",
       "    <tr>\n",
       "      <th>97</th>\n",
       "      <td>2009</td>\n",
       "      <td>Traffic Collision</td>\n",
       "    </tr>\n",
       "    <tr>\n",
       "      <th>176</th>\n",
       "      <td>2009</td>\n",
       "      <td>Traffic Collision</td>\n",
       "    </tr>\n",
       "    <tr>\n",
       "      <th>231</th>\n",
       "      <td>2009</td>\n",
       "      <td>Traffic Collision</td>\n",
       "    </tr>\n",
       "    <tr>\n",
       "      <th>236</th>\n",
       "      <td>2009</td>\n",
       "      <td>Traffic Collision</td>\n",
       "    </tr>\n",
       "    <tr>\n",
       "      <th>237</th>\n",
       "      <td>2009</td>\n",
       "      <td>Traffic Collision</td>\n",
       "    </tr>\n",
       "  </tbody>\n",
       "</table>\n",
       "</div>"
      ],
      "text/plain": [
       "     year          violation\n",
       "97   2009  Traffic Collision\n",
       "176  2009  Traffic Collision\n",
       "231  2009  Traffic Collision\n",
       "236  2009  Traffic Collision\n",
       "237  2009  Traffic Collision"
      ]
     },
     "execution_count": 36,
     "metadata": {},
     "output_type": "execute_result"
    }
   ],
   "source": [
    "x.head()"
   ]
  },
  {
   "cell_type": "code",
   "execution_count": 39,
   "metadata": {},
   "outputs": [
    {
     "data": {
      "text/html": [
       "<div>\n",
       "<style scoped>\n",
       "    .dataframe tbody tr th:only-of-type {\n",
       "        vertical-align: middle;\n",
       "    }\n",
       "\n",
       "    .dataframe tbody tr th {\n",
       "        vertical-align: top;\n",
       "    }\n",
       "\n",
       "    .dataframe thead th {\n",
       "        text-align: right;\n",
       "    }\n",
       "</style>\n",
       "<table border=\"1\" class=\"dataframe\">\n",
       "  <thead>\n",
       "    <tr style=\"text-align: right;\">\n",
       "      <th>col_0</th>\n",
       "      <th>count</th>\n",
       "    </tr>\n",
       "    <tr>\n",
       "      <th>year</th>\n",
       "      <th></th>\n",
       "    </tr>\n",
       "  </thead>\n",
       "  <tbody>\n",
       "    <tr>\n",
       "      <th>2009</th>\n",
       "      <td>172679</td>\n",
       "    </tr>\n",
       "    <tr>\n",
       "      <th>2010</th>\n",
       "      <td>353453</td>\n",
       "    </tr>\n",
       "    <tr>\n",
       "      <th>2011</th>\n",
       "      <td>351781</td>\n",
       "    </tr>\n",
       "    <tr>\n",
       "      <th>2012</th>\n",
       "      <td>356404</td>\n",
       "    </tr>\n",
       "    <tr>\n",
       "      <th>2013</th>\n",
       "      <td>366168</td>\n",
       "    </tr>\n",
       "    <tr>\n",
       "      <th>2014</th>\n",
       "      <td>374587</td>\n",
       "    </tr>\n",
       "    <tr>\n",
       "      <th>2015</th>\n",
       "      <td>420476</td>\n",
       "    </tr>\n",
       "    <tr>\n",
       "      <th>2016</th>\n",
       "      <td>222961</td>\n",
       "    </tr>\n",
       "  </tbody>\n",
       "</table>\n",
       "</div>"
      ],
      "text/plain": [
       "col_0   count\n",
       "year         \n",
       "2009   172679\n",
       "2010   353453\n",
       "2011   351781\n",
       "2012   356404\n",
       "2013   366168\n",
       "2014   374587\n",
       "2015   420476\n",
       "2016   222961"
      ]
     },
     "execution_count": 39,
     "metadata": {},
     "output_type": "execute_result"
    }
   ],
   "source": [
    "df1 = pd.crosstab(CA['year'], 'count')\n",
    "df1"
   ]
  },
  {
   "cell_type": "code",
   "execution_count": 40,
   "metadata": {},
   "outputs": [],
   "source": [
    "df1 = df1.reset_index()"
   ]
  },
  {
   "cell_type": "code",
   "execution_count": 41,
   "metadata": {},
   "outputs": [
    {
     "data": {
      "text/html": [
       "<div>\n",
       "<style scoped>\n",
       "    .dataframe tbody tr th:only-of-type {\n",
       "        vertical-align: middle;\n",
       "    }\n",
       "\n",
       "    .dataframe tbody tr th {\n",
       "        vertical-align: top;\n",
       "    }\n",
       "\n",
       "    .dataframe thead th {\n",
       "        text-align: right;\n",
       "    }\n",
       "</style>\n",
       "<table border=\"1\" class=\"dataframe\">\n",
       "  <thead>\n",
       "    <tr style=\"text-align: right;\">\n",
       "      <th>col_0</th>\n",
       "      <th>year</th>\n",
       "      <th>count</th>\n",
       "    </tr>\n",
       "  </thead>\n",
       "  <tbody>\n",
       "    <tr>\n",
       "      <th>0</th>\n",
       "      <td>2009</td>\n",
       "      <td>172679</td>\n",
       "    </tr>\n",
       "    <tr>\n",
       "      <th>1</th>\n",
       "      <td>2010</td>\n",
       "      <td>353453</td>\n",
       "    </tr>\n",
       "    <tr>\n",
       "      <th>2</th>\n",
       "      <td>2011</td>\n",
       "      <td>351781</td>\n",
       "    </tr>\n",
       "    <tr>\n",
       "      <th>3</th>\n",
       "      <td>2012</td>\n",
       "      <td>356404</td>\n",
       "    </tr>\n",
       "    <tr>\n",
       "      <th>4</th>\n",
       "      <td>2013</td>\n",
       "      <td>366168</td>\n",
       "    </tr>\n",
       "    <tr>\n",
       "      <th>5</th>\n",
       "      <td>2014</td>\n",
       "      <td>374587</td>\n",
       "    </tr>\n",
       "    <tr>\n",
       "      <th>6</th>\n",
       "      <td>2015</td>\n",
       "      <td>420476</td>\n",
       "    </tr>\n",
       "    <tr>\n",
       "      <th>7</th>\n",
       "      <td>2016</td>\n",
       "      <td>222961</td>\n",
       "    </tr>\n",
       "  </tbody>\n",
       "</table>\n",
       "</div>"
      ],
      "text/plain": [
       "col_0  year   count\n",
       "0      2009  172679\n",
       "1      2010  353453\n",
       "2      2011  351781\n",
       "3      2012  356404\n",
       "4      2013  366168\n",
       "5      2014  374587\n",
       "6      2015  420476\n",
       "7      2016  222961"
      ]
     },
     "execution_count": 41,
     "metadata": {},
     "output_type": "execute_result"
    }
   ],
   "source": [
    "df1"
   ]
  },
  {
   "cell_type": "code",
   "execution_count": 42,
   "metadata": {},
   "outputs": [],
   "source": [
    "population = [36961229, 37319502, 37638369, 37948800, 38260787, 38596972, 38918045, 39167117]"
   ]
  },
  {
   "cell_type": "code",
   "execution_count": 43,
   "metadata": {},
   "outputs": [],
   "source": [
    "df1['population'] = population\n",
    "df1['Crashes_Normalized'] = df1['count']/df1['population']"
   ]
  },
  {
   "cell_type": "code",
   "execution_count": 44,
   "metadata": {},
   "outputs": [
    {
     "data": {
      "text/html": [
       "<div>\n",
       "<style scoped>\n",
       "    .dataframe tbody tr th:only-of-type {\n",
       "        vertical-align: middle;\n",
       "    }\n",
       "\n",
       "    .dataframe tbody tr th {\n",
       "        vertical-align: top;\n",
       "    }\n",
       "\n",
       "    .dataframe thead th {\n",
       "        text-align: right;\n",
       "    }\n",
       "</style>\n",
       "<table border=\"1\" class=\"dataframe\">\n",
       "  <thead>\n",
       "    <tr style=\"text-align: right;\">\n",
       "      <th>col_0</th>\n",
       "      <th>year</th>\n",
       "      <th>count</th>\n",
       "      <th>population</th>\n",
       "      <th>Crashes_Normalized</th>\n",
       "    </tr>\n",
       "  </thead>\n",
       "  <tbody>\n",
       "    <tr>\n",
       "      <th>0</th>\n",
       "      <td>2009</td>\n",
       "      <td>172679</td>\n",
       "      <td>36961229</td>\n",
       "      <td>0.004672</td>\n",
       "    </tr>\n",
       "    <tr>\n",
       "      <th>1</th>\n",
       "      <td>2010</td>\n",
       "      <td>353453</td>\n",
       "      <td>37319502</td>\n",
       "      <td>0.009471</td>\n",
       "    </tr>\n",
       "    <tr>\n",
       "      <th>2</th>\n",
       "      <td>2011</td>\n",
       "      <td>351781</td>\n",
       "      <td>37638369</td>\n",
       "      <td>0.009346</td>\n",
       "    </tr>\n",
       "    <tr>\n",
       "      <th>3</th>\n",
       "      <td>2012</td>\n",
       "      <td>356404</td>\n",
       "      <td>37948800</td>\n",
       "      <td>0.009392</td>\n",
       "    </tr>\n",
       "    <tr>\n",
       "      <th>4</th>\n",
       "      <td>2013</td>\n",
       "      <td>366168</td>\n",
       "      <td>38260787</td>\n",
       "      <td>0.009570</td>\n",
       "    </tr>\n",
       "  </tbody>\n",
       "</table>\n",
       "</div>"
      ],
      "text/plain": [
       "col_0  year   count  population  Crashes_Normalized\n",
       "0      2009  172679    36961229            0.004672\n",
       "1      2010  353453    37319502            0.009471\n",
       "2      2011  351781    37638369            0.009346\n",
       "3      2012  356404    37948800            0.009392\n",
       "4      2013  366168    38260787            0.009570"
      ]
     },
     "execution_count": 44,
     "metadata": {},
     "output_type": "execute_result"
    }
   ],
   "source": [
    "df1.head()"
   ]
  },
  {
   "cell_type": "code",
   "execution_count": 46,
   "metadata": {},
   "outputs": [
    {
     "data": {
      "image/png": "[encoded data removed]",
      "text/plain": [
       "<Figure size 432x288 with 1 Axes>"
      ]
     },
     "metadata": {
      "needs_background": "light"
     },
     "output_type": "display_data"
    }
   ],
   "source": [
    "import matplotlib.pylab as plt\n",
    "%matplotlib inline\n",
    "\n",
    "# your code here\n",
    "#Plotting the depth vs accuracy\n",
    "fig, ax = plt.subplots() #get axis to plot on\n",
    "df1.plot(ax=ax,x='year',y='count')#, yticks=np.arange(0, 7000000, step=1000000)) #show the data\n",
    "plt.ylabel('Total Crashes Per Year')\n",
    "plt.show()"
   ]
  },
  {
   "cell_type": "code",
   "execution_count": 47,
   "metadata": {},
   "outputs": [
    {
     "data": {
      "image/png": "[encoded data removed]",
      "text/plain": [
       "<Figure size 432x288 with 1 Axes>"
      ]
     },
     "metadata": {
      "needs_background": "light"
     },
     "output_type": "display_data"
    }
   ],
   "source": [
    "import matplotlib.pylab as plt\n",
    "%matplotlib inline\n",
    "\n",
    "# your code here\n",
    "#Plotting the depth vs accuracy\n",
    "fig, ax = plt.subplots() #get axis to plot on\n",
    "df1.plot(ax=ax,x='year',y='Crashes_Normalized') #show the data\n",
    "plt.ylabel('Crashes Per Population')\n",
    "plt.show()"
   ]
  },
  {
   "cell_type": "code",
   "execution_count": 45,
   "metadata": {},
   "outputs": [
    {
     "data": {
      "text/plain": [
       "array(['Motorist / Public Service', 'Moving Violation (VC)',\n",
       "       'Mechanical or Nonmoving Violation (VC)', 'DUI Check',\n",
       "       'Inspection / Scale Facility', 'Traffic Collision',\n",
       "       'Penal Code / All Other Codes',\n",
       "       'Other Agency Assist / BOLO / APB / Warrant'], dtype=object)"
      ]
     },
     "execution_count": 45,
     "metadata": {},
     "output_type": "execute_result"
    }
   ],
   "source": [
    "(CA_statewide.violation.unique())"
   ]
  },
  {
   "cell_type": "code",
   "execution_count": 42,
   "metadata": {},
   "outputs": [
    {
     "data": {
      "text/plain": [
       "array(['vehicular'], dtype=object)"
      ]
     },
     "execution_count": 42,
     "metadata": {},
     "output_type": "execute_result"
    }
   ],
   "source": [
    "CA_statewide.type.unique()"
   ]
  },
  {
   "cell_type": "code",
   "execution_count": 47,
   "metadata": {},
   "outputs": [],
   "source": [
    "df2 = pd.crosstab(x['violation'], 'count')\n",
    "df2 = df2.reset_index()"
   ]
  },
  {
   "cell_type": "code",
   "execution_count": 49,
   "metadata": {},
   "outputs": [],
   "source": [
    "df2['population'] = population\n",
    "df2['Violations_Normalized'] = df2['count']/df1['population']"
   ]
  },
  {
   "cell_type": "code",
   "execution_count": 51,
   "metadata": {},
   "outputs": [
    {
     "data": {
      "text/html": [
       "<div>\n",
       "<style scoped>\n",
       "    .dataframe tbody tr th:only-of-type {\n",
       "        vertical-align: middle;\n",
       "    }\n",
       "\n",
       "    .dataframe tbody tr th {\n",
       "        vertical-align: top;\n",
       "    }\n",
       "\n",
       "    .dataframe thead th {\n",
       "        text-align: right;\n",
       "    }\n",
       "</style>\n",
       "<table border=\"1\" class=\"dataframe\">\n",
       "  <thead>\n",
       "    <tr style=\"text-align: right;\">\n",
       "      <th>col_0</th>\n",
       "      <th>violation</th>\n",
       "      <th>count</th>\n",
       "      <th>population</th>\n",
       "      <th>Violations_Normalized</th>\n",
       "    </tr>\n",
       "  </thead>\n",
       "  <tbody>\n",
       "    <tr>\n",
       "      <th>0</th>\n",
       "      <td>DUI Check</td>\n",
       "      <td>981707</td>\n",
       "      <td>36961229</td>\n",
       "      <td>0.026560</td>\n",
       "    </tr>\n",
       "    <tr>\n",
       "      <th>1</th>\n",
       "      <td>Inspection / Scale Facility</td>\n",
       "      <td>2260698</td>\n",
       "      <td>37319502</td>\n",
       "      <td>0.060577</td>\n",
       "    </tr>\n",
       "    <tr>\n",
       "      <th>2</th>\n",
       "      <td>Mechanical or Nonmoving Violation (VC)</td>\n",
       "      <td>6480506</td>\n",
       "      <td>37638369</td>\n",
       "      <td>0.172178</td>\n",
       "    </tr>\n",
       "    <tr>\n",
       "      <th>3</th>\n",
       "      <td>Motorist / Public Service</td>\n",
       "      <td>6025049</td>\n",
       "      <td>37948800</td>\n",
       "      <td>0.158768</td>\n",
       "    </tr>\n",
       "    <tr>\n",
       "      <th>4</th>\n",
       "      <td>Moving Violation (VC)</td>\n",
       "      <td>13202009</td>\n",
       "      <td>38260787</td>\n",
       "      <td>0.345053</td>\n",
       "    </tr>\n",
       "    <tr>\n",
       "      <th>5</th>\n",
       "      <td>Other Agency Assist / BOLO / APB / Warrant</td>\n",
       "      <td>72100</td>\n",
       "      <td>38596972</td>\n",
       "      <td>0.001868</td>\n",
       "    </tr>\n",
       "    <tr>\n",
       "      <th>6</th>\n",
       "      <td>Penal Code / All Other Codes</td>\n",
       "      <td>137937</td>\n",
       "      <td>38918045</td>\n",
       "      <td>0.003544</td>\n",
       "    </tr>\n",
       "    <tr>\n",
       "      <th>7</th>\n",
       "      <td>Traffic Collision</td>\n",
       "      <td>2618509</td>\n",
       "      <td>39167117</td>\n",
       "      <td>0.066855</td>\n",
       "    </tr>\n",
       "  </tbody>\n",
       "</table>\n",
       "</div>"
      ],
      "text/plain": [
       "col_0                                   violation     count  population  \\\n",
       "0                                       DUI Check    981707    36961229   \n",
       "1                     Inspection / Scale Facility   2260698    37319502   \n",
       "2          Mechanical or Nonmoving Violation (VC)   6480506    37638369   \n",
       "3                       Motorist / Public Service   6025049    37948800   \n",
       "4                           Moving Violation (VC)  13202009    38260787   \n",
       "5      Other Agency Assist / BOLO / APB / Warrant     72100    38596972   \n",
       "6                    Penal Code / All Other Codes    137937    38918045   \n",
       "7                               Traffic Collision   2618509    39167117   \n",
       "\n",
       "col_0  Violations_Normalized  \n",
       "0                   0.026560  \n",
       "1                   0.060577  \n",
       "2                   0.172178  \n",
       "3                   0.158768  \n",
       "4                   0.345053  \n",
       "5                   0.001868  \n",
       "6                   0.003544  \n",
       "7                   0.066855  "
      ]
     },
     "execution_count": 51,
     "metadata": {},
     "output_type": "execute_result"
    }
   ],
   "source": [
    "df2"
   ]
  },
  {
   "cell_type": "code",
   "execution_count": 53,
   "metadata": {},
   "outputs": [
    {
     "data": {
      "image/png": "[encoded data removed]",
      "text/plain": [
       "<Figure size 432x288 with 1 Axes>"
      ]
     },
     "metadata": {
      "needs_background": "light"
     },
     "output_type": "display_data"
    }
   ],
   "source": [
    "ax = df2.plot.bar(x='violation', y='count')"
   ]
  },
  {
   "cell_type": "code",
   "execution_count": 120,
   "metadata": {},
   "outputs": [],
   "source": [
    "SF = pd.read_csv('ca_san_francisco_2019_12_17.csv')"
   ]
  },
  {
   "cell_type": "code",
   "execution_count": 121,
   "metadata": {},
   "outputs": [
    {
     "data": {
      "text/html": [
       "<div>\n",
       "<style scoped>\n",
       "    .dataframe tbody tr th:only-of-type {\n",
       "        vertical-align: middle;\n",
       "    }\n",
       "\n",
       "    .dataframe tbody tr th {\n",
       "        vertical-align: top;\n",
       "    }\n",
       "\n",
       "    .dataframe thead th {\n",
       "        text-align: right;\n",
       "    }\n",
       "</style>\n",
       "<table border=\"1\" class=\"dataframe\">\n",
       "  <thead>\n",
       "    <tr style=\"text-align: right;\">\n",
       "      <th></th>\n",
       "      <th>raw_row_number</th>\n",
       "      <th>date</th>\n",
       "      <th>subject_race</th>\n",
       "      <th>subject_sex</th>\n",
       "      <th>type</th>\n",
       "      <th>arrest_made</th>\n",
       "      <th>citation_issued</th>\n",
       "      <th>warning_issued</th>\n",
       "      <th>search_conducted</th>\n",
       "      <th>search_vehicle</th>\n",
       "      <th>raw_search_vehicle_description</th>\n",
       "      <th>raw_result_of_contact_description</th>\n",
       "    </tr>\n",
       "  </thead>\n",
       "  <tbody>\n",
       "    <tr>\n",
       "      <th>0</th>\n",
       "      <td>869921</td>\n",
       "      <td>2014-08-01</td>\n",
       "      <td>asian/pacific islander</td>\n",
       "      <td>female</td>\n",
       "      <td>vehicular</td>\n",
       "      <td>False</td>\n",
       "      <td>False</td>\n",
       "      <td>True</td>\n",
       "      <td>False</td>\n",
       "      <td>False</td>\n",
       "      <td>No Search</td>\n",
       "      <td>Warning</td>\n",
       "    </tr>\n",
       "    <tr>\n",
       "      <th>1</th>\n",
       "      <td>869922</td>\n",
       "      <td>2014-08-01</td>\n",
       "      <td>black</td>\n",
       "      <td>male</td>\n",
       "      <td>vehicular</td>\n",
       "      <td>False</td>\n",
       "      <td>True</td>\n",
       "      <td>False</td>\n",
       "      <td>False</td>\n",
       "      <td>False</td>\n",
       "      <td>No Search</td>\n",
       "      <td>Citation</td>\n",
       "    </tr>\n",
       "    <tr>\n",
       "      <th>2</th>\n",
       "      <td>869923</td>\n",
       "      <td>2014-08-01</td>\n",
       "      <td>hispanic</td>\n",
       "      <td>male</td>\n",
       "      <td>vehicular</td>\n",
       "      <td>False</td>\n",
       "      <td>True</td>\n",
       "      <td>False</td>\n",
       "      <td>False</td>\n",
       "      <td>False</td>\n",
       "      <td>No Search</td>\n",
       "      <td>Citation</td>\n",
       "    </tr>\n",
       "    <tr>\n",
       "      <th>3</th>\n",
       "      <td>869924</td>\n",
       "      <td>2014-08-01</td>\n",
       "      <td>hispanic</td>\n",
       "      <td>male</td>\n",
       "      <td>vehicular</td>\n",
       "      <td>False</td>\n",
       "      <td>False</td>\n",
       "      <td>True</td>\n",
       "      <td>False</td>\n",
       "      <td>False</td>\n",
       "      <td>No Search</td>\n",
       "      <td>Warning</td>\n",
       "    </tr>\n",
       "    <tr>\n",
       "      <th>4</th>\n",
       "      <td>869925</td>\n",
       "      <td>2014-08-01</td>\n",
       "      <td>white</td>\n",
       "      <td>male</td>\n",
       "      <td>vehicular</td>\n",
       "      <td>False</td>\n",
       "      <td>True</td>\n",
       "      <td>False</td>\n",
       "      <td>False</td>\n",
       "      <td>False</td>\n",
       "      <td>No Search</td>\n",
       "      <td>Citation</td>\n",
       "    </tr>\n",
       "  </tbody>\n",
       "</table>\n",
       "</div>"
      ],
      "text/plain": [
       "  raw_row_number        date            subject_race subject_sex       type  \\\n",
       "0         869921  2014-08-01  asian/pacific islander      female  vehicular   \n",
       "1         869922  2014-08-01                   black        male  vehicular   \n",
       "2         869923  2014-08-01                hispanic        male  vehicular   \n",
       "3         869924  2014-08-01                hispanic        male  vehicular   \n",
       "4         869925  2014-08-01                   white        male  vehicular   \n",
       "\n",
       "   arrest_made  citation_issued  warning_issued  search_conducted  \\\n",
       "0        False            False            True             False   \n",
       "1        False             True           False             False   \n",
       "2        False             True           False             False   \n",
       "3        False            False            True             False   \n",
       "4        False             True           False             False   \n",
       "\n",
       "   search_vehicle raw_search_vehicle_description  \\\n",
       "0           False                      No Search   \n",
       "1           False                      No Search   \n",
       "2           False                      No Search   \n",
       "3           False                      No Search   \n",
       "4           False                      No Search   \n",
       "\n",
       "  raw_result_of_contact_description  \n",
       "0                           Warning  \n",
       "1                          Citation  \n",
       "2                          Citation  \n",
       "3                           Warning  \n",
       "4                          Citation  "
      ]
     },
     "execution_count": 121,
     "metadata": {},
     "output_type": "execute_result"
    }
   ],
   "source": [
    "SF = SF.dropna(axis=1)\n",
    "SF.head()"
   ]
  },
  {
   "cell_type": "code",
   "execution_count": 124,
   "metadata": {},
   "outputs": [],
   "source": [
    "SF['citation_issued'] = SF['citation_issued'].astype(str)\n",
    "#SF.citation_issued.dtypes"
   ]
  },
  {
   "cell_type": "code",
   "execution_count": 113,
   "metadata": {},
   "outputs": [],
   "source": [
    "citation_true=['True']"
   ]
  },
  {
   "cell_type": "code",
   "execution_count": 114,
   "metadata": {},
   "outputs": [
    {
     "data": {
      "text/plain": [
       "['True']"
      ]
     },
     "execution_count": 114,
     "metadata": {},
     "output_type": "execute_result"
    }
   ],
   "source": [
    "citation_true"
   ]
  },
  {
   "cell_type": "code",
   "execution_count": 125,
   "metadata": {},
   "outputs": [],
   "source": [
    "SF = SF[SF['citation_issued'] == 'True']"
   ]
  },
  {
   "cell_type": "code",
   "execution_count": 126,
   "metadata": {},
   "outputs": [
    {
     "data": {
      "text/html": [
       "<div>\n",
       "<style scoped>\n",
       "    .dataframe tbody tr th:only-of-type {\n",
       "        vertical-align: middle;\n",
       "    }\n",
       "\n",
       "    .dataframe tbody tr th {\n",
       "        vertical-align: top;\n",
       "    }\n",
       "\n",
       "    .dataframe thead th {\n",
       "        text-align: right;\n",
       "    }\n",
       "</style>\n",
       "<table border=\"1\" class=\"dataframe\">\n",
       "  <thead>\n",
       "    <tr style=\"text-align: right;\">\n",
       "      <th></th>\n",
       "      <th>raw_row_number</th>\n",
       "      <th>date</th>\n",
       "      <th>subject_race</th>\n",
       "      <th>subject_sex</th>\n",
       "      <th>type</th>\n",
       "      <th>arrest_made</th>\n",
       "      <th>citation_issued</th>\n",
       "      <th>warning_issued</th>\n",
       "      <th>search_conducted</th>\n",
       "      <th>search_vehicle</th>\n",
       "      <th>raw_search_vehicle_description</th>\n",
       "      <th>raw_result_of_contact_description</th>\n",
       "    </tr>\n",
       "  </thead>\n",
       "  <tbody>\n",
       "    <tr>\n",
       "      <th>1</th>\n",
       "      <td>869922</td>\n",
       "      <td>2014-08-01</td>\n",
       "      <td>black</td>\n",
       "      <td>male</td>\n",
       "      <td>vehicular</td>\n",
       "      <td>False</td>\n",
       "      <td>True</td>\n",
       "      <td>False</td>\n",
       "      <td>False</td>\n",
       "      <td>False</td>\n",
       "      <td>No Search</td>\n",
       "      <td>Citation</td>\n",
       "    </tr>\n",
       "    <tr>\n",
       "      <th>2</th>\n",
       "      <td>869923</td>\n",
       "      <td>2014-08-01</td>\n",
       "      <td>hispanic</td>\n",
       "      <td>male</td>\n",
       "      <td>vehicular</td>\n",
       "      <td>False</td>\n",
       "      <td>True</td>\n",
       "      <td>False</td>\n",
       "      <td>False</td>\n",
       "      <td>False</td>\n",
       "      <td>No Search</td>\n",
       "      <td>Citation</td>\n",
       "    </tr>\n",
       "    <tr>\n",
       "      <th>4</th>\n",
       "      <td>869925</td>\n",
       "      <td>2014-08-01</td>\n",
       "      <td>white</td>\n",
       "      <td>male</td>\n",
       "      <td>vehicular</td>\n",
       "      <td>False</td>\n",
       "      <td>True</td>\n",
       "      <td>False</td>\n",
       "      <td>False</td>\n",
       "      <td>False</td>\n",
       "      <td>No Search</td>\n",
       "      <td>Citation</td>\n",
       "    </tr>\n",
       "    <tr>\n",
       "      <th>5</th>\n",
       "      <td>869926</td>\n",
       "      <td>2014-08-01</td>\n",
       "      <td>black</td>\n",
       "      <td>male</td>\n",
       "      <td>vehicular</td>\n",
       "      <td>False</td>\n",
       "      <td>True</td>\n",
       "      <td>False</td>\n",
       "      <td>False</td>\n",
       "      <td>False</td>\n",
       "      <td>No Search</td>\n",
       "      <td>Citation</td>\n",
       "    </tr>\n",
       "    <tr>\n",
       "      <th>6</th>\n",
       "      <td>869927</td>\n",
       "      <td>2014-08-01</td>\n",
       "      <td>hispanic</td>\n",
       "      <td>male</td>\n",
       "      <td>vehicular</td>\n",
       "      <td>False</td>\n",
       "      <td>True</td>\n",
       "      <td>False</td>\n",
       "      <td>False</td>\n",
       "      <td>False</td>\n",
       "      <td>No Search</td>\n",
       "      <td>Citation</td>\n",
       "    </tr>\n",
       "  </tbody>\n",
       "</table>\n",
       "</div>"
      ],
      "text/plain": [
       "  raw_row_number        date subject_race subject_sex       type  arrest_made  \\\n",
       "1         869922  2014-08-01        black        male  vehicular        False   \n",
       "2         869923  2014-08-01     hispanic        male  vehicular        False   \n",
       "4         869925  2014-08-01        white        male  vehicular        False   \n",
       "5         869926  2014-08-01        black        male  vehicular        False   \n",
       "6         869927  2014-08-01     hispanic        male  vehicular        False   \n",
       "\n",
       "  citation_issued  warning_issued  search_conducted  search_vehicle  \\\n",
       "1            True           False             False           False   \n",
       "2            True           False             False           False   \n",
       "4            True           False             False           False   \n",
       "5            True           False             False           False   \n",
       "6            True           False             False           False   \n",
       "\n",
       "  raw_search_vehicle_description raw_result_of_contact_description  \n",
       "1                      No Search                          Citation  \n",
       "2                      No Search                          Citation  \n",
       "4                      No Search                          Citation  \n",
       "5                      No Search                          Citation  \n",
       "6                      No Search                          Citation  "
      ]
     },
     "execution_count": 126,
     "metadata": {},
     "output_type": "execute_result"
    }
   ],
   "source": [
    "SF.head()"
   ]
  },
  {
   "cell_type": "code",
   "execution_count": 127,
   "metadata": {},
   "outputs": [
    {
     "data": {
      "text/plain": [
       "array([2014, 2007, 2008, 2009, 2010, 2011, 2012, 2013, 2015, 2016],\n",
       "      dtype=int64)"
      ]
     },
     "execution_count": 127,
     "metadata": {},
     "output_type": "execute_result"
    }
   ],
   "source": [
    "SF['date'] = pd.to_datetime(SF['date'])\n",
    "SF['date']  = SF['date'] .apply(lambda x: x.year)\n",
    "SF.date.unique()"
   ]
  },
  {
   "cell_type": "code",
   "execution_count": 129,
   "metadata": {},
   "outputs": [],
   "source": [
    "df3 = pd.crosstab(SF['date'], 'count')\n",
    "df3\n",
    "df3 = df3.reset_index()"
   ]
  },
  {
   "cell_type": "code",
   "execution_count": 130,
   "metadata": {},
   "outputs": [
    {
     "data": {
      "text/html": [
       "<div>\n",
       "<style scoped>\n",
       "    .dataframe tbody tr th:only-of-type {\n",
       "        vertical-align: middle;\n",
       "    }\n",
       "\n",
       "    .dataframe tbody tr th {\n",
       "        vertical-align: top;\n",
       "    }\n",
       "\n",
       "    .dataframe thead th {\n",
       "        text-align: right;\n",
       "    }\n",
       "</style>\n",
       "<table border=\"1\" class=\"dataframe\">\n",
       "  <thead>\n",
       "    <tr style=\"text-align: right;\">\n",
       "      <th>col_0</th>\n",
       "      <th>date</th>\n",
       "      <th>count</th>\n",
       "    </tr>\n",
       "  </thead>\n",
       "  <tbody>\n",
       "    <tr>\n",
       "      <th>0</th>\n",
       "      <td>2007</td>\n",
       "      <td>76084</td>\n",
       "    </tr>\n",
       "    <tr>\n",
       "      <th>1</th>\n",
       "      <td>2008</td>\n",
       "      <td>79275</td>\n",
       "    </tr>\n",
       "    <tr>\n",
       "      <th>2</th>\n",
       "      <td>2009</td>\n",
       "      <td>76467</td>\n",
       "    </tr>\n",
       "    <tr>\n",
       "      <th>3</th>\n",
       "      <td>2010</td>\n",
       "      <td>72464</td>\n",
       "    </tr>\n",
       "    <tr>\n",
       "      <th>4</th>\n",
       "      <td>2011</td>\n",
       "      <td>69013</td>\n",
       "    </tr>\n",
       "    <tr>\n",
       "      <th>5</th>\n",
       "      <td>2012</td>\n",
       "      <td>56660</td>\n",
       "    </tr>\n",
       "    <tr>\n",
       "      <th>6</th>\n",
       "      <td>2013</td>\n",
       "      <td>50506</td>\n",
       "    </tr>\n",
       "    <tr>\n",
       "      <th>7</th>\n",
       "      <td>2014</td>\n",
       "      <td>65186</td>\n",
       "    </tr>\n",
       "    <tr>\n",
       "      <th>8</th>\n",
       "      <td>2015</td>\n",
       "      <td>58932</td>\n",
       "    </tr>\n",
       "    <tr>\n",
       "      <th>9</th>\n",
       "      <td>2016</td>\n",
       "      <td>27073</td>\n",
       "    </tr>\n",
       "  </tbody>\n",
       "</table>\n",
       "</div>"
      ],
      "text/plain": [
       "col_0  date  count\n",
       "0      2007  76084\n",
       "1      2008  79275\n",
       "2      2009  76467\n",
       "3      2010  72464\n",
       "4      2011  69013\n",
       "5      2012  56660\n",
       "6      2013  50506\n",
       "7      2014  65186\n",
       "8      2015  58932\n",
       "9      2016  27073"
      ]
     },
     "execution_count": 130,
     "metadata": {},
     "output_type": "execute_result"
    }
   ],
   "source": [
    "df3"
   ]
  },
  {
   "cell_type": "code",
   "execution_count": null,
   "metadata": {},
   "outputs": [],
   "source": []
  }
 ],
 "metadata": {
  "kernelspec": {
   "display_name": "Python 3",
   "language": "python",
   "name": "python3"
  },
  "language_info": {
   "codemirror_mode": {
    "name": "ipython",
    "version": 3
   },
   "file_extension": ".py",
   "mimetype": "text/x-python",
   "name": "python",
   "nbconvert_exporter": "python",
   "pygments_lexer": "ipython3",
   "version": "3.7.3"
  }
 },
 "nbformat": 4,
 "nbformat_minor": 2
}
