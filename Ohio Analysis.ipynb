{
 "cells": [
  {
   "cell_type": "code",
   "execution_count": 1,
   "metadata": {},
   "outputs": [],
   "source": [
    "import pandas as pd\n",
    "import numpy as np\n",
    "import statsmodels.formula.api as smf\n",
    "import matplotlib.pylab as plt\n",
    "import math\n",
    "from scipy import stats\n",
    "import geopandas as gpd\n",
    "%matplotlib inline"
   ]
  },
  {
   "cell_type": "code",
   "execution_count": 2,
   "metadata": {},
   "outputs": [],
   "source": [
    "import datetime\n",
    "from datetime import datetime"
   ]
  },
  {
   "cell_type": "code",
   "execution_count": null,
   "metadata": {},
   "outputs": [],
   "source": [
    "import csv\n",
    "\n",
    "def getstuff(filename, criterion):\n",
    "    with open(filename, \"r\") as csvfile:\n",
    "        datareader = csv.reader(csvfile)\n",
    "        yield next(datareader)  # yield the header row\n",
    "        count = 0\n",
    "        for row in datareader:\n",
    "            if row[3] == criterion:\n",
    "                yield row\n",
    "                count += 1\n",
    "            elif count:\n",
    "                # done when having read a consecutive series of rows \n",
    "                return"
   ]
  },
  {
   "cell_type": "code",
   "execution_count": null,
   "metadata": {},
   "outputs": [],
   "source": [
    "def getdata(filename, criteria):\n",
    "    for criterion in criteria:\n",
    "        for row in getstuff(filename, criterion):\n",
    "            yield row"
   ]
  },
  {
   "cell_type": "code",
   "execution_count": null,
   "metadata": {},
   "outputs": [],
   "source": [
    "#for row in getdata('CrashStatistics.csv', sequence_of_criteria):"
   ]
  },
  {
   "cell_type": "code",
   "execution_count": 1,
   "metadata": {},
   "outputs": [],
   "source": [
    "import pandas as pd\n",
    "import dask.dataframe as dd\n",
    "\n",
    "Ohio = dd.read_csv('CrashStatistics.csv', dtype={'LocalInformation': 'object', 'ReferenceRouteNumber': 'object', \n",
    "                    'OtherInvestigationTime': 'float64', 'DividedMedianType': 'object', 'CheckedByBadgeNumber': 'object'},\n",
    "                  low_memory=False)\n",
    "Ohio=Ohio.compute()"
   ]
  },
  {
   "cell_type": "code",
   "execution_count": 2,
   "metadata": {},
   "outputs": [
    {
     "data": {
      "text/html": [
       "<div>\n",
       "<style scoped>\n",
       "    .dataframe tbody tr th:only-of-type {\n",
       "        vertical-align: middle;\n",
       "    }\n",
       "\n",
       "    .dataframe tbody tr th {\n",
       "        vertical-align: top;\n",
       "    }\n",
       "\n",
       "    .dataframe thead th {\n",
       "        text-align: right;\n",
       "    }\n",
       "</style>\n",
       "<table border=\"1\" class=\"dataframe\">\n",
       "  <thead>\n",
       "    <tr style=\"text-align: right;\">\n",
       "      <th></th>\n",
       "      <th>LocalReportNumber</th>\n",
       "      <th>DocumentNumber</th>\n",
       "      <th>CrashSeverity</th>\n",
       "      <th>HitSkip</th>\n",
       "      <th>LocalInformation</th>\n",
       "      <th>SecondaryCrash</th>\n",
       "      <th>PhotosTaken</th>\n",
       "      <th>OH2</th>\n",
       "      <th>OH3</th>\n",
       "      <th>OH1P</th>\n",
       "      <th>...</th>\n",
       "      <th>PedestrianRelated</th>\n",
       "      <th>SemiTruckRelated</th>\n",
       "      <th>SmallTruckRelated</th>\n",
       "      <th>YouthRelated</th>\n",
       "      <th>TeenRelated</th>\n",
       "      <th>DUI21Related</th>\n",
       "      <th>SeniorRelated</th>\n",
       "      <th>FatalNotReportable</th>\n",
       "      <th>CommercialRelated</th>\n",
       "      <th>CommercialAtFault</th>\n",
       "    </tr>\n",
       "  </thead>\n",
       "  <tbody>\n",
       "    <tr>\n",
       "      <th>0</th>\n",
       "      <td>\\t1501010105</td>\n",
       "      <td>20154000002</td>\n",
       "      <td>Fatal</td>\n",
       "      <td>NaN</td>\n",
       "      <td>NaN</td>\n",
       "      <td>False</td>\n",
       "      <td>True</td>\n",
       "      <td>False</td>\n",
       "      <td>True</td>\n",
       "      <td>False</td>\n",
       "      <td>...</td>\n",
       "      <td>False</td>\n",
       "      <td>False</td>\n",
       "      <td>False</td>\n",
       "      <td>False</td>\n",
       "      <td>False</td>\n",
       "      <td>False</td>\n",
       "      <td>False</td>\n",
       "      <td>False</td>\n",
       "      <td>False</td>\n",
       "      <td>False</td>\n",
       "    </tr>\n",
       "    <tr>\n",
       "      <th>1</th>\n",
       "      <td>\\t150116</td>\n",
       "      <td>20154000003</td>\n",
       "      <td>Fatal</td>\n",
       "      <td>NaN</td>\n",
       "      <td>NaN</td>\n",
       "      <td>False</td>\n",
       "      <td>True</td>\n",
       "      <td>False</td>\n",
       "      <td>True</td>\n",
       "      <td>False</td>\n",
       "      <td>...</td>\n",
       "      <td>False</td>\n",
       "      <td>True</td>\n",
       "      <td>False</td>\n",
       "      <td>False</td>\n",
       "      <td>False</td>\n",
       "      <td>False</td>\n",
       "      <td>False</td>\n",
       "      <td>False</td>\n",
       "      <td>True</td>\n",
       "      <td>False</td>\n",
       "    </tr>\n",
       "    <tr>\n",
       "      <th>2</th>\n",
       "      <td>\\t201500861</td>\n",
       "      <td>20154000004</td>\n",
       "      <td>Fatal</td>\n",
       "      <td>NaN</td>\n",
       "      <td>NaN</td>\n",
       "      <td>False</td>\n",
       "      <td>True</td>\n",
       "      <td>True</td>\n",
       "      <td>True</td>\n",
       "      <td>False</td>\n",
       "      <td>...</td>\n",
       "      <td>True</td>\n",
       "      <td>False</td>\n",
       "      <td>False</td>\n",
       "      <td>True</td>\n",
       "      <td>False</td>\n",
       "      <td>False</td>\n",
       "      <td>False</td>\n",
       "      <td>False</td>\n",
       "      <td>False</td>\n",
       "      <td>False</td>\n",
       "    </tr>\n",
       "    <tr>\n",
       "      <th>3</th>\n",
       "      <td>\\t2015018</td>\n",
       "      <td>20154000005</td>\n",
       "      <td>Fatal</td>\n",
       "      <td>NaN</td>\n",
       "      <td>NaN</td>\n",
       "      <td>False</td>\n",
       "      <td>True</td>\n",
       "      <td>True</td>\n",
       "      <td>False</td>\n",
       "      <td>False</td>\n",
       "      <td>...</td>\n",
       "      <td>False</td>\n",
       "      <td>False</td>\n",
       "      <td>True</td>\n",
       "      <td>False</td>\n",
       "      <td>False</td>\n",
       "      <td>False</td>\n",
       "      <td>False</td>\n",
       "      <td>False</td>\n",
       "      <td>False</td>\n",
       "      <td>False</td>\n",
       "    </tr>\n",
       "    <tr>\n",
       "      <th>4</th>\n",
       "      <td>\\t15-00335</td>\n",
       "      <td>20154000006</td>\n",
       "      <td>Fatal</td>\n",
       "      <td>NaN</td>\n",
       "      <td>NaN</td>\n",
       "      <td>False</td>\n",
       "      <td>True</td>\n",
       "      <td>True</td>\n",
       "      <td>True</td>\n",
       "      <td>False</td>\n",
       "      <td>...</td>\n",
       "      <td>False</td>\n",
       "      <td>False</td>\n",
       "      <td>False</td>\n",
       "      <td>True</td>\n",
       "      <td>False</td>\n",
       "      <td>False</td>\n",
       "      <td>False</td>\n",
       "      <td>False</td>\n",
       "      <td>False</td>\n",
       "      <td>False</td>\n",
       "    </tr>\n",
       "  </tbody>\n",
       "</table>\n",
       "<p>5 rows × 88 columns</p>\n",
       "</div>"
      ],
      "text/plain": [
       "  LocalReportNumber  DocumentNumber CrashSeverity HitSkip LocalInformation  \\\n",
       "0      \\t1501010105     20154000002         Fatal     NaN              NaN   \n",
       "1          \\t150116     20154000003         Fatal     NaN              NaN   \n",
       "2       \\t201500861     20154000004         Fatal     NaN              NaN   \n",
       "3         \\t2015018     20154000005         Fatal     NaN              NaN   \n",
       "4        \\t15-00335     20154000006         Fatal     NaN              NaN   \n",
       "\n",
       "   SecondaryCrash  PhotosTaken    OH2    OH3   OH1P  ...  PedestrianRelated  \\\n",
       "0           False         True  False   True  False  ...              False   \n",
       "1           False         True  False   True  False  ...              False   \n",
       "2           False         True   True   True  False  ...               True   \n",
       "3           False         True   True  False  False  ...              False   \n",
       "4           False         True   True   True  False  ...              False   \n",
       "\n",
       "   SemiTruckRelated SmallTruckRelated  YouthRelated  TeenRelated DUI21Related  \\\n",
       "0             False             False         False        False        False   \n",
       "1              True             False         False        False        False   \n",
       "2             False             False          True        False        False   \n",
       "3             False              True         False        False        False   \n",
       "4             False             False          True        False        False   \n",
       "\n",
       "  SeniorRelated FatalNotReportable CommercialRelated  CommercialAtFault  \n",
       "0         False              False             False              False  \n",
       "1         False              False              True              False  \n",
       "2         False              False             False              False  \n",
       "3         False              False             False              False  \n",
       "4         False              False             False              False  \n",
       "\n",
       "[5 rows x 88 columns]"
      ]
     },
     "execution_count": 2,
     "metadata": {},
     "output_type": "execute_result"
    }
   ],
   "source": [
    "Ohio.head()"
   ]
  },
  {
   "cell_type": "code",
   "execution_count": 5,
   "metadata": {},
   "outputs": [
    {
     "data": {
      "text/plain": [
       "Index(['LocalReportNumber', 'DocumentNumber', 'CrashSeverity', 'HitSkip',\n",
       "       'LocalInformation', 'SecondaryCrash', 'PhotosTaken', 'OH2', 'OH3',\n",
       "       'OH1P', 'OHOther', 'PrivateProperty', 'ReportingAgencyNCIC',\n",
       "       'NumberOfUnits', 'UnitInError', 'County', 'InCityVillageTownship',\n",
       "       'CityVillageTownshipName', 'CrashDateTime', 'FIPSPlaceCode', 'Latitude',\n",
       "       'Longitude', 'LocationRouteType', 'LocationRouteNumber',\n",
       "       'LocationPrefix', 'LocationRoadName', 'LocationRoadType',\n",
       "       'DistanceFromReference', 'DistanceReferenceMeasurement',\n",
       "       'DirectionFromReference', 'ReferenceRouteType', 'ReferenceRouteNumber',\n",
       "       'ReferencePrefix', 'ReferenceName', 'ReferencePointUsed',\n",
       "       'ReferenceRoadType', 'IntersectionOrApproachRelated',\n",
       "       'NumberOfApproaches', 'WithinInterchangeArea',\n",
       "       'LocationFirstHarmfulEvent', 'MannerOfCollision', 'Weather',\n",
       "       'LightCondition', 'ActiveSchoolZoneRelated', 'WorkZoneRelated',\n",
       "       'WorkersPresent', 'LawEnforcementPresentInWorkZone', 'WorkZoneType',\n",
       "       'WorkZoneLocation', 'Narrative', 'ReportTakenBy', 'Supplement',\n",
       "       'CrashReportedDateTime', 'DispatchedDateTime', 'ArrivedDateTime',\n",
       "       'SceneClearedDateTime', 'OtherInvestigationTime',\n",
       "       'TotalTimeRoadwayClosed', 'OfficerName', 'OfficerBadgeNumber',\n",
       "       'CheckedByOfficerName', 'CheckedByBadgeNumber', 'RoadwayDivided',\n",
       "       'DividedLaneTravelDirection', 'DividedMedianType', 'RoadContour',\n",
       "       'RoadCondition', 'RoadSurface', 'TotalInjured', 'TotalKilled',\n",
       "       'TotalMinutes', 'AnimalRelated', 'AnimalDeerRelated', 'AlcoholRelated',\n",
       "       'DrugRelated', 'BicycleRelated', 'MotorCycleRelated', 'SpeedRelated',\n",
       "       'PedestrianRelated', 'SemiTruckRelated', 'SmallTruckRelated',\n",
       "       'YouthRelated', 'TeenRelated', 'DUI21Related', 'SeniorRelated',\n",
       "       'FatalNotReportable', 'CommercialRelated', 'CommercialAtFault'],\n",
       "      dtype='object')"
      ]
     },
     "execution_count": 5,
     "metadata": {},
     "output_type": "execute_result"
    }
   ],
   "source": [
    "(Ohio.columns)"
   ]
  },
  {
   "cell_type": "code",
   "execution_count": 6,
   "metadata": {},
   "outputs": [
    {
     "data": {
      "text/plain": [
       "2960589"
      ]
     },
     "execution_count": 6,
     "metadata": {},
     "output_type": "execute_result"
    }
   ],
   "source": [
    "len(Ohio)"
   ]
  },
  {
   "cell_type": "code",
   "execution_count": 3,
   "metadata": {},
   "outputs": [],
   "source": [
    "y = Ohio.dropna(axis=1)"
   ]
  },
  {
   "cell_type": "code",
   "execution_count": 8,
   "metadata": {},
   "outputs": [
    {
     "data": {
      "text/plain": [
       "2960589"
      ]
     },
     "execution_count": 8,
     "metadata": {},
     "output_type": "execute_result"
    }
   ],
   "source": [
    "len(y)"
   ]
  },
  {
   "cell_type": "code",
   "execution_count": 9,
   "metadata": {},
   "outputs": [
    {
     "data": {
      "text/plain": [
       "55"
      ]
     },
     "execution_count": 9,
     "metadata": {},
     "output_type": "execute_result"
    }
   ],
   "source": [
    "len(y.columns)"
   ]
  },
  {
   "cell_type": "code",
   "execution_count": 10,
   "metadata": {},
   "outputs": [
    {
     "data": {
      "text/html": [
       "<div>\n",
       "<style scoped>\n",
       "    .dataframe tbody tr th:only-of-type {\n",
       "        vertical-align: middle;\n",
       "    }\n",
       "\n",
       "    .dataframe tbody tr th {\n",
       "        vertical-align: top;\n",
       "    }\n",
       "\n",
       "    .dataframe thead th {\n",
       "        text-align: right;\n",
       "    }\n",
       "</style>\n",
       "<table border=\"1\" class=\"dataframe\">\n",
       "  <thead>\n",
       "    <tr style=\"text-align: right;\">\n",
       "      <th></th>\n",
       "      <th>LocalReportNumber</th>\n",
       "      <th>DocumentNumber</th>\n",
       "      <th>CrashSeverity</th>\n",
       "      <th>SecondaryCrash</th>\n",
       "      <th>PhotosTaken</th>\n",
       "      <th>OH2</th>\n",
       "      <th>OH3</th>\n",
       "      <th>OH1P</th>\n",
       "      <th>OHOther</th>\n",
       "      <th>PrivateProperty</th>\n",
       "      <th>...</th>\n",
       "      <th>PedestrianRelated</th>\n",
       "      <th>SemiTruckRelated</th>\n",
       "      <th>SmallTruckRelated</th>\n",
       "      <th>YouthRelated</th>\n",
       "      <th>TeenRelated</th>\n",
       "      <th>DUI21Related</th>\n",
       "      <th>SeniorRelated</th>\n",
       "      <th>FatalNotReportable</th>\n",
       "      <th>CommercialRelated</th>\n",
       "      <th>CommercialAtFault</th>\n",
       "    </tr>\n",
       "  </thead>\n",
       "  <tbody>\n",
       "    <tr>\n",
       "      <th>0</th>\n",
       "      <td>\\t1501010105</td>\n",
       "      <td>20154000002</td>\n",
       "      <td>Fatal</td>\n",
       "      <td>False</td>\n",
       "      <td>True</td>\n",
       "      <td>False</td>\n",
       "      <td>True</td>\n",
       "      <td>False</td>\n",
       "      <td>True</td>\n",
       "      <td>False</td>\n",
       "      <td>...</td>\n",
       "      <td>False</td>\n",
       "      <td>False</td>\n",
       "      <td>False</td>\n",
       "      <td>False</td>\n",
       "      <td>False</td>\n",
       "      <td>False</td>\n",
       "      <td>False</td>\n",
       "      <td>False</td>\n",
       "      <td>False</td>\n",
       "      <td>False</td>\n",
       "    </tr>\n",
       "    <tr>\n",
       "      <th>1</th>\n",
       "      <td>\\t150116</td>\n",
       "      <td>20154000003</td>\n",
       "      <td>Fatal</td>\n",
       "      <td>False</td>\n",
       "      <td>True</td>\n",
       "      <td>False</td>\n",
       "      <td>True</td>\n",
       "      <td>False</td>\n",
       "      <td>True</td>\n",
       "      <td>False</td>\n",
       "      <td>...</td>\n",
       "      <td>False</td>\n",
       "      <td>True</td>\n",
       "      <td>False</td>\n",
       "      <td>False</td>\n",
       "      <td>False</td>\n",
       "      <td>False</td>\n",
       "      <td>False</td>\n",
       "      <td>False</td>\n",
       "      <td>True</td>\n",
       "      <td>False</td>\n",
       "    </tr>\n",
       "    <tr>\n",
       "      <th>2</th>\n",
       "      <td>\\t201500861</td>\n",
       "      <td>20154000004</td>\n",
       "      <td>Fatal</td>\n",
       "      <td>False</td>\n",
       "      <td>True</td>\n",
       "      <td>True</td>\n",
       "      <td>True</td>\n",
       "      <td>False</td>\n",
       "      <td>False</td>\n",
       "      <td>False</td>\n",
       "      <td>...</td>\n",
       "      <td>True</td>\n",
       "      <td>False</td>\n",
       "      <td>False</td>\n",
       "      <td>True</td>\n",
       "      <td>False</td>\n",
       "      <td>False</td>\n",
       "      <td>False</td>\n",
       "      <td>False</td>\n",
       "      <td>False</td>\n",
       "      <td>False</td>\n",
       "    </tr>\n",
       "    <tr>\n",
       "      <th>3</th>\n",
       "      <td>\\t2015018</td>\n",
       "      <td>20154000005</td>\n",
       "      <td>Fatal</td>\n",
       "      <td>False</td>\n",
       "      <td>True</td>\n",
       "      <td>True</td>\n",
       "      <td>False</td>\n",
       "      <td>False</td>\n",
       "      <td>False</td>\n",
       "      <td>False</td>\n",
       "      <td>...</td>\n",
       "      <td>False</td>\n",
       "      <td>False</td>\n",
       "      <td>True</td>\n",
       "      <td>False</td>\n",
       "      <td>False</td>\n",
       "      <td>False</td>\n",
       "      <td>False</td>\n",
       "      <td>False</td>\n",
       "      <td>False</td>\n",
       "      <td>False</td>\n",
       "    </tr>\n",
       "    <tr>\n",
       "      <th>4</th>\n",
       "      <td>\\t15-00335</td>\n",
       "      <td>20154000006</td>\n",
       "      <td>Fatal</td>\n",
       "      <td>False</td>\n",
       "      <td>True</td>\n",
       "      <td>True</td>\n",
       "      <td>True</td>\n",
       "      <td>False</td>\n",
       "      <td>False</td>\n",
       "      <td>False</td>\n",
       "      <td>...</td>\n",
       "      <td>False</td>\n",
       "      <td>False</td>\n",
       "      <td>False</td>\n",
       "      <td>True</td>\n",
       "      <td>False</td>\n",
       "      <td>False</td>\n",
       "      <td>False</td>\n",
       "      <td>False</td>\n",
       "      <td>False</td>\n",
       "      <td>False</td>\n",
       "    </tr>\n",
       "  </tbody>\n",
       "</table>\n",
       "<p>5 rows × 55 columns</p>\n",
       "</div>"
      ],
      "text/plain": [
       "  LocalReportNumber  DocumentNumber CrashSeverity  SecondaryCrash  \\\n",
       "0      \\t1501010105     20154000002         Fatal           False   \n",
       "1          \\t150116     20154000003         Fatal           False   \n",
       "2       \\t201500861     20154000004         Fatal           False   \n",
       "3         \\t2015018     20154000005         Fatal           False   \n",
       "4        \\t15-00335     20154000006         Fatal           False   \n",
       "\n",
       "   PhotosTaken    OH2    OH3   OH1P  OHOther  PrivateProperty  ...  \\\n",
       "0         True  False   True  False     True            False  ...   \n",
       "1         True  False   True  False     True            False  ...   \n",
       "2         True   True   True  False    False            False  ...   \n",
       "3         True   True  False  False    False            False  ...   \n",
       "4         True   True   True  False    False            False  ...   \n",
       "\n",
       "  PedestrianRelated  SemiTruckRelated  SmallTruckRelated YouthRelated  \\\n",
       "0             False             False              False        False   \n",
       "1             False              True              False        False   \n",
       "2              True             False              False         True   \n",
       "3             False             False               True        False   \n",
       "4             False             False              False         True   \n",
       "\n",
       "  TeenRelated DUI21Related  SeniorRelated FatalNotReportable  \\\n",
       "0       False        False          False              False   \n",
       "1       False        False          False              False   \n",
       "2       False        False          False              False   \n",
       "3       False        False          False              False   \n",
       "4       False        False          False              False   \n",
       "\n",
       "   CommercialRelated  CommercialAtFault  \n",
       "0              False              False  \n",
       "1               True              False  \n",
       "2              False              False  \n",
       "3              False              False  \n",
       "4              False              False  \n",
       "\n",
       "[5 rows x 55 columns]"
      ]
     },
     "execution_count": 10,
     "metadata": {},
     "output_type": "execute_result"
    }
   ],
   "source": [
    "y.head()"
   ]
  },
  {
   "cell_type": "code",
   "execution_count": 4,
   "metadata": {},
   "outputs": [],
   "source": [
    "y = y[['LocalReportNumber', 'CrashReportedDateTime']]"
   ]
  },
  {
   "cell_type": "code",
   "execution_count": 5,
   "metadata": {},
   "outputs": [],
   "source": [
    "x=y"
   ]
  },
  {
   "cell_type": "code",
   "execution_count": 6,
   "metadata": {},
   "outputs": [
    {
     "data": {
      "text/html": [
       "<div>\n",
       "<style scoped>\n",
       "    .dataframe tbody tr th:only-of-type {\n",
       "        vertical-align: middle;\n",
       "    }\n",
       "\n",
       "    .dataframe tbody tr th {\n",
       "        vertical-align: top;\n",
       "    }\n",
       "\n",
       "    .dataframe thead th {\n",
       "        text-align: right;\n",
       "    }\n",
       "</style>\n",
       "<table border=\"1\" class=\"dataframe\">\n",
       "  <thead>\n",
       "    <tr style=\"text-align: right;\">\n",
       "      <th></th>\n",
       "      <th>LocalReportNumber</th>\n",
       "      <th>CrashReportedDateTime</th>\n",
       "    </tr>\n",
       "  </thead>\n",
       "  <tbody>\n",
       "    <tr>\n",
       "      <th>0</th>\n",
       "      <td>\\t1501010105</td>\n",
       "      <td>1/1/2015 3:05:00 PM</td>\n",
       "    </tr>\n",
       "    <tr>\n",
       "      <th>1</th>\n",
       "      <td>\\t150116</td>\n",
       "      <td>1/13/2015 10:21:00 AM</td>\n",
       "    </tr>\n",
       "    <tr>\n",
       "      <th>2</th>\n",
       "      <td>\\t201500861</td>\n",
       "      <td>1/7/2015 9:34:00 PM</td>\n",
       "    </tr>\n",
       "    <tr>\n",
       "      <th>3</th>\n",
       "      <td>\\t2015018</td>\n",
       "      <td>1/11/2015 4:36:00 AM</td>\n",
       "    </tr>\n",
       "    <tr>\n",
       "      <th>4</th>\n",
       "      <td>\\t15-00335</td>\n",
       "      <td>1/7/2015 10:51:00 PM</td>\n",
       "    </tr>\n",
       "  </tbody>\n",
       "</table>\n",
       "</div>"
      ],
      "text/plain": [
       "  LocalReportNumber  CrashReportedDateTime\n",
       "0      \\t1501010105    1/1/2015 3:05:00 PM\n",
       "1          \\t150116  1/13/2015 10:21:00 AM\n",
       "2       \\t201500861    1/7/2015 9:34:00 PM\n",
       "3         \\t2015018   1/11/2015 4:36:00 AM\n",
       "4        \\t15-00335   1/7/2015 10:51:00 PM"
      ]
     },
     "execution_count": 6,
     "metadata": {},
     "output_type": "execute_result"
    }
   ],
   "source": [
    "x.head()"
   ]
  },
  {
   "cell_type": "code",
   "execution_count": 7,
   "metadata": {},
   "outputs": [],
   "source": [
    "from datetime import datetime"
   ]
  },
  {
   "cell_type": "code",
   "execution_count": 8,
   "metadata": {},
   "outputs": [],
   "source": [
    "x['CrashReportedDateTime'] = pd.to_datetime(x['CrashReportedDateTime'])\n",
    "\n",
    "\n",
    "#x.CrashReportedDateTime.map(lambda x: x.strftime('%Y-%m-%d'))\n",
    "\n",
    "\n",
    "#x['CrashReportedDateTime'] = y['CrashReportedDateTime'].to_pydatetime()\n",
    "#datetime.strptime(y['CrashReportedDateTime'], '%m/%d/%Y %H:%M:%S.%f')\n",
    "#t.to_pydatetime()"
   ]
  },
  {
   "cell_type": "code",
   "execution_count": null,
   "metadata": {},
   "outputs": [],
   "source": [
    "x.head()"
   ]
  },
  {
   "cell_type": "code",
   "execution_count": 9,
   "metadata": {},
   "outputs": [],
   "source": [
    "x['CrashReportedDateTime'] = x['CrashReportedDateTime'].dt.date\n",
    "\n",
    "#df['date_only'] = df['date_time_column'].dt.date"
   ]
  },
  {
   "cell_type": "code",
   "execution_count": 10,
   "metadata": {},
   "outputs": [],
   "source": [
    "x['CrashReportedDateTime'] = x['CrashReportedDateTime'].apply(lambda x: x.year)\n",
    "\n",
    "#x['CrashReportedDateTime'] = x['CrashReportedDateTime'].dt.year"
   ]
  },
  {
   "cell_type": "code",
   "execution_count": null,
   "metadata": {},
   "outputs": [],
   "source": [
    "x.CrashReportedDateTime.unique()"
   ]
  },
  {
   "cell_type": "code",
   "execution_count": null,
   "metadata": {},
   "outputs": [],
   "source": [
    "#x.to_csv('OhioCrashYears.csv', index = False, header=True)"
   ]
  },
  {
   "cell_type": "code",
   "execution_count": 3,
   "metadata": {},
   "outputs": [],
   "source": [
    "x = pd.read_csv('OhioCrashYears.csv')"
   ]
  },
  {
   "cell_type": "code",
   "execution_count": 4,
   "metadata": {},
   "outputs": [
    {
     "data": {
      "text/html": [
       "<div>\n",
       "<style scoped>\n",
       "    .dataframe tbody tr th:only-of-type {\n",
       "        vertical-align: middle;\n",
       "    }\n",
       "\n",
       "    .dataframe tbody tr th {\n",
       "        vertical-align: top;\n",
       "    }\n",
       "\n",
       "    .dataframe thead th {\n",
       "        text-align: right;\n",
       "    }\n",
       "</style>\n",
       "<table border=\"1\" class=\"dataframe\">\n",
       "  <thead>\n",
       "    <tr style=\"text-align: right;\">\n",
       "      <th></th>\n",
       "      <th>LocalReportNumber</th>\n",
       "      <th>CrashReportedDateTime</th>\n",
       "    </tr>\n",
       "  </thead>\n",
       "  <tbody>\n",
       "    <tr>\n",
       "      <th>0</th>\n",
       "      <td>\\t1501010105</td>\n",
       "      <td>2015</td>\n",
       "    </tr>\n",
       "    <tr>\n",
       "      <th>1</th>\n",
       "      <td>\\t150116</td>\n",
       "      <td>2015</td>\n",
       "    </tr>\n",
       "    <tr>\n",
       "      <th>2</th>\n",
       "      <td>\\t201500861</td>\n",
       "      <td>2015</td>\n",
       "    </tr>\n",
       "    <tr>\n",
       "      <th>3</th>\n",
       "      <td>\\t2015018</td>\n",
       "      <td>2015</td>\n",
       "    </tr>\n",
       "    <tr>\n",
       "      <th>4</th>\n",
       "      <td>\\t15-00335</td>\n",
       "      <td>2015</td>\n",
       "    </tr>\n",
       "  </tbody>\n",
       "</table>\n",
       "</div>"
      ],
      "text/plain": [
       "  LocalReportNumber  CrashReportedDateTime\n",
       "0      \\t1501010105                   2015\n",
       "1          \\t150116                   2015\n",
       "2       \\t201500861                   2015\n",
       "3         \\t2015018                   2015\n",
       "4        \\t15-00335                   2015"
      ]
     },
     "execution_count": 4,
     "metadata": {},
     "output_type": "execute_result"
    }
   ],
   "source": [
    "x.head()"
   ]
  },
  {
   "cell_type": "code",
   "execution_count": 5,
   "metadata": {},
   "outputs": [
    {
     "data": {
      "text/html": [
       "<div>\n",
       "<style scoped>\n",
       "    .dataframe tbody tr th:only-of-type {\n",
       "        vertical-align: middle;\n",
       "    }\n",
       "\n",
       "    .dataframe tbody tr th {\n",
       "        vertical-align: top;\n",
       "    }\n",
       "\n",
       "    .dataframe thead th {\n",
       "        text-align: right;\n",
       "    }\n",
       "</style>\n",
       "<table border=\"1\" class=\"dataframe\">\n",
       "  <thead>\n",
       "    <tr style=\"text-align: right;\">\n",
       "      <th>col_0</th>\n",
       "      <th>count</th>\n",
       "    </tr>\n",
       "    <tr>\n",
       "      <th>CrashReportedDateTime</th>\n",
       "      <th></th>\n",
       "    </tr>\n",
       "  </thead>\n",
       "  <tbody>\n",
       "    <tr>\n",
       "      <th>2015</th>\n",
       "      <td>605268</td>\n",
       "    </tr>\n",
       "    <tr>\n",
       "      <th>2016</th>\n",
       "      <td>612904</td>\n",
       "    </tr>\n",
       "    <tr>\n",
       "      <th>2017</th>\n",
       "      <td>608782</td>\n",
       "    </tr>\n",
       "    <tr>\n",
       "      <th>2018</th>\n",
       "      <td>599478</td>\n",
       "    </tr>\n",
       "    <tr>\n",
       "      <th>2019</th>\n",
       "      <td>533513</td>\n",
       "    </tr>\n",
       "    <tr>\n",
       "      <th>2020</th>\n",
       "      <td>644</td>\n",
       "    </tr>\n",
       "  </tbody>\n",
       "</table>\n",
       "</div>"
      ],
      "text/plain": [
       "col_0                   count\n",
       "CrashReportedDateTime        \n",
       "2015                   605268\n",
       "2016                   612904\n",
       "2017                   608782\n",
       "2018                   599478\n",
       "2019                   533513\n",
       "2020                      644"
      ]
     },
     "execution_count": 5,
     "metadata": {},
     "output_type": "execute_result"
    }
   ],
   "source": [
    "df1 = pd.crosstab(x['CrashReportedDateTime'], 'count')\n",
    "df1"
   ]
  },
  {
   "cell_type": "code",
   "execution_count": 6,
   "metadata": {},
   "outputs": [],
   "source": [
    "df1 = df1.reset_index()"
   ]
  },
  {
   "cell_type": "code",
   "execution_count": 7,
   "metadata": {},
   "outputs": [
    {
     "data": {
      "text/html": [
       "<div>\n",
       "<style scoped>\n",
       "    .dataframe tbody tr th:only-of-type {\n",
       "        vertical-align: middle;\n",
       "    }\n",
       "\n",
       "    .dataframe tbody tr th {\n",
       "        vertical-align: top;\n",
       "    }\n",
       "\n",
       "    .dataframe thead th {\n",
       "        text-align: right;\n",
       "    }\n",
       "</style>\n",
       "<table border=\"1\" class=\"dataframe\">\n",
       "  <thead>\n",
       "    <tr style=\"text-align: right;\">\n",
       "      <th>col_0</th>\n",
       "      <th>CrashReportedDateTime</th>\n",
       "      <th>count</th>\n",
       "    </tr>\n",
       "  </thead>\n",
       "  <tbody>\n",
       "    <tr>\n",
       "      <th>0</th>\n",
       "      <td>2015</td>\n",
       "      <td>605268</td>\n",
       "    </tr>\n",
       "    <tr>\n",
       "      <th>1</th>\n",
       "      <td>2016</td>\n",
       "      <td>612904</td>\n",
       "    </tr>\n",
       "    <tr>\n",
       "      <th>2</th>\n",
       "      <td>2017</td>\n",
       "      <td>608782</td>\n",
       "    </tr>\n",
       "    <tr>\n",
       "      <th>3</th>\n",
       "      <td>2018</td>\n",
       "      <td>599478</td>\n",
       "    </tr>\n",
       "    <tr>\n",
       "      <th>4</th>\n",
       "      <td>2019</td>\n",
       "      <td>533513</td>\n",
       "    </tr>\n",
       "  </tbody>\n",
       "</table>\n",
       "</div>"
      ],
      "text/plain": [
       "col_0  CrashReportedDateTime   count\n",
       "0                       2015  605268\n",
       "1                       2016  612904\n",
       "2                       2017  608782\n",
       "3                       2018  599478\n",
       "4                       2019  533513"
      ]
     },
     "execution_count": 7,
     "metadata": {},
     "output_type": "execute_result"
    }
   ],
   "source": [
    "df1.head()"
   ]
  },
  {
   "cell_type": "code",
   "execution_count": 8,
   "metadata": {},
   "outputs": [],
   "source": [
    "Population = [11617527, 11634370, 11659650, 11676341, 11689100, 11690000]"
   ]
  },
  {
   "cell_type": "code",
   "execution_count": 9,
   "metadata": {},
   "outputs": [
    {
     "data": {
      "text/plain": [
       "6"
      ]
     },
     "execution_count": 9,
     "metadata": {},
     "output_type": "execute_result"
    }
   ],
   "source": [
    "len(Population)"
   ]
  },
  {
   "cell_type": "code",
   "execution_count": 10,
   "metadata": {},
   "outputs": [],
   "source": [
    "df1['Population'] = Population\n",
    "df1['Crashes_Normalized'] = df1['count']/df1['Population']"
   ]
  },
  {
   "cell_type": "code",
   "execution_count": 11,
   "metadata": {},
   "outputs": [
    {
     "data": {
      "text/html": [
       "<div>\n",
       "<style scoped>\n",
       "    .dataframe tbody tr th:only-of-type {\n",
       "        vertical-align: middle;\n",
       "    }\n",
       "\n",
       "    .dataframe tbody tr th {\n",
       "        vertical-align: top;\n",
       "    }\n",
       "\n",
       "    .dataframe thead th {\n",
       "        text-align: right;\n",
       "    }\n",
       "</style>\n",
       "<table border=\"1\" class=\"dataframe\">\n",
       "  <thead>\n",
       "    <tr style=\"text-align: right;\">\n",
       "      <th>col_0</th>\n",
       "      <th>CrashReportedDateTime</th>\n",
       "      <th>count</th>\n",
       "      <th>Population</th>\n",
       "      <th>Crashes_Normalized</th>\n",
       "    </tr>\n",
       "  </thead>\n",
       "  <tbody>\n",
       "    <tr>\n",
       "      <th>0</th>\n",
       "      <td>2015</td>\n",
       "      <td>605268</td>\n",
       "      <td>11617527</td>\n",
       "      <td>0.052100</td>\n",
       "    </tr>\n",
       "    <tr>\n",
       "      <th>1</th>\n",
       "      <td>2016</td>\n",
       "      <td>612904</td>\n",
       "      <td>11634370</td>\n",
       "      <td>0.052680</td>\n",
       "    </tr>\n",
       "    <tr>\n",
       "      <th>2</th>\n",
       "      <td>2017</td>\n",
       "      <td>608782</td>\n",
       "      <td>11659650</td>\n",
       "      <td>0.052213</td>\n",
       "    </tr>\n",
       "    <tr>\n",
       "      <th>3</th>\n",
       "      <td>2018</td>\n",
       "      <td>599478</td>\n",
       "      <td>11676341</td>\n",
       "      <td>0.051341</td>\n",
       "    </tr>\n",
       "    <tr>\n",
       "      <th>4</th>\n",
       "      <td>2019</td>\n",
       "      <td>533513</td>\n",
       "      <td>11689100</td>\n",
       "      <td>0.045642</td>\n",
       "    </tr>\n",
       "  </tbody>\n",
       "</table>\n",
       "</div>"
      ],
      "text/plain": [
       "col_0  CrashReportedDateTime   count  Population  Crashes_Normalized\n",
       "0                       2015  605268    11617527            0.052100\n",
       "1                       2016  612904    11634370            0.052680\n",
       "2                       2017  608782    11659650            0.052213\n",
       "3                       2018  599478    11676341            0.051341\n",
       "4                       2019  533513    11689100            0.045642"
      ]
     },
     "execution_count": 11,
     "metadata": {},
     "output_type": "execute_result"
    }
   ],
   "source": [
    "df1.head()"
   ]
  },
  {
   "cell_type": "code",
   "execution_count": 12,
   "metadata": {},
   "outputs": [],
   "source": [
    "df2 = df1.iloc[0:5,]"
   ]
  },
  {
   "cell_type": "code",
   "execution_count": 13,
   "metadata": {},
   "outputs": [
    {
     "data": {
      "text/html": [
       "<div>\n",
       "<style scoped>\n",
       "    .dataframe tbody tr th:only-of-type {\n",
       "        vertical-align: middle;\n",
       "    }\n",
       "\n",
       "    .dataframe tbody tr th {\n",
       "        vertical-align: top;\n",
       "    }\n",
       "\n",
       "    .dataframe thead th {\n",
       "        text-align: right;\n",
       "    }\n",
       "</style>\n",
       "<table border=\"1\" class=\"dataframe\">\n",
       "  <thead>\n",
       "    <tr style=\"text-align: right;\">\n",
       "      <th>col_0</th>\n",
       "      <th>CrashReportedDateTime</th>\n",
       "      <th>count</th>\n",
       "      <th>Population</th>\n",
       "      <th>Crashes_Normalized</th>\n",
       "    </tr>\n",
       "  </thead>\n",
       "  <tbody>\n",
       "    <tr>\n",
       "      <th>0</th>\n",
       "      <td>2015</td>\n",
       "      <td>605268</td>\n",
       "      <td>11617527</td>\n",
       "      <td>0.052100</td>\n",
       "    </tr>\n",
       "    <tr>\n",
       "      <th>1</th>\n",
       "      <td>2016</td>\n",
       "      <td>612904</td>\n",
       "      <td>11634370</td>\n",
       "      <td>0.052680</td>\n",
       "    </tr>\n",
       "    <tr>\n",
       "      <th>2</th>\n",
       "      <td>2017</td>\n",
       "      <td>608782</td>\n",
       "      <td>11659650</td>\n",
       "      <td>0.052213</td>\n",
       "    </tr>\n",
       "    <tr>\n",
       "      <th>3</th>\n",
       "      <td>2018</td>\n",
       "      <td>599478</td>\n",
       "      <td>11676341</td>\n",
       "      <td>0.051341</td>\n",
       "    </tr>\n",
       "    <tr>\n",
       "      <th>4</th>\n",
       "      <td>2019</td>\n",
       "      <td>533513</td>\n",
       "      <td>11689100</td>\n",
       "      <td>0.045642</td>\n",
       "    </tr>\n",
       "  </tbody>\n",
       "</table>\n",
       "</div>"
      ],
      "text/plain": [
       "col_0  CrashReportedDateTime   count  Population  Crashes_Normalized\n",
       "0                       2015  605268    11617527            0.052100\n",
       "1                       2016  612904    11634370            0.052680\n",
       "2                       2017  608782    11659650            0.052213\n",
       "3                       2018  599478    11676341            0.051341\n",
       "4                       2019  533513    11689100            0.045642"
      ]
     },
     "execution_count": 13,
     "metadata": {},
     "output_type": "execute_result"
    }
   ],
   "source": [
    "df2"
   ]
  },
  {
   "cell_type": "code",
   "execution_count": 14,
   "metadata": {},
   "outputs": [
    {
     "data": {
      "image/png": "[encoded data removed]",
      "text/plain": [
       "<Figure size 432x288 with 1 Axes>"
      ]
     },
     "metadata": {
      "needs_background": "light"
     },
     "output_type": "display_data"
    }
   ],
   "source": [
    "import matplotlib.pylab as plt\n",
    "%matplotlib inline\n",
    "\n",
    "# your code here\n",
    "#Plotting the depth vs accuracy\n",
    "fig, ax = plt.subplots() #get axis to plot on\n",
    "df2.plot(ax=ax,x='CrashReportedDateTime',y='count')#, yticks=np.arange(0, 650000, step=500000) #show the data\n",
    "plt.ylabel('Total Crashes Per Year')\n",
    "plt.show()"
   ]
  },
  {
   "cell_type": "code",
   "execution_count": 15,
   "metadata": {},
   "outputs": [
    {
     "data": {
      "image/png": "[encoded data removed]",
      "text/plain": [
       "<Figure size 432x288 with 1 Axes>"
      ]
     },
     "metadata": {
      "needs_background": "light"
     },
     "output_type": "display_data"
    }
   ],
   "source": [
    "import matplotlib.pylab as plt\n",
    "%matplotlib inline\n",
    "\n",
    "# your code here\n",
    "#Plotting the depth vs accuracy\n",
    "fig, ax = plt.subplots() #get axis to plot on\n",
    "df2.plot(ax=ax,x='CrashReportedDateTime',y='Crashes_Normalized', title='Ohio crashes Normalized') #show the data\n",
    "plt.ylabel('Crashes Per Population')\n",
    "plt.show()"
   ]
  },
  {
   "cell_type": "code",
   "execution_count": null,
   "metadata": {},
   "outputs": [],
   "source": []
  }
 ],
 "metadata": {
  "kernelspec": {
   "display_name": "Python 3",
   "language": "python",
   "name": "python3"
  },
  "language_info": {
   "codemirror_mode": {
    "name": "ipython",
    "version": 3
   },
   "file_extension": ".py",
   "mimetype": "text/x-python",
   "name": "python",
   "nbconvert_exporter": "python",
   "pygments_lexer": "ipython3",
   "version": "3.7.3"
  }
 },
 "nbformat": 4,
 "nbformat_minor": 2
}
